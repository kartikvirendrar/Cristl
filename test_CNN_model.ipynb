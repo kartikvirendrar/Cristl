{
  "nbformat": 4,
  "nbformat_minor": 0,
  "metadata": {
    "colab": {
      "name": "Human Activity Recognition Accelerometer.ipynb",
      "provenance": [],
      "collapsed_sections": [],
      "include_colab_link": true
    },
    "kernelspec": {
      "name": "python3",
      "display_name": "Python 3"
    },
    "language_info": {
      "name": "python"
    }
  },
  "cells": [
    {
      "cell_type": "markdown",
      "metadata": {
        "id": "view-in-github",
        "colab_type": "text"
      },
      "source": [
        "<a href=\"https://colab.research.google.com/github/AMEYABHAVE/Cristl/blob/main/test_CNN_model.ipynb\" target=\"_parent\"><img src=\"https://colab.research.google.com/assets/colab-badge.svg\" alt=\"Open In Colab\"/></a>"
      ]
    },
    {
      "cell_type": "code",
      "metadata": {
        "colab": {
          "base_uri": "https://localhost:8080/"
        },
        "id": "BhdmLvLFcmVR",
        "outputId": "c12195a8-f9bc-4db9-fce6-4ab4d362544a"
      },
      "source": [
        "import tensorflow as tf\n",
        "from tensorflow.keras import Sequential\n",
        "from tensorflow.keras.layers import Flatten, Dense, Dropout, BatchNormalization\n",
        "from tensorflow.keras.layers import Conv2D, MaxPool2D\n",
        "from tensorflow.keras.optimizers import Adam\n",
        "print(tf.__version__)"
      ],
      "execution_count": null,
      "outputs": [
        {
          "output_type": "stream",
          "name": "stdout",
          "text": [
            "2.6.0\n"
          ]
        }
      ]
    },
    {
      "cell_type": "code",
      "metadata": {
        "id": "Tlteb_NUc103"
      },
      "source": [
        "from google.colab import drive\n",
        "import pandas as pd\n",
        "file_location = '/content/drive/MyDrive/accelerometer.csv'\n",
        "accelerometer =pd.read_csv(file_location)\n",
        "accelerometer.drop(columns=['time','repetition','uuid'], inplace=True)\n",
        "accchair= accelerometer[accelerometer['activity'] == 'CHAIR'].head(22743)\n",
        "acccouch= accelerometer[accelerometer['activity'] == 'COUCH'].head(22743)\n",
        "acclyingside= accelerometer[accelerometer['activity'] == 'LYING_SIDE'].head(22743)\n",
        "accwalk= accelerometer[accelerometer['activity'] == 'WALKING'].head(22743)\n",
        "accdown= accelerometer[accelerometer['activity'] == 'DOWNSTAIRS'].head(22743)\n",
        "accup= accelerometer[accelerometer['activity'] == 'UPSTAIRS'].head(22743)\n",
        "accrunning= accelerometer[accelerometer['activity'] == 'RUNNING']\n",
        "accstanding= accelerometer[accelerometer['activity'] == 'STANDING'].head(22743)\n",
        "acclyingup= accelerometer[accelerometer['activity'] == 'LYING_UP'].head(22743)\n",
        "\n",
        "accdataset = pd.DataFrame()\n",
        "accdataset = accdataset.append([accchair, acclyingside, acclyingup, accrunning])\n",
        "#accdataset = accdataset.append([accchair, acccouch, acclyingside, accwalk, accdown, accup, accstanding, acclyingup, accrunning])"
      ],
      "execution_count": null,
      "outputs": []
    },
    {
      "cell_type": "code",
      "metadata": {
        "colab": {
          "base_uri": "https://localhost:8080/"
        },
        "id": "OAi32HfrfWwb",
        "outputId": "2a576002-0684-428d-f286-f721af490caa"
      },
      "source": [
        "accdataset['activity'].value_counts()"
      ],
      "execution_count": null,
      "outputs": [
        {
          "output_type": "execute_result",
          "data": {
            "text/plain": [
              "LYING_SIDE    22743\n",
              "RUNNING       22743\n",
              "LYING_UP      22743\n",
              "CHAIR         22743\n",
              "Name: activity, dtype: int64"
            ]
          },
          "metadata": {},
          "execution_count": 3
        }
      ]
    },
    {
      "cell_type": "code",
      "metadata": {
        "colab": {
          "base_uri": "https://localhost:8080/"
        },
        "id": "VjHHlnRhf2ER",
        "outputId": "1a20810e-bf03-4879-844b-b1f5a3feb0b4"
      },
      "source": [
        "import numpy as np\n",
        "import matplotlib.pyplot as plt\n",
        "from sklearn.model_selection import train_test_split\n",
        "from sklearn.preprocessing import StandardScaler, LabelEncoder\n",
        "alabel=LabelEncoder()\n",
        "accdataset['label']=alabel.fit_transform(accdataset['activity'])\n",
        "print(accdataset.head())\n",
        "print(alabel.classes_)"
      ],
      "execution_count": null,
      "outputs": [
        {
          "output_type": "stream",
          "name": "stdout",
          "text": [
            "            name     acc_x     acc_y     acc_z activity  label\n",
            "0  accelerometer -0.414825  7.590469  6.235336    CHAIR      0\n",
            "1  accelerometer -0.337662  7.645508  6.125275    CHAIR      0\n",
            "2  accelerometer -0.393295  7.605423  6.231155    CHAIR      0\n",
            "3  accelerometer -0.469269  7.592865  6.281403    CHAIR      0\n",
            "4  accelerometer -0.418411  7.633530  6.317307    CHAIR      0\n",
            "['CHAIR' 'LYING_SIDE' 'LYING_UP' 'RUNNING']\n"
          ]
        }
      ]
    },
    {
      "cell_type": "code",
      "metadata": {
        "colab": {
          "base_uri": "https://localhost:8080/",
          "height": 417
        },
        "id": "S-fji2OCf9d4",
        "outputId": "b6ffc090-7c97-449a-a756-3e81fdaab899"
      },
      "source": [
        "AX = accdataset[['acc_x','acc_y','acc_z']]\n",
        "AY = accdataset['label']\n",
        "scaler = StandardScaler()\n",
        "AX = scaler.fit_transform(AX)\n",
        "Ascaled_X = pd.DataFrame(data=AX, columns=['acc_x','acc_y','acc_z'])\n",
        "Ascaled_X['label'] = AY.values\n",
        "Ascaled_X"
      ],
      "execution_count": null,
      "outputs": [
        {
          "output_type": "execute_result",
          "data": {
            "text/html": [
              "<div>\n",
              "<style scoped>\n",
              "    .dataframe tbody tr th:only-of-type {\n",
              "        vertical-align: middle;\n",
              "    }\n",
              "\n",
              "    .dataframe tbody tr th {\n",
              "        vertical-align: top;\n",
              "    }\n",
              "\n",
              "    .dataframe thead th {\n",
              "        text-align: right;\n",
              "    }\n",
              "</style>\n",
              "<table border=\"1\" class=\"dataframe\">\n",
              "  <thead>\n",
              "    <tr style=\"text-align: right;\">\n",
              "      <th></th>\n",
              "      <th>acc_x</th>\n",
              "      <th>acc_y</th>\n",
              "      <th>acc_z</th>\n",
              "      <th>label</th>\n",
              "    </tr>\n",
              "  </thead>\n",
              "  <tbody>\n",
              "    <tr>\n",
              "      <th>0</th>\n",
              "      <td>-0.265185</td>\n",
              "      <td>0.574743</td>\n",
              "      <td>0.555825</td>\n",
              "      <td>0</td>\n",
              "    </tr>\n",
              "    <tr>\n",
              "      <th>1</th>\n",
              "      <td>-0.246453</td>\n",
              "      <td>0.592224</td>\n",
              "      <td>0.536195</td>\n",
              "      <td>0</td>\n",
              "    </tr>\n",
              "    <tr>\n",
              "      <th>2</th>\n",
              "      <td>-0.259959</td>\n",
              "      <td>0.579492</td>\n",
              "      <td>0.555080</td>\n",
              "      <td>0</td>\n",
              "    </tr>\n",
              "    <tr>\n",
              "      <th>3</th>\n",
              "      <td>-0.278402</td>\n",
              "      <td>0.575504</td>\n",
              "      <td>0.564042</td>\n",
              "      <td>0</td>\n",
              "    </tr>\n",
              "    <tr>\n",
              "      <th>4</th>\n",
              "      <td>-0.266056</td>\n",
              "      <td>0.588420</td>\n",
              "      <td>0.570445</td>\n",
              "      <td>0</td>\n",
              "    </tr>\n",
              "    <tr>\n",
              "      <th>...</th>\n",
              "      <td>...</td>\n",
              "      <td>...</td>\n",
              "      <td>...</td>\n",
              "      <td>...</td>\n",
              "    </tr>\n",
              "    <tr>\n",
              "      <th>90967</th>\n",
              "      <td>-0.329373</td>\n",
              "      <td>-0.767396</td>\n",
              "      <td>1.128777</td>\n",
              "      <td>3</td>\n",
              "    </tr>\n",
              "    <tr>\n",
              "      <th>90968</th>\n",
              "      <td>-0.445554</td>\n",
              "      <td>-0.970886</td>\n",
              "      <td>1.096663</td>\n",
              "      <td>3</td>\n",
              "    </tr>\n",
              "    <tr>\n",
              "      <th>90969</th>\n",
              "      <td>-0.386593</td>\n",
              "      <td>-1.146441</td>\n",
              "      <td>0.662523</td>\n",
              "      <td>3</td>\n",
              "    </tr>\n",
              "    <tr>\n",
              "      <th>90970</th>\n",
              "      <td>-0.366553</td>\n",
              "      <td>-1.287800</td>\n",
              "      <td>0.643211</td>\n",
              "      <td>3</td>\n",
              "    </tr>\n",
              "    <tr>\n",
              "      <th>90971</th>\n",
              "      <td>-0.717989</td>\n",
              "      <td>-1.335488</td>\n",
              "      <td>0.912081</td>\n",
              "      <td>3</td>\n",
              "    </tr>\n",
              "  </tbody>\n",
              "</table>\n",
              "<p>90972 rows × 4 columns</p>\n",
              "</div>"
            ],
            "text/plain": [
              "          acc_x     acc_y     acc_z  label\n",
              "0     -0.265185  0.574743  0.555825      0\n",
              "1     -0.246453  0.592224  0.536195      0\n",
              "2     -0.259959  0.579492  0.555080      0\n",
              "3     -0.278402  0.575504  0.564042      0\n",
              "4     -0.266056  0.588420  0.570445      0\n",
              "...         ...       ...       ...    ...\n",
              "90967 -0.329373 -0.767396  1.128777      3\n",
              "90968 -0.445554 -0.970886  1.096663      3\n",
              "90969 -0.386593 -1.146441  0.662523      3\n",
              "90970 -0.366553 -1.287800  0.643211      3\n",
              "90971 -0.717989 -1.335488  0.912081      3\n",
              "\n",
              "[90972 rows x 4 columns]"
            ]
          },
          "metadata": {},
          "execution_count": 5
        }
      ]
    },
    {
      "cell_type": "code",
      "metadata": {
        "id": "f_lnSj_ZgA9V"
      },
      "source": [
        "import scipy.stats as stats\n",
        "Fs = 20\n",
        "frame_s = Fs*2\n",
        "hop_s = Fs"
      ],
      "execution_count": null,
      "outputs": []
    },
    {
      "cell_type": "code",
      "metadata": {
        "id": "DthwrqQcgDPS"
      },
      "source": [
        "def aget_frames(df, frame_s, hop_s):\n",
        "  N = 3\n",
        "  frames=[]\n",
        "  labels=[]\n",
        "  for i in range(0, len(df) - frame_s, hop_s):\n",
        "    x = df['acc_x'].values[i: i+frame_s]\n",
        "    y = df['acc_y'].values[i: i+frame_s]\n",
        "    z = df['acc_z'].values[i: i+frame_s]\n",
        "\n",
        "    label = stats.mode(df['label'][i:i+frame_s])[0][0]\n",
        "    frames.append([x,y,z])\n",
        "    labels.append(label)\n",
        "  \n",
        "  frames = np.asarray(frames).reshape(-1, frame_s, N)\n",
        "  labels = np.asarray(labels)\n",
        "  \n",
        "  return frames, labels"
      ],
      "execution_count": null,
      "outputs": []
    },
    {
      "cell_type": "code",
      "metadata": {
        "colab": {
          "base_uri": "https://localhost:8080/"
        },
        "id": "B3gNsg_WgG1n",
        "outputId": "b989e8d2-f4c1-421f-c487-35c671a120b6"
      },
      "source": [
        "AX, AY = aget_frames(Ascaled_X, frame_s, hop_s)\n",
        "AX.shape, AY.shape"
      ],
      "execution_count": null,
      "outputs": [
        {
          "output_type": "execute_result",
          "data": {
            "text/plain": [
              "((4547, 40, 3), (4547,))"
            ]
          },
          "metadata": {},
          "execution_count": 8
        }
      ]
    },
    {
      "cell_type": "code",
      "metadata": {
        "colab": {
          "base_uri": "https://localhost:8080/"
        },
        "id": "4EiASlbZgPu1",
        "outputId": "853844ae-4dcd-4fd3-8543-fd27a07dd644"
      },
      "source": [
        "AX_train, AX_test, AY_train, AY_test = train_test_split(AX, AY, test_size=0.2, stratify=AY)\n",
        "AX_train.shape, AX_test.shape"
      ],
      "execution_count": null,
      "outputs": [
        {
          "output_type": "execute_result",
          "data": {
            "text/plain": [
              "((3637, 40, 3), (910, 40, 3))"
            ]
          },
          "metadata": {},
          "execution_count": 9
        }
      ]
    },
    {
      "cell_type": "code",
      "metadata": {
        "id": "fAQBFiGJgZ__"
      },
      "source": [
        "AX_train = AX_train.reshape(len(AX_train), 40, 3, 1)\n",
        "AX_test = AX_test.reshape(len(AX_test), 40, 3, 1)"
      ],
      "execution_count": null,
      "outputs": []
    },
    {
      "cell_type": "code",
      "metadata": {
        "id": "aJVLsRqegfXM"
      },
      "source": [
        "amodel = Sequential()\n",
        "amodel.add(Conv2D(16, (2,2), activation='relu', input_shape = AX_train[0].shape))\n",
        "amodel.add(Dropout(0.1))\n",
        "\n",
        "amodel.add(Conv2D(32, (2,2), activation='relu'))\n",
        "amodel.add(Dropout(0.2))\n",
        "\n",
        "amodel.add(Flatten())\n",
        "\n",
        "amodel.add(Dense(64, activation='relu'))\n",
        "amodel.add(Dropout(0.5))\n",
        "amodel.add(Dense(9, activation='softmax'))"
      ],
      "execution_count": null,
      "outputs": []
    },
    {
      "cell_type": "code",
      "metadata": {
        "id": "qZMeAfwDgig3"
      },
      "source": [
        "amodel.compile(optimizer=Adam(learning_rate = 0.001), loss='sparse_categorical_crossentropy', metrics=['accuracy'])"
      ],
      "execution_count": null,
      "outputs": []
    },
    {
      "cell_type": "code",
      "metadata": {
        "colab": {
          "base_uri": "https://localhost:8080/"
        },
        "id": "IbXakrgmgmtP",
        "outputId": "723bd55e-d40b-447a-9c41-938e74eb88de"
      },
      "source": [
        "ahistory = amodel.fit(AX_train, AY_train, epochs=20, validation_data=(AX_test, AY_test), verbose=1)"
      ],
      "execution_count": null,
      "outputs": [
        {
          "output_type": "stream",
          "name": "stdout",
          "text": [
            "Epoch 1/20\n",
            "114/114 [==============================] - 1s 8ms/step - loss: 0.5817 - accuracy: 0.8086 - val_loss: 0.1576 - val_accuracy: 0.9505\n",
            "Epoch 2/20\n",
            "114/114 [==============================] - 1s 7ms/step - loss: 0.2109 - accuracy: 0.9315 - val_loss: 0.1145 - val_accuracy: 0.9516\n",
            "Epoch 3/20\n",
            "114/114 [==============================] - 1s 7ms/step - loss: 0.1718 - accuracy: 0.9406 - val_loss: 0.0950 - val_accuracy: 0.9670\n",
            "Epoch 4/20\n",
            "114/114 [==============================] - 1s 7ms/step - loss: 0.1432 - accuracy: 0.9483 - val_loss: 0.0897 - val_accuracy: 0.9593\n",
            "Epoch 5/20\n",
            "114/114 [==============================] - 1s 7ms/step - loss: 0.1362 - accuracy: 0.9533 - val_loss: 0.0960 - val_accuracy: 0.9516\n",
            "Epoch 6/20\n",
            "114/114 [==============================] - 1s 7ms/step - loss: 0.1243 - accuracy: 0.9585 - val_loss: 0.0743 - val_accuracy: 0.9615\n",
            "Epoch 7/20\n",
            "114/114 [==============================] - 1s 7ms/step - loss: 0.1138 - accuracy: 0.9563 - val_loss: 0.0787 - val_accuracy: 0.9747\n",
            "Epoch 8/20\n",
            "114/114 [==============================] - 1s 7ms/step - loss: 0.1075 - accuracy: 0.9621 - val_loss: 0.0891 - val_accuracy: 0.9714\n",
            "Epoch 9/20\n",
            "114/114 [==============================] - 1s 7ms/step - loss: 0.1085 - accuracy: 0.9637 - val_loss: 0.0897 - val_accuracy: 0.9659\n",
            "Epoch 10/20\n",
            "114/114 [==============================] - 1s 7ms/step - loss: 0.0998 - accuracy: 0.9629 - val_loss: 0.0629 - val_accuracy: 0.9780\n",
            "Epoch 11/20\n",
            "114/114 [==============================] - 1s 7ms/step - loss: 0.0934 - accuracy: 0.9665 - val_loss: 0.0611 - val_accuracy: 0.9758\n",
            "Epoch 12/20\n",
            "114/114 [==============================] - 1s 8ms/step - loss: 0.0894 - accuracy: 0.9695 - val_loss: 0.0602 - val_accuracy: 0.9758\n",
            "Epoch 13/20\n",
            "114/114 [==============================] - 1s 7ms/step - loss: 0.0864 - accuracy: 0.9670 - val_loss: 0.0643 - val_accuracy: 0.9791\n",
            "Epoch 14/20\n",
            "114/114 [==============================] - 1s 7ms/step - loss: 0.0893 - accuracy: 0.9692 - val_loss: 0.0598 - val_accuracy: 0.9802\n",
            "Epoch 15/20\n",
            "114/114 [==============================] - 1s 7ms/step - loss: 0.0889 - accuracy: 0.9698 - val_loss: 0.0552 - val_accuracy: 0.9813\n",
            "Epoch 16/20\n",
            "114/114 [==============================] - 1s 7ms/step - loss: 0.0779 - accuracy: 0.9725 - val_loss: 0.0541 - val_accuracy: 0.9802\n",
            "Epoch 17/20\n",
            "114/114 [==============================] - 1s 7ms/step - loss: 0.0798 - accuracy: 0.9714 - val_loss: 0.0527 - val_accuracy: 0.9813\n",
            "Epoch 18/20\n",
            "114/114 [==============================] - 1s 7ms/step - loss: 0.0820 - accuracy: 0.9689 - val_loss: 0.0580 - val_accuracy: 0.9868\n",
            "Epoch 19/20\n",
            "114/114 [==============================] - 1s 8ms/step - loss: 0.0798 - accuracy: 0.9725 - val_loss: 0.0528 - val_accuracy: 0.9824\n",
            "Epoch 20/20\n",
            "114/114 [==============================] - 1s 7ms/step - loss: 0.0795 - accuracy: 0.9687 - val_loss: 0.0515 - val_accuracy: 0.9824\n"
          ]
        }
      ]
    },
    {
      "cell_type": "code",
      "metadata": {
        "id": "dM7g-oDpi8cz"
      },
      "source": [
        "def plot_accuracycurve(a, history, epochs):\n",
        "  ep = range(1, epochs+1)\n",
        "  plt.title(a+' Model Accuracy')\n",
        "  plt.plot(ep, history.history['accuracy'])\n",
        "  plt.plot(ep, history.history['val_accuracy'])\n",
        "  plt.ylabel('Accuracy')\n",
        "  plt.ylabel('Epochs')\n",
        "  plt.legend(['Train','Val'])\n",
        "  plt.show()\n",
        "\n",
        "def plot_losscurve(a, history, epochs):\n",
        "  ep = range(1, epochs+1)\n",
        "  plt.title(a+' Model Loss')\n",
        "  plt.plot(ep, history.history['loss'])\n",
        "  plt.plot(ep, history.history['val_loss'])\n",
        "  plt.ylabel('Loss')\n",
        "  plt.ylabel('Epochs')\n",
        "  plt.legend(['Train','Val'])\n",
        "  plt.show()"
      ],
      "execution_count": null,
      "outputs": []
    },
    {
      "cell_type": "code",
      "metadata": {
        "colab": {
          "base_uri": "https://localhost:8080/",
          "height": 545
        },
        "id": "CH4BcH1Ki_5A",
        "outputId": "cfc99060-6733-42ac-f43b-0d0a055b56a3"
      },
      "source": [
        "plot_accuracycurve('Accelerometer',ahistory, 20)\n",
        "plot_losscurve('Accelerometer', ahistory, 20)"
      ],
      "execution_count": null,
      "outputs": [
        {
          "output_type": "display_data",
          "data": {
            "image/png": "[encoded data removed]",
            "text/plain": [
              "<Figure size 432x288 with 1 Axes>"
            ]
          },
          "metadata": {
            "needs_background": "light"
          }
        },
        {
          "output_type": "display_data",
          "data": {
            "image/png": "[encoded data removed]",
            "text/plain": [
              "<Figure size 432x288 with 1 Axes>"
            ]
          },
          "metadata": {
            "needs_background": "light"
          }
        }
      ]
    },
    {
      "cell_type": "code",
      "metadata": {
        "id": "qZSzgS6CjC3i"
      },
      "source": [
        "from mlxtend.plotting import plot_confusion_matrix\n",
        "from sklearn.metrics import confusion_matrix"
      ],
      "execution_count": null,
      "outputs": []
    },
    {
      "cell_type": "code",
      "metadata": {
        "id": "JHoCK1DgjHkL"
      },
      "source": [
        "AY_P = amodel.predict(AX_test)\n",
        "AY_predict=np.argmax(AY_P,axis=1)"
      ],
      "execution_count": null,
      "outputs": []
    },
    {
      "cell_type": "code",
      "metadata": {
        "colab": {
          "base_uri": "https://localhost:8080/",
          "height": 614
        },
        "id": "xtIh8jH-jHqi",
        "outputId": "811b98cd-d4c1-4dd0-bee4-a8ccdb64d764"
      },
      "source": [
        "amat = confusion_matrix(AY_test, AY_predict)\n",
        "plot_confusion_matrix(conf_mat=amat, show_normed=True, colorbar=True, figsize=(10,10), cmap='RdPu')"
      ],
      "execution_count": null,
      "outputs": [
        {
          "output_type": "execute_result",
          "data": {
            "text/plain": [
              "(<Figure size 720x720 with 2 Axes>,\n",
              " <matplotlib.axes._subplots.AxesSubplot at 0x7f13ab7e2f90>)"
            ]
          },
          "metadata": {},
          "execution_count": 18
        },
        {
          "output_type": "display_data",
          "data": {
            "image/png": "[encoded data removed]",
            "text/plain": [
              "<Figure size 720x720 with 2 Axes>"
            ]
          },
          "metadata": {
            "needs_background": "light"
          }
        }
      ]
    },
    {
      "cell_type": "code",
      "metadata": {
        "id": "QSQKEV_yjjrY",
        "colab": {
          "base_uri": "https://localhost:8080/"
        },
        "outputId": "90c38cc1-c375-45ea-bbd8-084cd8e00d85"
      },
      "source": [
        "print(alabel.classes_)"
      ],
      "execution_count": null,
      "outputs": [
        {
          "output_type": "stream",
          "name": "stdout",
          "text": [
            "['CHAIR' 'LYING_SIDE' 'LYING_UP' 'RUNNING']\n"
          ]
        }
      ]
    }
  ]
}