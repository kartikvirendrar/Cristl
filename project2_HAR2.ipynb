{
  "nbformat": 4,
  "nbformat_minor": 0,
  "metadata": {
    "colab": {
      "name": "project2_HAR2.ipynb",
      "provenance": [],
      "mount_file_id": "1HwTKxaLGiTIyh9x8dIlYG-kB8qoJHlrL",
      "authorship_tag": "ABX9TyMTwlG00mFMXxX3UYb/2Ea1",
      "include_colab_link": true
    },
    "kernelspec": {
      "name": "python3",
      "display_name": "Python 3"
    },
    "language_info": {
      "name": "python"
    }
  },
  "cells": [
    {
      "cell_type": "markdown",
      "metadata": {
        "id": "view-in-github",
        "colab_type": "text"
      },
      "source": [
        "<a href=\"https://colab.research.google.com/github/AMEYABHAVE/Cristl/blob/main/project2_HAR2.ipynb\" target=\"_parent\"><img src=\"https://colab.research.google.com/assets/colab-badge.svg\" alt=\"Open In Colab\"/></a>"
      ]
    },
    {
      "cell_type": "code",
      "metadata": {
        "colab": {
          "base_uri": "https://localhost:8080/"
        },
        "id": "J_39geOCNFWK",
        "outputId": "c125b260-bdc7-4814-8dd0-2caae4c71f5a"
      },
      "source": [
        "import tensorflow as tf\n",
        "from tensorflow.keras import Sequential\n",
        "from tensorflow.keras.layers import Flatten, Dense, Dropout, BatchNormalization\n",
        "from tensorflow.keras.layers import Conv2D, MaxPool2D\n",
        "from tensorflow.keras.optimizers import Adam\n",
        "print(tf.__version__)"
      ],
      "execution_count": 1,
      "outputs": [
        {
          "output_type": "stream",
          "name": "stdout",
          "text": [
            "2.6.0\n"
          ]
        }
      ]
    },
    {
      "cell_type": "code",
      "metadata": {
        "id": "XOv7Iw1jOdTc"
      },
      "source": [
        "from google.colab import drive\n",
        "import pandas as pd\n",
        "file_location = '/content/drive/MyDrive/accelerometer.csv'\n",
        "accelerometer =pd.read_csv(file_location)\n",
        "accelerometer.drop(columns=['time','repetition','uuid'], inplace=True)\n",
        "accsitting= accelerometer[accelerometer['activity'] == 'CHAIR'].head(9875)\n",
        "accstanding= accelerometer[accelerometer['activity'] == 'STANDING'].head(9875)\n",
        "acclying= accelerometer[accelerometer['activity'] == 'LYING_UP'].head(9875)\n",
        "accdataset = pd.DataFrame()\n",
        "accdataset = accdataset.append([accsitting, accstanding, acclying])\n",
        "accdataset.drop(columns=['activity'], inplace=True)\n",
        "\n",
        "file_location1 = '/content/drive/MyDrive/gyroscope.csv'\n",
        "gyroscope =pd.read_csv(file_location1)\n",
        "gyroscope.drop(columns=['time','repetition','uuid'], inplace=True)\n",
        "gyrsitting= gyroscope[gyroscope['activity'] == 'CHAIR'].head(9875)\n",
        "gyrstanding= gyroscope[gyroscope['activity'] == 'STANDING'].head(9875)\n",
        "gyrlying= gyroscope[gyroscope['activity'] == 'LYING_UP'].head(9875)\n",
        "gyrdataset = pd.DataFrame()\n",
        "gyrdataset = gyrdataset.append([gyrsitting, gyrstanding, gyrlying])\n",
        "\n",
        "dataset=pd.concat([accdataset, gyrdataset.set_index(accdataset.index)], axis=1)\n",
        "dataset.drop(columns=['name'], inplace=True)"
      ],
      "execution_count": 2,
      "outputs": []
    },
    {
      "cell_type": "code",
      "metadata": {
        "colab": {
          "base_uri": "https://localhost:8080/"
        },
        "id": "ulpTn2jJsCkN",
        "outputId": "0a6a24f8-d62e-4b9e-ec03-6beb9098732b"
      },
      "source": [
        "dataset.info()"
      ],
      "execution_count": 3,
      "outputs": [
        {
          "output_type": "stream",
          "name": "stdout",
          "text": [
            "<class 'pandas.core.frame.DataFrame'>\n",
            "Int64Index: 29625 entries, 0 to 93591\n",
            "Data columns (total 7 columns):\n",
            " #   Column    Non-Null Count  Dtype  \n",
            "---  ------    --------------  -----  \n",
            " 0   acc_x     29625 non-null  float64\n",
            " 1   acc_y     29625 non-null  float64\n",
            " 2   acc_z     29625 non-null  float64\n",
            " 3   gyr_x     29625 non-null  float64\n",
            " 4   gyr_y     29625 non-null  float64\n",
            " 5   gyr_z     29625 non-null  float64\n",
            " 6   activity  29625 non-null  object \n",
            "dtypes: float64(6), object(1)\n",
            "memory usage: 1.8+ MB\n"
          ]
        }
      ]
    },
    {
      "cell_type": "code",
      "metadata": {
        "colab": {
          "base_uri": "https://localhost:8080/"
        },
        "id": "uqoudP-YtmC3",
        "outputId": "62193a54-46ab-4705-8edc-e5f8e7106828"
      },
      "source": [
        "dataset['activity'].value_counts()"
      ],
      "execution_count": 4,
      "outputs": [
        {
          "output_type": "execute_result",
          "data": {
            "text/plain": [
              "STANDING    9875\n",
              "LYING_UP    9875\n",
              "CHAIR       9875\n",
              "Name: activity, dtype: int64"
            ]
          },
          "metadata": {},
          "execution_count": 4
        }
      ]
    },
    {
      "cell_type": "code",
      "metadata": {
        "colab": {
          "base_uri": "https://localhost:8080/"
        },
        "id": "ROo7wt7tt_a8",
        "outputId": "d6217a6a-8fa0-4755-a235-a75b23b4fc7d"
      },
      "source": [
        "import numpy as np\n",
        "import matplotlib.pyplot as plt\n",
        "from sklearn.model_selection import train_test_split\n",
        "from sklearn.preprocessing import StandardScaler, LabelEncoder\n",
        "label=LabelEncoder()\n",
        "dataset['label']=label.fit_transform(dataset['activity'])\n",
        "print(dataset.head())\n",
        "print(label.classes_)"
      ],
      "execution_count": 5,
      "outputs": [
        {
          "output_type": "stream",
          "name": "stdout",
          "text": [
            "      acc_x     acc_y     acc_z     gyr_x     gyr_y     gyr_z activity  label\n",
            "0 -0.414825  7.590469  6.235336 -0.309540  7.679596  6.142029    CHAIR      0\n",
            "1 -0.337662  7.645508  6.125275 -0.530884  7.897354  5.765747    CHAIR      0\n",
            "2 -0.393295  7.605423  6.231155 -0.608643  8.231140  5.266846    CHAIR      0\n",
            "3 -0.469269  7.592865  6.281403 -0.570953  8.260452  5.229172    CHAIR      0\n",
            "4 -0.418411  7.633530  6.317307 -0.816223  8.244308  5.284195    CHAIR      0\n",
            "['CHAIR' 'LYING_UP' 'STANDING']\n"
          ]
        }
      ]
    },
    {
      "cell_type": "code",
      "metadata": {
        "colab": {
          "base_uri": "https://localhost:8080/",
          "height": 417
        },
        "id": "upyuAIepv96H",
        "outputId": "e67fc9bb-346b-4b19-c886-2b49b85b5ef1"
      },
      "source": [
        "X = dataset[['acc_x','acc_y','acc_z','gyr_x','gyr_y','gyr_z']]\n",
        "Y = dataset['label']\n",
        "scaler = StandardScaler()\n",
        "X = scaler.fit_transform(X)\n",
        "scaled_X = pd.DataFrame(data=X, columns=['acc_x','acc_y','acc_z','gyr_x','gyr_y','gyr_z'])\n",
        "scaled_X['label'] = Y.values\n",
        "scaled_X"
      ],
      "execution_count": 6,
      "outputs": [
        {
          "output_type": "execute_result",
          "data": {
            "text/html": [
              "<div>\n",
              "<style scoped>\n",
              "    .dataframe tbody tr th:only-of-type {\n",
              "        vertical-align: middle;\n",
              "    }\n",
              "\n",
              "    .dataframe tbody tr th {\n",
              "        vertical-align: top;\n",
              "    }\n",
              "\n",
              "    .dataframe thead th {\n",
              "        text-align: right;\n",
              "    }\n",
              "</style>\n",
              "<table border=\"1\" class=\"dataframe\">\n",
              "  <thead>\n",
              "    <tr style=\"text-align: right;\">\n",
              "      <th></th>\n",
              "      <th>acc_x</th>\n",
              "      <th>acc_y</th>\n",
              "      <th>acc_z</th>\n",
              "      <th>gyr_x</th>\n",
              "      <th>gyr_y</th>\n",
              "      <th>gyr_z</th>\n",
              "      <th>label</th>\n",
              "    </tr>\n",
              "  </thead>\n",
              "  <tbody>\n",
              "    <tr>\n",
              "      <th>0</th>\n",
              "      <td>-0.610501</td>\n",
              "      <td>0.705138</td>\n",
              "      <td>0.431830</td>\n",
              "      <td>-0.511514</td>\n",
              "      <td>0.743974</td>\n",
              "      <td>0.380241</td>\n",
              "      <td>0</td>\n",
              "    </tr>\n",
              "    <tr>\n",
              "      <th>1</th>\n",
              "      <td>-0.525900</td>\n",
              "      <td>0.725603</td>\n",
              "      <td>0.415590</td>\n",
              "      <td>-0.751855</td>\n",
              "      <td>0.819761</td>\n",
              "      <td>0.323345</td>\n",
              "      <td>0</td>\n",
              "    </tr>\n",
              "    <tr>\n",
              "      <th>2</th>\n",
              "      <td>-0.586896</td>\n",
              "      <td>0.710698</td>\n",
              "      <td>0.431213</td>\n",
              "      <td>-0.836288</td>\n",
              "      <td>0.935931</td>\n",
              "      <td>0.247909</td>\n",
              "      <td>0</td>\n",
              "    </tr>\n",
              "    <tr>\n",
              "      <th>3</th>\n",
              "      <td>-0.670191</td>\n",
              "      <td>0.706029</td>\n",
              "      <td>0.438628</td>\n",
              "      <td>-0.795364</td>\n",
              "      <td>0.946133</td>\n",
              "      <td>0.242213</td>\n",
              "      <td>0</td>\n",
              "    </tr>\n",
              "    <tr>\n",
              "      <th>4</th>\n",
              "      <td>-0.614432</td>\n",
              "      <td>0.721149</td>\n",
              "      <td>0.443926</td>\n",
              "      <td>-1.061684</td>\n",
              "      <td>0.940514</td>\n",
              "      <td>0.250533</td>\n",
              "      <td>0</td>\n",
              "    </tr>\n",
              "    <tr>\n",
              "      <th>...</th>\n",
              "      <td>...</td>\n",
              "      <td>...</td>\n",
              "      <td>...</td>\n",
              "      <td>...</td>\n",
              "      <td>...</td>\n",
              "      <td>...</td>\n",
              "      <td>...</td>\n",
              "    </tr>\n",
              "    <tr>\n",
              "      <th>29620</th>\n",
              "      <td>1.077678</td>\n",
              "      <td>1.494336</td>\n",
              "      <td>-0.388644</td>\n",
              "      <td>0.393923</td>\n",
              "      <td>1.434373</td>\n",
              "      <td>-0.432256</td>\n",
              "      <td>1</td>\n",
              "    </tr>\n",
              "    <tr>\n",
              "      <th>29621</th>\n",
              "      <td>1.107858</td>\n",
              "      <td>1.472311</td>\n",
              "      <td>-0.378226</td>\n",
              "      <td>0.417320</td>\n",
              "      <td>1.446039</td>\n",
              "      <td>-0.434066</td>\n",
              "      <td>1</td>\n",
              "    </tr>\n",
              "    <tr>\n",
              "      <th>29622</th>\n",
              "      <td>1.135394</td>\n",
              "      <td>1.471199</td>\n",
              "      <td>-0.370548</td>\n",
              "      <td>0.326331</td>\n",
              "      <td>1.445205</td>\n",
              "      <td>-0.435876</td>\n",
              "      <td>1</td>\n",
              "    </tr>\n",
              "    <tr>\n",
              "      <th>29623</th>\n",
              "      <td>1.105884</td>\n",
              "      <td>1.486325</td>\n",
              "      <td>-0.393499</td>\n",
              "      <td>0.383524</td>\n",
              "      <td>1.451038</td>\n",
              "      <td>-0.441668</td>\n",
              "      <td>1</td>\n",
              "    </tr>\n",
              "    <tr>\n",
              "      <th>29624</th>\n",
              "      <td>1.046210</td>\n",
              "      <td>1.489440</td>\n",
              "      <td>-0.394823</td>\n",
              "      <td>0.388723</td>\n",
              "      <td>1.450205</td>\n",
              "      <td>-0.443116</td>\n",
              "      <td>1</td>\n",
              "    </tr>\n",
              "  </tbody>\n",
              "</table>\n",
              "<p>29625 rows × 7 columns</p>\n",
              "</div>"
            ],
            "text/plain": [
              "          acc_x     acc_y     acc_z     gyr_x     gyr_y     gyr_z  label\n",
              "0     -0.610501  0.705138  0.431830 -0.511514  0.743974  0.380241      0\n",
              "1     -0.525900  0.725603  0.415590 -0.751855  0.819761  0.323345      0\n",
              "2     -0.586896  0.710698  0.431213 -0.836288  0.935931  0.247909      0\n",
              "3     -0.670191  0.706029  0.438628 -0.795364  0.946133  0.242213      0\n",
              "4     -0.614432  0.721149  0.443926 -1.061684  0.940514  0.250533      0\n",
              "...         ...       ...       ...       ...       ...       ...    ...\n",
              "29620  1.077678  1.494336 -0.388644  0.393923  1.434373 -0.432256      1\n",
              "29621  1.107858  1.472311 -0.378226  0.417320  1.446039 -0.434066      1\n",
              "29622  1.135394  1.471199 -0.370548  0.326331  1.445205 -0.435876      1\n",
              "29623  1.105884  1.486325 -0.393499  0.383524  1.451038 -0.441668      1\n",
              "29624  1.046210  1.489440 -0.394823  0.388723  1.450205 -0.443116      1\n",
              "\n",
              "[29625 rows x 7 columns]"
            ]
          },
          "metadata": {},
          "execution_count": 6
        }
      ]
    },
    {
      "cell_type": "code",
      "metadata": {
        "id": "rxKOFIVopfnx"
      },
      "source": [
        "import scipy.stats as stats\n",
        "Fs = 20\n",
        "frame_s = Fs*2\n",
        "hop_s = Fs"
      ],
      "execution_count": 7,
      "outputs": []
    },
    {
      "cell_type": "code",
      "metadata": {
        "id": "n-UOtxBJpw43"
      },
      "source": [
        "def get_frames(df, frame_s, hop_s):\n",
        "  N = 6\n",
        "  frames=[]\n",
        "  labels=[]\n",
        "  for i in range(0, len(df) - frame_s, hop_s):\n",
        "    ax = df['acc_x'].values[i: i+frame_s]\n",
        "    ay = df['acc_y'].values[i: i+frame_s]\n",
        "    az = df['acc_z'].values[i: i+frame_s]\n",
        "    gx = df['gyr_x'].values[i: i+frame_s]\n",
        "    gy = df['gyr_y'].values[i: i+frame_s]\n",
        "    gz = df['gyr_z'].values[i: i+frame_s]\n",
        "\n",
        "    label = stats.mode(df['label'][i:i+frame_s])[0][0]\n",
        "    frames.append([ax,ay,az,gx,gy,gz])\n",
        "    labels.append(label)\n",
        "  \n",
        "  frames = np.asarray(frames).reshape(-1, frame_s, N)\n",
        "  labels = np.asarray(labels)\n",
        "  \n",
        "  return frames, labels"
      ],
      "execution_count": 17,
      "outputs": []
    },
    {
      "cell_type": "code",
      "metadata": {
        "id": "QB7PEx1IoyGt"
      },
      "source": [
        "X, Y = get_frames(scaled_X, frame_s, hop_s)"
      ],
      "execution_count": 18,
      "outputs": []
    },
    {
      "cell_type": "code",
      "metadata": {
        "colab": {
          "base_uri": "https://localhost:8080/"
        },
        "id": "cNaPxP3ao3GG",
        "outputId": "a7f66dcc-42d0-4a96-8101-f8a23afc75b3"
      },
      "source": [
        "X.shape, Y.shape"
      ],
      "execution_count": 19,
      "outputs": [
        {
          "output_type": "execute_result",
          "data": {
            "text/plain": [
              "((1480, 40, 6), (1480,))"
            ]
          },
          "metadata": {},
          "execution_count": 19
        }
      ]
    },
    {
      "cell_type": "code",
      "metadata": {
        "id": "MxAscRS7o9x6"
      },
      "source": [
        "X_train, X_test, Y_train, Y_test = train_test_split(X, Y, test_size=0.2, stratify=Y)"
      ],
      "execution_count": 20,
      "outputs": []
    },
    {
      "cell_type": "code",
      "metadata": {
        "colab": {
          "base_uri": "https://localhost:8080/"
        },
        "id": "_OM-lMX9p3It",
        "outputId": "661e88a0-6529-4ab1-9d5e-984a6a33603a"
      },
      "source": [
        "X_train.shape, X_test.shape"
      ],
      "execution_count": 21,
      "outputs": [
        {
          "output_type": "execute_result",
          "data": {
            "text/plain": [
              "((1184, 40, 6), (296, 40, 6))"
            ]
          },
          "metadata": {},
          "execution_count": 21
        }
      ]
    },
    {
      "cell_type": "code",
      "metadata": {
        "id": "LaZ9GmX3p8tp"
      },
      "source": [
        "X_train = X_train.reshape(len(X_train), 40, 6, 1)\n",
        "X_test = X_test.reshape(len(X_test), 40, 6, 1)"
      ],
      "execution_count": 24,
      "outputs": []
    },
    {
      "cell_type": "code",
      "metadata": {
        "id": "8npG6bvZqNjL"
      },
      "source": [
        "model = Sequential()\n",
        "model.add(Conv2D(16, (2,2), activation='relu', input_shape = X_train[0].shape))\n",
        "model.add(Dropout(0.1))\n",
        "\n",
        "model.add(Conv2D(32, (2,2), activation='relu'))\n",
        "model.add(Dropout(0.2))\n",
        "\n",
        "model.add(Flatten())\n",
        "\n",
        "model.add(Dense(64, activation='relu'))\n",
        "model.add(Dropout(0.5))\n",
        "model.add(Dense(6, activation='softmax'))"
      ],
      "execution_count": 25,
      "outputs": []
    },
    {
      "cell_type": "code",
      "metadata": {
        "id": "LEfY3k5GqXSM"
      },
      "source": [
        "model.compile(optimizer=Adam(learning_rate = 0.001), loss='sparse_categorical_crossentropy', metrics=['accuracy'])"
      ],
      "execution_count": 26,
      "outputs": []
    },
    {
      "cell_type": "code",
      "metadata": {
        "colab": {
          "base_uri": "https://localhost:8080/"
        },
        "id": "emIWCshgqcHD",
        "outputId": "9a80b5ab-f52e-4e21-8bda-f19c0d43b29f"
      },
      "source": [
        "history = model.fit(X_train, Y_train, epochs=20, validation_data=(X_test, Y_test), verbose=1)"
      ],
      "execution_count": 27,
      "outputs": [
        {
          "output_type": "stream",
          "name": "stdout",
          "text": [
            "Epoch 1/20\n",
            "37/37 [==============================] - 2s 19ms/step - loss: 0.5880 - accuracy: 0.7610 - val_loss: 0.3062 - val_accuracy: 0.8581\n",
            "Epoch 2/20\n",
            "37/37 [==============================] - 0s 13ms/step - loss: 0.3559 - accuracy: 0.8404 - val_loss: 0.2765 - val_accuracy: 0.8581\n",
            "Epoch 3/20\n",
            "37/37 [==============================] - 1s 14ms/step - loss: 0.2867 - accuracy: 0.8767 - val_loss: 0.2282 - val_accuracy: 0.9189\n",
            "Epoch 4/20\n",
            "37/37 [==============================] - 1s 14ms/step - loss: 0.2654 - accuracy: 0.8758 - val_loss: 0.2075 - val_accuracy: 0.9257\n",
            "Epoch 5/20\n",
            "37/37 [==============================] - 1s 14ms/step - loss: 0.2352 - accuracy: 0.8995 - val_loss: 0.1990 - val_accuracy: 0.9054\n",
            "Epoch 6/20\n",
            "37/37 [==============================] - 1s 15ms/step - loss: 0.2071 - accuracy: 0.9054 - val_loss: 0.1724 - val_accuracy: 0.9459\n",
            "Epoch 7/20\n",
            "37/37 [==============================] - 1s 14ms/step - loss: 0.2085 - accuracy: 0.9155 - val_loss: 0.1631 - val_accuracy: 0.9426\n",
            "Epoch 8/20\n",
            "37/37 [==============================] - 1s 14ms/step - loss: 0.1840 - accuracy: 0.9206 - val_loss: 0.1502 - val_accuracy: 0.9459\n",
            "Epoch 9/20\n",
            "37/37 [==============================] - 1s 14ms/step - loss: 0.1738 - accuracy: 0.9215 - val_loss: 0.1535 - val_accuracy: 0.9324\n",
            "Epoch 10/20\n",
            "37/37 [==============================] - 1s 15ms/step - loss: 0.1573 - accuracy: 0.9341 - val_loss: 0.1433 - val_accuracy: 0.9426\n",
            "Epoch 11/20\n",
            "37/37 [==============================] - 1s 14ms/step - loss: 0.1452 - accuracy: 0.9426 - val_loss: 0.1888 - val_accuracy: 0.9257\n",
            "Epoch 12/20\n",
            "37/37 [==============================] - 1s 15ms/step - loss: 0.1419 - accuracy: 0.9451 - val_loss: 0.1256 - val_accuracy: 0.9662\n",
            "Epoch 13/20\n",
            "37/37 [==============================] - 1s 14ms/step - loss: 0.1452 - accuracy: 0.9358 - val_loss: 0.1376 - val_accuracy: 0.9459\n",
            "Epoch 14/20\n",
            "37/37 [==============================] - 1s 15ms/step - loss: 0.1337 - accuracy: 0.9392 - val_loss: 0.1386 - val_accuracy: 0.9628\n",
            "Epoch 15/20\n",
            "37/37 [==============================] - 1s 14ms/step - loss: 0.1193 - accuracy: 0.9510 - val_loss: 0.1417 - val_accuracy: 0.9628\n",
            "Epoch 16/20\n",
            "37/37 [==============================] - 1s 15ms/step - loss: 0.1338 - accuracy: 0.9400 - val_loss: 0.1177 - val_accuracy: 0.9561\n",
            "Epoch 17/20\n",
            "37/37 [==============================] - 1s 15ms/step - loss: 0.1152 - accuracy: 0.9527 - val_loss: 0.1233 - val_accuracy: 0.9662\n",
            "Epoch 18/20\n",
            "37/37 [==============================] - 1s 14ms/step - loss: 0.1038 - accuracy: 0.9544 - val_loss: 0.1286 - val_accuracy: 0.9595\n",
            "Epoch 19/20\n",
            "37/37 [==============================] - 1s 14ms/step - loss: 0.0944 - accuracy: 0.9654 - val_loss: 0.1075 - val_accuracy: 0.9561\n",
            "Epoch 20/20\n",
            "37/37 [==============================] - 1s 14ms/step - loss: 0.0907 - accuracy: 0.9679 - val_loss: 0.1278 - val_accuracy: 0.9662\n"
          ]
        }
      ]
    },
    {
      "cell_type": "code",
      "metadata": {
        "id": "Z7OyFhD6qpq8"
      },
      "source": [
        "def plot_accuracycurve(a, history, epochs):\n",
        "  ep = range(1, epochs+1)\n",
        "  plt.title(a+' Model Accuracy')\n",
        "  plt.plot(ep, history.history['accuracy'])\n",
        "  plt.plot(ep, history.history['val_accuracy'])\n",
        "  plt.ylabel('Accuracy')\n",
        "  plt.ylabel('Epochs')\n",
        "  plt.legend(['Train','Val'])\n",
        "  plt.show()\n",
        "\n",
        "def plot_losscurve(a, history, epochs):\n",
        "  ep = range(1, epochs+1)\n",
        "  plt.title(a+' Model Loss')\n",
        "  plt.plot(ep, history.history['loss'])\n",
        "  plt.plot(ep, history.history['val_loss'])\n",
        "  plt.ylabel('Loss')\n",
        "  plt.ylabel('Epochs')\n",
        "  plt.legend(['Train','Val'])\n",
        "  plt.show()"
      ],
      "execution_count": 28,
      "outputs": []
    },
    {
      "cell_type": "code",
      "metadata": {
        "colab": {
          "base_uri": "https://localhost:8080/",
          "height": 545
        },
        "id": "N6ujZ6OJquOW",
        "outputId": "35c60da9-aa21-483d-d08c-723c6254c567"
      },
      "source": [
        "plot_accuracycurve('Activity', history, 20)\n",
        "plot_losscurve('Activity', history, 20)"
      ],
      "execution_count": 29,
      "outputs": [
        {
          "output_type": "display_data",
          "data": {
            "image/png": "[encoded data removed]",
            "text/plain": [
              "<Figure size 432x288 with 1 Axes>"
            ]
          },
          "metadata": {
            "needs_background": "light"
          }
        },
        {
          "output_type": "display_data",
          "data": {
            "image/png": "[encoded data removed]",
            "text/plain": [
              "<Figure size 432x288 with 1 Axes>"
            ]
          },
          "metadata": {
            "needs_background": "light"
          }
        }
      ]
    },
    {
      "cell_type": "code",
      "metadata": {
        "colab": {
          "base_uri": "https://localhost:8080/"
        },
        "id": "zwqo5HScq1_i",
        "outputId": "501dda83-d823-4357-c597-e7e0957b3309"
      },
      "source": [
        "pip install mlxtend"
      ],
      "execution_count": 32,
      "outputs": [
        {
          "output_type": "stream",
          "name": "stdout",
          "text": [
            "Requirement already satisfied: mlxtend in /usr/local/lib/python3.7/dist-packages (0.14.0)\n",
            "Requirement already satisfied: pandas>=0.17.1 in /usr/local/lib/python3.7/dist-packages (from mlxtend) (1.1.5)\n",
            "Requirement already satisfied: setuptools in /usr/local/lib/python3.7/dist-packages (from mlxtend) (57.4.0)\n",
            "Requirement already satisfied: numpy>=1.10.4 in /usr/local/lib/python3.7/dist-packages (from mlxtend) (1.19.5)\n",
            "Requirement already satisfied: scipy>=0.17 in /usr/local/lib/python3.7/dist-packages (from mlxtend) (1.4.1)\n",
            "Requirement already satisfied: scikit-learn>=0.18 in /usr/local/lib/python3.7/dist-packages (from mlxtend) (0.22.2.post1)\n",
            "Requirement already satisfied: matplotlib>=1.5.1 in /usr/local/lib/python3.7/dist-packages (from mlxtend) (3.2.2)\n",
            "Requirement already satisfied: kiwisolver>=1.0.1 in /usr/local/lib/python3.7/dist-packages (from matplotlib>=1.5.1->mlxtend) (1.3.2)\n",
            "Requirement already satisfied: pyparsing!=2.0.4,!=2.1.2,!=2.1.6,>=2.0.1 in /usr/local/lib/python3.7/dist-packages (from matplotlib>=1.5.1->mlxtend) (2.4.7)\n",
            "Requirement already satisfied: cycler>=0.10 in /usr/local/lib/python3.7/dist-packages (from matplotlib>=1.5.1->mlxtend) (0.10.0)\n",
            "Requirement already satisfied: python-dateutil>=2.1 in /usr/local/lib/python3.7/dist-packages (from matplotlib>=1.5.1->mlxtend) (2.8.2)\n",
            "Requirement already satisfied: six in /usr/local/lib/python3.7/dist-packages (from cycler>=0.10->matplotlib>=1.5.1->mlxtend) (1.15.0)\n",
            "Requirement already satisfied: pytz>=2017.2 in /usr/local/lib/python3.7/dist-packages (from pandas>=0.17.1->mlxtend) (2018.9)\n",
            "Requirement already satisfied: joblib>=0.11 in /usr/local/lib/python3.7/dist-packages (from scikit-learn>=0.18->mlxtend) (1.0.1)\n"
          ]
        }
      ]
    },
    {
      "cell_type": "code",
      "metadata": {
        "id": "onzQ8i1TrpFR"
      },
      "source": [
        "from mlxtend.plotting import plot_confusion_matrix\n",
        "from sklearn.metrics import confusion_matrix"
      ],
      "execution_count": 33,
      "outputs": []
    },
    {
      "cell_type": "code",
      "metadata": {
        "colab": {
          "base_uri": "https://localhost:8080/",
          "height": 313
        },
        "id": "6DBUZsqjrt31",
        "outputId": "6426d990-9b56-4fec-e545-c381988577a7"
      },
      "source": [
        "Y_P = model.predict(X_test)\n",
        "Y_predict=np.argmax(Y_P,axis=1)\n",
        "mat = confusion_matrix(Y_test, Y_predict)\n",
        "plot_confusion_matrix(conf_mat=mat, show_normed=True, colorbar=True)"
      ],
      "execution_count": 34,
      "outputs": [
        {
          "output_type": "execute_result",
          "data": {
            "text/plain": [
              "(<Figure size 432x288 with 2 Axes>,\n",
              " <matplotlib.axes._subplots.AxesSubplot at 0x7f31670faad0>)"
            ]
          },
          "metadata": {},
          "execution_count": 34
        },
        {
          "output_type": "display_data",
          "data": {
            "image/png": "[encoded data removed]",
            "text/plain": [
              "<Figure size 432x288 with 2 Axes>"
            ]
          },
          "metadata": {
            "needs_background": "light"
          }
        }
      ]
    },
    {
      "cell_type": "code",
      "metadata": {
        "colab": {
          "base_uri": "https://localhost:8080/"
        },
        "id": "vlbwdRz6r6qF",
        "outputId": "a5e3e740-7a6e-4274-929c-5924c1a4a4f1"
      },
      "source": [
        "print(label.classes_)"
      ],
      "execution_count": 35,
      "outputs": [
        {
          "output_type": "stream",
          "name": "stdout",
          "text": [
            "['CHAIR' 'LYING_UP' 'STANDING']\n"
          ]
        }
      ]
    }
  ]
}