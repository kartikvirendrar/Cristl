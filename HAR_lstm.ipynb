{
  "nbformat": 4,
  "nbformat_minor": 0,
  "metadata": {
    "colab": {
      "name": "HAR_lstm.ipynb",
      "provenance": [],
      "mount_file_id": "1KQ-3GKXh_u1xIY1_oj9YWKIwthNLY4yF",
      "authorship_tag": "ABX9TyNcH6VphfdL03xxvM/IzgdJ",
      "include_colab_link": true
    },
    "kernelspec": {
      "name": "python3",
      "display_name": "Python 3"
    },
    "language_info": {
      "name": "python"
    }
  },
  "cells": [
    {
      "cell_type": "markdown",
      "metadata": {
        "id": "view-in-github",
        "colab_type": "text"
      },
      "source": [
        "<a href=\"https://colab.research.google.com/github/AMEYABHAVE/Cristl/blob/main/HAR_lstm.ipynb\" target=\"_parent\"><img src=\"https://colab.research.google.com/assets/colab-badge.svg\" alt=\"Open In Colab\"/></a>"
      ]
    },
    {
      "cell_type": "code",
      "metadata": {
        "colab": {
          "base_uri": "https://localhost:8080/"
        },
        "id": "J_39geOCNFWK",
        "outputId": "24c094e9-614a-4b5f-b1e6-f0af297b17f2"
      },
      "source": [
        "import tensorflow as tf\n",
        "from tensorflow.keras import Sequential\n",
        "from tensorflow.keras.layers import Flatten, Dense, Dropout, BatchNormalization, LSTM\n",
        "from tensorflow.keras.layers import Conv2D, MaxPool2D\n",
        "from tensorflow.keras.optimizers import Adam\n",
        "from keras.regularizers import l2\n",
        "print(tf.__version__)"
      ],
      "execution_count": 1,
      "outputs": [
        {
          "output_type": "stream",
          "name": "stdout",
          "text": [
            "2.6.0\n"
          ]
        }
      ]
    },
    {
      "cell_type": "code",
      "metadata": {
        "id": "UT9qcnFnB0Qt"
      },
      "source": [
        "from google.colab import drive\n",
        "import pandas as pd\n",
        "file_location = '/content/drive/MyDrive/accelerometer.csv'"
      ],
      "execution_count": 2,
      "outputs": []
    },
    {
      "cell_type": "code",
      "metadata": {
        "id": "XOv7Iw1jOdTc"
      },
      "source": [
        "accelerometer =pd.read_csv(file_location)\n",
        "accelerometer.drop(columns=['time','repetition','uuid'], inplace=True)\n",
        "accsitting= accelerometer[accelerometer['activity'] == 'CHAIR'].head(9875)\n",
        "accstanding= accelerometer[accelerometer['activity'] == 'STANDING'].head(9875)\n",
        "acclying= accelerometer[accelerometer['activity'] == 'LYING_UP'].head(9875)\n",
        "accdataset = pd.DataFrame()\n",
        "accdataset = accdataset.append([accsitting, accstanding, acclying])\n",
        "accdataset.drop(columns=['activity'], inplace=True)\n",
        "\n",
        "file_location1 = '/content/drive/MyDrive/gyroscope.csv'\n",
        "gyroscope =pd.read_csv(file_location1)\n",
        "gyroscope.drop(columns=['time','repetition','uuid'], inplace=True)\n",
        "gyrsitting= gyroscope[gyroscope['activity'] == 'CHAIR'].head(9875)\n",
        "gyrstanding= gyroscope[gyroscope['activity'] == 'STANDING'].head(9875)\n",
        "gyrlying= gyroscope[gyroscope['activity'] == 'LYING_UP'].head(9875)\n",
        "gyrdataset = pd.DataFrame()\n",
        "gyrdataset = gyrdataset.append([gyrsitting, gyrstanding, gyrlying])\n",
        "\n",
        "dataset=pd.concat([accdataset, gyrdataset.set_index(accdataset.index)], axis=1)\n",
        "dataset.drop(columns=['name'], inplace=True)"
      ],
      "execution_count": 3,
      "outputs": []
    },
    {
      "cell_type": "code",
      "metadata": {
        "colab": {
          "base_uri": "https://localhost:8080/"
        },
        "id": "ulpTn2jJsCkN",
        "outputId": "aa5e2e1b-1e5c-4560-bbc4-741e16efc162"
      },
      "source": [
        "dataset.info()"
      ],
      "execution_count": 4,
      "outputs": [
        {
          "output_type": "stream",
          "name": "stdout",
          "text": [
            "<class 'pandas.core.frame.DataFrame'>\n",
            "Int64Index: 29625 entries, 0 to 93591\n",
            "Data columns (total 7 columns):\n",
            " #   Column    Non-Null Count  Dtype  \n",
            "---  ------    --------------  -----  \n",
            " 0   acc_x     29625 non-null  float64\n",
            " 1   acc_y     29625 non-null  float64\n",
            " 2   acc_z     29625 non-null  float64\n",
            " 3   gyr_x     29625 non-null  float64\n",
            " 4   gyr_y     29625 non-null  float64\n",
            " 5   gyr_z     29625 non-null  float64\n",
            " 6   activity  29625 non-null  object \n",
            "dtypes: float64(6), object(1)\n",
            "memory usage: 1.8+ MB\n"
          ]
        }
      ]
    },
    {
      "cell_type": "code",
      "metadata": {
        "colab": {
          "base_uri": "https://localhost:8080/"
        },
        "id": "uqoudP-YtmC3",
        "outputId": "19cd5d9d-f861-45ab-e63d-dc7621f9302e"
      },
      "source": [
        "dataset['activity'].value_counts()"
      ],
      "execution_count": 5,
      "outputs": [
        {
          "output_type": "execute_result",
          "data": {
            "text/plain": [
              "LYING_UP    9875\n",
              "CHAIR       9875\n",
              "STANDING    9875\n",
              "Name: activity, dtype: int64"
            ]
          },
          "metadata": {},
          "execution_count": 5
        }
      ]
    },
    {
      "cell_type": "code",
      "metadata": {
        "colab": {
          "base_uri": "https://localhost:8080/"
        },
        "id": "ROo7wt7tt_a8",
        "outputId": "27ba8ea0-4ecd-489e-bfec-d6b5bbbe3ce2"
      },
      "source": [
        "import numpy as np\n",
        "import matplotlib.pyplot as plt\n",
        "from sklearn.model_selection import train_test_split\n",
        "from sklearn.preprocessing import StandardScaler\n",
        "print(dataset.head())"
      ],
      "execution_count": 6,
      "outputs": [
        {
          "output_type": "stream",
          "name": "stdout",
          "text": [
            "      acc_x     acc_y     acc_z     gyr_x     gyr_y     gyr_z activity\n",
            "0 -0.414825  7.590469  6.235336 -0.309540  7.679596  6.142029    CHAIR\n",
            "1 -0.337662  7.645508  6.125275 -0.530884  7.897354  5.765747    CHAIR\n",
            "2 -0.393295  7.605423  6.231155 -0.608643  8.231140  5.266846    CHAIR\n",
            "3 -0.469269  7.592865  6.281403 -0.570953  8.260452  5.229172    CHAIR\n",
            "4 -0.418411  7.633530  6.317307 -0.816223  8.244308  5.284195    CHAIR\n"
          ]
        }
      ]
    },
    {
      "cell_type": "code",
      "metadata": {
        "colab": {
          "base_uri": "https://localhost:8080/",
          "height": 417
        },
        "id": "upyuAIepv96H",
        "outputId": "2c69b9e0-4f1c-446e-bde3-97e3aeff15e0"
      },
      "source": [
        "X = dataset[['acc_x','acc_y','acc_z','gyr_x','gyr_y','gyr_z']]\n",
        "Y = dataset['activity']\n",
        "scaler = StandardScaler()\n",
        "X = scaler.fit_transform(X)\n",
        "scaled_X = pd.DataFrame(data=X, columns=['acc_x','acc_y','acc_z','gyr_x','gyr_y','gyr_z'])\n",
        "scaled_X['activity'] = Y.values\n",
        "scaled_X"
      ],
      "execution_count": 7,
      "outputs": [
        {
          "output_type": "execute_result",
          "data": {
            "text/html": [
              "<div>\n",
              "<style scoped>\n",
              "    .dataframe tbody tr th:only-of-type {\n",
              "        vertical-align: middle;\n",
              "    }\n",
              "\n",
              "    .dataframe tbody tr th {\n",
              "        vertical-align: top;\n",
              "    }\n",
              "\n",
              "    .dataframe thead th {\n",
              "        text-align: right;\n",
              "    }\n",
              "</style>\n",
              "<table border=\"1\" class=\"dataframe\">\n",
              "  <thead>\n",
              "    <tr style=\"text-align: right;\">\n",
              "      <th></th>\n",
              "      <th>acc_x</th>\n",
              "      <th>acc_y</th>\n",
              "      <th>acc_z</th>\n",
              "      <th>gyr_x</th>\n",
              "      <th>gyr_y</th>\n",
              "      <th>gyr_z</th>\n",
              "      <th>activity</th>\n",
              "    </tr>\n",
              "  </thead>\n",
              "  <tbody>\n",
              "    <tr>\n",
              "      <th>0</th>\n",
              "      <td>-0.610501</td>\n",
              "      <td>0.705138</td>\n",
              "      <td>0.431830</td>\n",
              "      <td>-0.511514</td>\n",
              "      <td>0.743974</td>\n",
              "      <td>0.380241</td>\n",
              "      <td>CHAIR</td>\n",
              "    </tr>\n",
              "    <tr>\n",
              "      <th>1</th>\n",
              "      <td>-0.525900</td>\n",
              "      <td>0.725603</td>\n",
              "      <td>0.415590</td>\n",
              "      <td>-0.751855</td>\n",
              "      <td>0.819761</td>\n",
              "      <td>0.323345</td>\n",
              "      <td>CHAIR</td>\n",
              "    </tr>\n",
              "    <tr>\n",
              "      <th>2</th>\n",
              "      <td>-0.586896</td>\n",
              "      <td>0.710698</td>\n",
              "      <td>0.431213</td>\n",
              "      <td>-0.836288</td>\n",
              "      <td>0.935931</td>\n",
              "      <td>0.247909</td>\n",
              "      <td>CHAIR</td>\n",
              "    </tr>\n",
              "    <tr>\n",
              "      <th>3</th>\n",
              "      <td>-0.670191</td>\n",
              "      <td>0.706029</td>\n",
              "      <td>0.438628</td>\n",
              "      <td>-0.795364</td>\n",
              "      <td>0.946133</td>\n",
              "      <td>0.242213</td>\n",
              "      <td>CHAIR</td>\n",
              "    </tr>\n",
              "    <tr>\n",
              "      <th>4</th>\n",
              "      <td>-0.614432</td>\n",
              "      <td>0.721149</td>\n",
              "      <td>0.443926</td>\n",
              "      <td>-1.061684</td>\n",
              "      <td>0.940514</td>\n",
              "      <td>0.250533</td>\n",
              "      <td>CHAIR</td>\n",
              "    </tr>\n",
              "    <tr>\n",
              "      <th>...</th>\n",
              "      <td>...</td>\n",
              "      <td>...</td>\n",
              "      <td>...</td>\n",
              "      <td>...</td>\n",
              "      <td>...</td>\n",
              "      <td>...</td>\n",
              "      <td>...</td>\n",
              "    </tr>\n",
              "    <tr>\n",
              "      <th>29620</th>\n",
              "      <td>1.077678</td>\n",
              "      <td>1.494336</td>\n",
              "      <td>-0.388644</td>\n",
              "      <td>0.393923</td>\n",
              "      <td>1.434373</td>\n",
              "      <td>-0.432256</td>\n",
              "      <td>LYING_UP</td>\n",
              "    </tr>\n",
              "    <tr>\n",
              "      <th>29621</th>\n",
              "      <td>1.107858</td>\n",
              "      <td>1.472311</td>\n",
              "      <td>-0.378226</td>\n",
              "      <td>0.417320</td>\n",
              "      <td>1.446039</td>\n",
              "      <td>-0.434066</td>\n",
              "      <td>LYING_UP</td>\n",
              "    </tr>\n",
              "    <tr>\n",
              "      <th>29622</th>\n",
              "      <td>1.135394</td>\n",
              "      <td>1.471199</td>\n",
              "      <td>-0.370548</td>\n",
              "      <td>0.326331</td>\n",
              "      <td>1.445205</td>\n",
              "      <td>-0.435876</td>\n",
              "      <td>LYING_UP</td>\n",
              "    </tr>\n",
              "    <tr>\n",
              "      <th>29623</th>\n",
              "      <td>1.105884</td>\n",
              "      <td>1.486325</td>\n",
              "      <td>-0.393499</td>\n",
              "      <td>0.383524</td>\n",
              "      <td>1.451038</td>\n",
              "      <td>-0.441668</td>\n",
              "      <td>LYING_UP</td>\n",
              "    </tr>\n",
              "    <tr>\n",
              "      <th>29624</th>\n",
              "      <td>1.046210</td>\n",
              "      <td>1.489440</td>\n",
              "      <td>-0.394823</td>\n",
              "      <td>0.388723</td>\n",
              "      <td>1.450205</td>\n",
              "      <td>-0.443116</td>\n",
              "      <td>LYING_UP</td>\n",
              "    </tr>\n",
              "  </tbody>\n",
              "</table>\n",
              "<p>29625 rows × 7 columns</p>\n",
              "</div>"
            ],
            "text/plain": [
              "          acc_x     acc_y     acc_z     gyr_x     gyr_y     gyr_z  activity\n",
              "0     -0.610501  0.705138  0.431830 -0.511514  0.743974  0.380241     CHAIR\n",
              "1     -0.525900  0.725603  0.415590 -0.751855  0.819761  0.323345     CHAIR\n",
              "2     -0.586896  0.710698  0.431213 -0.836288  0.935931  0.247909     CHAIR\n",
              "3     -0.670191  0.706029  0.438628 -0.795364  0.946133  0.242213     CHAIR\n",
              "4     -0.614432  0.721149  0.443926 -1.061684  0.940514  0.250533     CHAIR\n",
              "...         ...       ...       ...       ...       ...       ...       ...\n",
              "29620  1.077678  1.494336 -0.388644  0.393923  1.434373 -0.432256  LYING_UP\n",
              "29621  1.107858  1.472311 -0.378226  0.417320  1.446039 -0.434066  LYING_UP\n",
              "29622  1.135394  1.471199 -0.370548  0.326331  1.445205 -0.435876  LYING_UP\n",
              "29623  1.105884  1.486325 -0.393499  0.383524  1.451038 -0.441668  LYING_UP\n",
              "29624  1.046210  1.489440 -0.394823  0.388723  1.450205 -0.443116  LYING_UP\n",
              "\n",
              "[29625 rows x 7 columns]"
            ]
          },
          "metadata": {},
          "execution_count": 7
        }
      ]
    },
    {
      "cell_type": "code",
      "metadata": {
        "id": "hlyuFQSbFVSh"
      },
      "source": [
        "X_train = scaled_X[scaled_X.columns[:6]]\n",
        "Y_train = scaled_X[scaled_X.columns[6:7]]"
      ],
      "execution_count": 8,
      "outputs": []
    },
    {
      "cell_type": "code",
      "metadata": {
        "id": "pVnp1Ep9FrQl"
      },
      "source": [
        "from sklearn.preprocessing import LabelEncoder\n",
        "\n",
        "encoder=LabelEncoder()\n",
        "Y_train=encoder.fit_transform(Y_train)"
      ],
      "execution_count": null,
      "outputs": []
    },
    {
      "cell_type": "code",
      "metadata": {
        "colab": {
          "base_uri": "https://localhost:8080/"
        },
        "id": "YCf8cr39Gy_g",
        "outputId": "1c7e4f94-d0d6-43dd-ef9b-e73b26fd53da"
      },
      "source": [
        "def train_test_split(X, y, split_size=0.8):\n",
        "    split= int(len(X) * split_size)\n",
        "    train_x = X[:split]\n",
        "    train_y = y[:split]\n",
        "    test_x = X[split:]\n",
        "    test_y = y[split: ]\n",
        "    return train_x, test_x, train_y, test_y\n",
        "\n",
        "X_train,X_test,Y_train, Y_test =train_test_split(X_train, Y_train)\n",
        "\n",
        "print(\"X_train shape \", X_train.shape)\n",
        "print(\"Y train shape \", Y_train.shape)\n",
        "print(\"X_test shape \", X_test.shape)\n",
        "print(\"y_test shape \", Y_test.shape)"
      ],
      "execution_count": 10,
      "outputs": [
        {
          "output_type": "stream",
          "name": "stdout",
          "text": [
            "X_train shape  (23700, 6)\n",
            "Y train shape  (23700,)\n",
            "X_test shape  (5925, 6)\n",
            "y_test shape  (5925,)\n"
          ]
        }
      ]
    },
    {
      "cell_type": "code",
      "metadata": {
        "id": "lcCoH0I1CCTf"
      },
      "source": [
        "from keras.preprocessing.sequence import TimeseriesGenerator\n",
        "\n",
        "time_steps = 100\n",
        "features = 6\n",
        "\n",
        "train_gen=TimeseriesGenerator(X_train.to_numpy(), Y_train, length=time_steps, batch_size=1024)\n",
        "test_gen=TimeseriesGenerator(X_test.to_numpy(), Y_test, length=time_steps, batch_size=1024)"
      ],
      "execution_count": 11,
      "outputs": []
    },
    {
      "cell_type": "code",
      "metadata": {
        "colab": {
          "base_uri": "https://localhost:8080/"
        },
        "id": "Dzx1wGQbHYo6",
        "outputId": "31a33754-96b8-4af6-8eb1-c6c2a434964b"
      },
      "source": [
        "model=Sequential()\n",
        "model.add(LSTM(32, return_sequences=True, input_shape = (time_steps, features),\n",
        "              kernel_regularizer = l2(0.000001), bias_regularizer = l2(0.000001), name='lstm_1'))  model.add(Flatten(name='flatten')) \n",
        "model.add(Dense(64, activation='relu',kernel_regularizer = l2(0.000001), bias_regularizer = l2(0.000001), name='dense_1' )) \n",
        "model.add(Dense(len(np.unique(Y_train)), activation='softmax', \n",
        "                kernel_regularizer = l2(0.000001), bias_regularizer = l2(0.000001), name='output'))\n",
        "model.summary() "
      ],
      "execution_count": 12,
      "outputs": [
        {
          "output_type": "stream",
          "name": "stdout",
          "text": [
            "Model: \"sequential\"\n",
            "_________________________________________________________________\n",
            "Layer (type)                 Output Shape              Param #   \n",
            "=================================================================\n",
            "lstm_1 (LSTM)                (None, 100, 32)           4992      \n",
            "_________________________________________________________________\n",
            "flatten (Flatten)            (None, 3200)              0         \n",
            "_________________________________________________________________\n",
            "dense_1 (Dense)              (None, 64)                204864    \n",
            "_________________________________________________________________\n",
            "output (Dense)               (None, 3)                 195       \n",
            "=================================================================\n",
            "Total params: 210,051\n",
            "Trainable params: 210,051\n",
            "Non-trainable params: 0\n",
            "_________________________________________________________________\n"
          ]
        }
      ]
    },
    {
      "cell_type": "code",
      "metadata": {
        "id": "pssfo_E_JGS0"
      },
      "source": [
        "model.compile(loss='sparse_categorical_crossentropy', optimizer=Adam(), metrics=['accuracy'])"
      ],
      "execution_count": 13,
      "outputs": []
    },
    {
      "cell_type": "code",
      "metadata": {
        "id": "Zdxo2trPJIyI"
      },
      "source": [
        "from keras.callbacks import ModelCheckpoint\n",
        "callbacks= [ModelCheckpoint('model.h5', save_weights_only=False, save_best_only=True, verbose=1)]"
      ],
      "execution_count": 14,
      "outputs": []
    },
    {
      "cell_type": "code",
      "metadata": {
        "colab": {
          "base_uri": "https://localhost:8080/"
        },
        "id": "1D0pSnEdJkhA",
        "outputId": "72d9ab50-f882-43ba-92c2-67e11c656314"
      },
      "source": [
        "history = model.fit(train_gen, epochs=5, validation_data=test_gen, callbacks=callbacks)"
      ],
      "execution_count": 15,
      "outputs": [
        {
          "output_type": "stream",
          "name": "stdout",
          "text": [
            "Epoch 1/5\n",
            "24/24 [==============================] - 10s 338ms/step - loss: 0.9728 - accuracy: 0.5283 - val_loss: 1.2896 - val_accuracy: 0.7674\n",
            "\n",
            "Epoch 00001: val_loss improved from inf to 1.28958, saving model to model.h5\n",
            "Epoch 2/5\n",
            "24/24 [==============================] - 8s 314ms/step - loss: 0.5443 - accuracy: 0.7783 - val_loss: 1.6739 - val_accuracy: 0.7674\n",
            "\n",
            "Epoch 00002: val_loss did not improve from 1.28958\n",
            "Epoch 3/5\n",
            "24/24 [==============================] - 7s 312ms/step - loss: 0.4062 - accuracy: 0.8416 - val_loss: 1.1289 - val_accuracy: 0.7676\n",
            "\n",
            "Epoch 00003: val_loss improved from 1.28958 to 1.12886, saving model to model.h5\n",
            "Epoch 4/5\n",
            "24/24 [==============================] - 8s 312ms/step - loss: 0.3628 - accuracy: 0.8362 - val_loss: 1.4230 - val_accuracy: 0.7610\n",
            "\n",
            "Epoch 00004: val_loss did not improve from 1.12886\n",
            "Epoch 5/5\n",
            "24/24 [==============================] - 8s 313ms/step - loss: 0.3503 - accuracy: 0.8589 - val_loss: 1.5345 - val_accuracy: 0.7612\n",
            "\n",
            "Epoch 00005: val_loss did not improve from 1.12886\n"
          ]
        }
      ]
    },
    {
      "cell_type": "code",
      "metadata": {
        "colab": {
          "base_uri": "https://localhost:8080/"
        },
        "id": "4QdWPrHhJ0Vi",
        "outputId": "62fd09ca-422c-4b48-83b9-eb28e09f66b9"
      },
      "source": [
        "from keras.models import load_model\n",
        "model=load_model('model.h5')\n",
        "model.summary()"
      ],
      "execution_count": 16,
      "outputs": [
        {
          "output_type": "stream",
          "name": "stdout",
          "text": [
            "Model: \"sequential\"\n",
            "_________________________________________________________________\n",
            "Layer (type)                 Output Shape              Param #   \n",
            "=================================================================\n",
            "lstm_1 (LSTM)                (None, 100, 32)           4992      \n",
            "_________________________________________________________________\n",
            "flatten (Flatten)            (None, 3200)              0         \n",
            "_________________________________________________________________\n",
            "dense_1 (Dense)              (None, 64)                204864    \n",
            "_________________________________________________________________\n",
            "output (Dense)               (None, 3)                 195       \n",
            "=================================================================\n",
            "Total params: 210,051\n",
            "Trainable params: 210,051\n",
            "Non-trainable params: 0\n",
            "_________________________________________________________________\n"
          ]
        }
      ]
    }
  ]
}