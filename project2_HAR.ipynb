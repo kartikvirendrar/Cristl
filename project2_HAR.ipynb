{
  "nbformat": 4,
  "nbformat_minor": 0,
  "metadata": {
    "colab": {
      "name": "project2_HAR.ipynb",
      "provenance": [],
      "mount_file_id": "https://github.com/AMEYABHAVE/Cristl/blob/main/project2_HAR.ipynb",
      "authorship_tag": "ABX9TyPT1YDNX43CPqP/1w55XQgW",
      "include_colab_link": true
    },
    "kernelspec": {
      "name": "python3",
      "display_name": "Python 3"
    },
    "language_info": {
      "name": "python"
    }
  },
  "cells": [
    {
      "cell_type": "markdown",
      "metadata": {
        "id": "view-in-github",
        "colab_type": "text"
      },
      "source": [
        "<a href=\"https://colab.research.google.com/github/kartikvirendrar/Cristl/blob/main/project2_HAR.ipynb\" target=\"_parent\"><img src=\"https://colab.research.google.com/assets/colab-badge.svg\" alt=\"Open In Colab\"/></a>"
      ]
    },
    {
      "cell_type": "code",
      "metadata": {
        "colab": {
          "base_uri": "https://localhost:8080/"
        },
        "id": "J_39geOCNFWK",
        "outputId": "2d769f5c-9512-4149-c807-6b3b4a730340"
      },
      "source": [
        "import tensorflow as tf\n",
        "from tensorflow.keras import Sequential\n",
        "from tensorflow.keras.layers import Flatten, Dense, Dropout, BatchNormalization\n",
        "from tensorflow.keras.layers import Conv2D, MaxPool2D\n",
        "from tensorflow.keras.optimizers import Adam\n",
        "print(tf.__version__)"
      ],
      "execution_count": 1,
      "outputs": [
        {
          "output_type": "stream",
          "name": "stdout",
          "text": [
            "2.6.0\n"
          ]
        }
      ]
    },
    {
      "cell_type": "code",
      "metadata": {
        "id": "XOv7Iw1jOdTc"
      },
      "source": [
        "from google.colab import drive\n",
        "import pandas as pd\n",
        "file_location = '/content/drive/MyDrive/accelerometer.csv'\n",
        "accelerometer =pd.read_csv(file_location)\n",
        "accelerometer.drop(columns=['time','repetition','uuid'], inplace=True)\n",
        "accsitting= accelerometer[accelerometer['activity'] == 'CHAIR'].head(31668)\n",
        "accstanding= accelerometer[accelerometer['activity'] == 'STANDING']\n",
        "acclying= accelerometer[accelerometer['activity'] == 'LYING_UP']\n",
        "acclying= acclying.append(accelerometer[accelerometer['activity'] == 'LYING_SIDE'].head(520))\n",
        "acclying.drop(columns=['activity'], inplace=True)\n",
        "acclying['activity']='LYING_UP'\n",
        "accdataset = pd.DataFrame()\n",
        "accdataset = accdataset.append([accsitting, accstanding, acclying])\n",
        "\n",
        "file_location1 = '/content/drive/MyDrive/gyroscope.csv'\n",
        "gyroscope =pd.read_csv(file_location1)\n",
        "gyroscope.drop(columns=['time','repetition','uuid'], inplace=True)\n",
        "gyrsitting= gyroscope[gyroscope['activity'] == 'CHAIR'].head(9875)\n",
        "gyrstanding= gyroscope[gyroscope['activity'] == 'STANDING'].head(9875)\n",
        "gyrlying= gyroscope[gyroscope['activity'] == 'LYING_UP'].head(9875)\n",
        "gyrdataset = pd.DataFrame()\n",
        "gyrdataset = gyrdataset.append([gyrsitting, gyrstanding, gyrlying])"
      ],
      "execution_count": 10,
      "outputs": []
    },
    {
      "cell_type": "code",
      "metadata": {
        "colab": {
          "base_uri": "https://localhost:8080/"
        },
        "id": "ulpTn2jJsCkN",
        "outputId": "6181ad77-6911-49a0-8ad8-61d910c28576"
      },
      "source": [
        "accdataset.info()\n",
        "gyrdataset.info()"
      ],
      "execution_count": 11,
      "outputs": [
        {
          "output_type": "stream",
          "name": "stdout",
          "text": [
            "<class 'pandas.core.frame.DataFrame'>\n",
            "Int64Index: 95004 entries, 0 to 5319\n",
            "Data columns (total 5 columns):\n",
            " #   Column    Non-Null Count  Dtype  \n",
            "---  ------    --------------  -----  \n",
            " 0   name      95004 non-null  object \n",
            " 1   acc_x     95004 non-null  float64\n",
            " 2   acc_y     95004 non-null  float64\n",
            " 3   acc_z     95004 non-null  float64\n",
            " 4   activity  95004 non-null  object \n",
            "dtypes: float64(3), object(2)\n",
            "memory usage: 4.3+ MB\n",
            "<class 'pandas.core.frame.DataFrame'>\n",
            "Int64Index: 29625 entries, 0 to 89378\n",
            "Data columns (total 5 columns):\n",
            " #   Column    Non-Null Count  Dtype  \n",
            "---  ------    --------------  -----  \n",
            " 0   name      29625 non-null  object \n",
            " 1   gyr_x     29625 non-null  float64\n",
            " 2   gyr_y     29625 non-null  float64\n",
            " 3   gyr_z     29625 non-null  float64\n",
            " 4   activity  29625 non-null  object \n",
            "dtypes: float64(3), object(2)\n",
            "memory usage: 1.4+ MB\n"
          ]
        }
      ]
    },
    {
      "cell_type": "code",
      "metadata": {
        "colab": {
          "base_uri": "https://localhost:8080/"
        },
        "id": "uqoudP-YtmC3",
        "outputId": "cd8585ed-ff1d-4170-b0e7-e3ede437191e"
      },
      "source": [
        "accdataset['activity'].value_counts()"
      ],
      "execution_count": 12,
      "outputs": [
        {
          "output_type": "execute_result",
          "data": {
            "text/plain": [
              "LYING_UP    31668\n",
              "STANDING    31668\n",
              "CHAIR       31668\n",
              "Name: activity, dtype: int64"
            ]
          },
          "metadata": {},
          "execution_count": 12
        }
      ]
    },
    {
      "cell_type": "code",
      "metadata": {
        "colab": {
          "base_uri": "https://localhost:8080/"
        },
        "id": "3dxiYlzHtp2f",
        "outputId": "4befa1eb-4376-4759-f74b-6883fef2455d"
      },
      "source": [
        "gyrdataset['activity'].value_counts()"
      ],
      "execution_count": 13,
      "outputs": [
        {
          "output_type": "execute_result",
          "data": {
            "text/plain": [
              "STANDING    9875\n",
              "CHAIR       9875\n",
              "LYING_UP    9875\n",
              "Name: activity, dtype: int64"
            ]
          },
          "metadata": {},
          "execution_count": 13
        }
      ]
    },
    {
      "cell_type": "code",
      "metadata": {
        "colab": {
          "base_uri": "https://localhost:8080/"
        },
        "id": "ROo7wt7tt_a8",
        "outputId": "f3aa50ab-f538-4287-97c0-d02241beebb6"
      },
      "source": [
        "import numpy as np\n",
        "import matplotlib.pyplot as plt\n",
        "from sklearn.model_selection import train_test_split\n",
        "from sklearn.preprocessing import StandardScaler, LabelEncoder\n",
        "alabel=LabelEncoder()\n",
        "accdataset['label']=alabel.fit_transform(accdataset['activity'])\n",
        "print(accdataset.head())\n",
        "print(alabel.classes_)"
      ],
      "execution_count": 17,
      "outputs": [
        {
          "output_type": "stream",
          "name": "stdout",
          "text": [
            "            name     acc_x     acc_y     acc_z activity  label\n",
            "0  accelerometer -0.414825  7.590469  6.235336    CHAIR      0\n",
            "1  accelerometer -0.337662  7.645508  6.125275    CHAIR      0\n",
            "2  accelerometer -0.393295  7.605423  6.231155    CHAIR      0\n",
            "3  accelerometer -0.469269  7.592865  6.281403    CHAIR      0\n",
            "4  accelerometer -0.418411  7.633530  6.317307    CHAIR      0\n",
            "['CHAIR' 'LYING_UP' 'STANDING']\n"
          ]
        }
      ]
    },
    {
      "cell_type": "code",
      "metadata": {
        "colab": {
          "base_uri": "https://localhost:8080/"
        },
        "id": "68Fq8PK3vHkE",
        "outputId": "637923ec-db3f-4836-a89a-4757c6719872"
      },
      "source": [
        "glabel=LabelEncoder()\n",
        "gyrdataset['label']=glabel.fit_transform(gyrdataset['activity'])\n",
        "print(gyrdataset.head())\n",
        "print(glabel.classes_)"
      ],
      "execution_count": 18,
      "outputs": [
        {
          "output_type": "stream",
          "name": "stdout",
          "text": [
            "        name     gyr_x     gyr_y     gyr_z activity  label\n",
            "0  gyroscope -0.309540  7.679596  6.142029    CHAIR      0\n",
            "1  gyroscope -0.530884  7.897354  5.765747    CHAIR      0\n",
            "2  gyroscope -0.608643  8.231140  5.266846    CHAIR      0\n",
            "3  gyroscope -0.570953  8.260452  5.229172    CHAIR      0\n",
            "4  gyroscope -0.816223  8.244308  5.284195    CHAIR      0\n",
            "['CHAIR' 'LYING_UP' 'STANDING']\n"
          ]
        }
      ]
    },
    {
      "cell_type": "code",
      "metadata": {
        "colab": {
          "base_uri": "https://localhost:8080/",
          "height": 417
        },
        "id": "upyuAIepv96H",
        "outputId": "79609bee-e570-4bf1-edbc-0abe987ec5e9"
      },
      "source": [
        "AX = accdataset[['acc_x','acc_y','acc_z']]\n",
        "AY = accdataset['label']\n",
        "scaler = StandardScaler()\n",
        "AX = scaler.fit_transform(AX)\n",
        "Ascaled_X = pd.DataFrame(data=AX, columns=['acc_x','acc_y','acc_z'])\n",
        "Ascaled_X['label'] = AY.values\n",
        "Ascaled_X"
      ],
      "execution_count": 19,
      "outputs": [
        {
          "output_type": "execute_result",
          "data": {
            "text/html": [
              "<div>\n",
              "<style scoped>\n",
              "    .dataframe tbody tr th:only-of-type {\n",
              "        vertical-align: middle;\n",
              "    }\n",
              "\n",
              "    .dataframe tbody tr th {\n",
              "        vertical-align: top;\n",
              "    }\n",
              "\n",
              "    .dataframe thead th {\n",
              "        text-align: right;\n",
              "    }\n",
              "</style>\n",
              "<table border=\"1\" class=\"dataframe\">\n",
              "  <thead>\n",
              "    <tr style=\"text-align: right;\">\n",
              "      <th></th>\n",
              "      <th>acc_x</th>\n",
              "      <th>acc_y</th>\n",
              "      <th>acc_z</th>\n",
              "      <th>label</th>\n",
              "    </tr>\n",
              "  </thead>\n",
              "  <tbody>\n",
              "    <tr>\n",
              "      <th>0</th>\n",
              "      <td>-0.407332</td>\n",
              "      <td>0.535859</td>\n",
              "      <td>0.414297</td>\n",
              "      <td>0</td>\n",
              "    </tr>\n",
              "    <tr>\n",
              "      <th>1</th>\n",
              "      <td>-0.342817</td>\n",
              "      <td>0.557656</td>\n",
              "      <td>0.395899</td>\n",
              "      <td>0</td>\n",
              "    </tr>\n",
              "    <tr>\n",
              "      <th>2</th>\n",
              "      <td>-0.389331</td>\n",
              "      <td>0.541781</td>\n",
              "      <td>0.413598</td>\n",
              "      <td>0</td>\n",
              "    </tr>\n",
              "    <tr>\n",
              "      <th>3</th>\n",
              "      <td>-0.452851</td>\n",
              "      <td>0.536808</td>\n",
              "      <td>0.421998</td>\n",
              "      <td>0</td>\n",
              "    </tr>\n",
              "    <tr>\n",
              "      <th>4</th>\n",
              "      <td>-0.410330</td>\n",
              "      <td>0.552913</td>\n",
              "      <td>0.427999</td>\n",
              "      <td>0</td>\n",
              "    </tr>\n",
              "    <tr>\n",
              "      <th>...</th>\n",
              "      <td>...</td>\n",
              "      <td>...</td>\n",
              "      <td>...</td>\n",
              "      <td>...</td>\n",
              "    </tr>\n",
              "    <tr>\n",
              "      <th>94999</th>\n",
              "      <td>-0.532368</td>\n",
              "      <td>1.405810</td>\n",
              "      <td>-0.635258</td>\n",
              "      <td>1</td>\n",
              "    </tr>\n",
              "    <tr>\n",
              "      <th>95000</th>\n",
              "      <td>-0.584891</td>\n",
              "      <td>1.400359</td>\n",
              "      <td>-0.640058</td>\n",
              "      <td>1</td>\n",
              "    </tr>\n",
              "    <tr>\n",
              "      <th>95001</th>\n",
              "      <td>-0.561876</td>\n",
              "      <td>1.406281</td>\n",
              "      <td>-0.642660</td>\n",
              "      <td>1</td>\n",
              "    </tr>\n",
              "    <tr>\n",
              "      <th>95002</th>\n",
              "      <td>-0.572389</td>\n",
              "      <td>1.409841</td>\n",
              "      <td>-0.661458</td>\n",
              "      <td>1</td>\n",
              "    </tr>\n",
              "    <tr>\n",
              "      <th>95003</th>\n",
              "      <td>-0.586881</td>\n",
              "      <td>1.394672</td>\n",
              "      <td>-0.664057</td>\n",
              "      <td>1</td>\n",
              "    </tr>\n",
              "  </tbody>\n",
              "</table>\n",
              "<p>95004 rows × 4 columns</p>\n",
              "</div>"
            ],
            "text/plain": [
              "          acc_x     acc_y     acc_z  label\n",
              "0     -0.407332  0.535859  0.414297      0\n",
              "1     -0.342817  0.557656  0.395899      0\n",
              "2     -0.389331  0.541781  0.413598      0\n",
              "3     -0.452851  0.536808  0.421998      0\n",
              "4     -0.410330  0.552913  0.427999      0\n",
              "...         ...       ...       ...    ...\n",
              "94999 -0.532368  1.405810 -0.635258      1\n",
              "95000 -0.584891  1.400359 -0.640058      1\n",
              "95001 -0.561876  1.406281 -0.642660      1\n",
              "95002 -0.572389  1.409841 -0.661458      1\n",
              "95003 -0.586881  1.394672 -0.664057      1\n",
              "\n",
              "[95004 rows x 4 columns]"
            ]
          },
          "metadata": {},
          "execution_count": 19
        }
      ]
    },
    {
      "cell_type": "code",
      "metadata": {
        "colab": {
          "base_uri": "https://localhost:8080/",
          "height": 417
        },
        "id": "t9qh_ah7xvwO",
        "outputId": "7fc54f07-7588-460f-ffdc-69afcc7d3b89"
      },
      "source": [
        "GX = gyrdataset[['gyr_x','gyr_y','gyr_z']]\n",
        "GY = gyrdataset['label']\n",
        "scaler = StandardScaler()\n",
        "GX = scaler.fit_transform(GX)\n",
        "Gscaled_X = pd.DataFrame(data=GX, columns=['gyr_x','gyr_y','gyr_z'])\n",
        "Gscaled_X['label'] = GY.values\n",
        "Gscaled_X"
      ],
      "execution_count": 20,
      "outputs": [
        {
          "output_type": "execute_result",
          "data": {
            "text/html": [
              "<div>\n",
              "<style scoped>\n",
              "    .dataframe tbody tr th:only-of-type {\n",
              "        vertical-align: middle;\n",
              "    }\n",
              "\n",
              "    .dataframe tbody tr th {\n",
              "        vertical-align: top;\n",
              "    }\n",
              "\n",
              "    .dataframe thead th {\n",
              "        text-align: right;\n",
              "    }\n",
              "</style>\n",
              "<table border=\"1\" class=\"dataframe\">\n",
              "  <thead>\n",
              "    <tr style=\"text-align: right;\">\n",
              "      <th></th>\n",
              "      <th>gyr_x</th>\n",
              "      <th>gyr_y</th>\n",
              "      <th>gyr_z</th>\n",
              "      <th>label</th>\n",
              "    </tr>\n",
              "  </thead>\n",
              "  <tbody>\n",
              "    <tr>\n",
              "      <th>0</th>\n",
              "      <td>-0.511514</td>\n",
              "      <td>0.743974</td>\n",
              "      <td>0.380241</td>\n",
              "      <td>0</td>\n",
              "    </tr>\n",
              "    <tr>\n",
              "      <th>1</th>\n",
              "      <td>-0.751855</td>\n",
              "      <td>0.819761</td>\n",
              "      <td>0.323345</td>\n",
              "      <td>0</td>\n",
              "    </tr>\n",
              "    <tr>\n",
              "      <th>2</th>\n",
              "      <td>-0.836288</td>\n",
              "      <td>0.935931</td>\n",
              "      <td>0.247909</td>\n",
              "      <td>0</td>\n",
              "    </tr>\n",
              "    <tr>\n",
              "      <th>3</th>\n",
              "      <td>-0.795364</td>\n",
              "      <td>0.946133</td>\n",
              "      <td>0.242213</td>\n",
              "      <td>0</td>\n",
              "    </tr>\n",
              "    <tr>\n",
              "      <th>4</th>\n",
              "      <td>-1.061684</td>\n",
              "      <td>0.940514</td>\n",
              "      <td>0.250533</td>\n",
              "      <td>0</td>\n",
              "    </tr>\n",
              "    <tr>\n",
              "      <th>...</th>\n",
              "      <td>...</td>\n",
              "      <td>...</td>\n",
              "      <td>...</td>\n",
              "      <td>...</td>\n",
              "    </tr>\n",
              "    <tr>\n",
              "      <th>29620</th>\n",
              "      <td>0.393923</td>\n",
              "      <td>1.434373</td>\n",
              "      <td>-0.432256</td>\n",
              "      <td>1</td>\n",
              "    </tr>\n",
              "    <tr>\n",
              "      <th>29621</th>\n",
              "      <td>0.417320</td>\n",
              "      <td>1.446039</td>\n",
              "      <td>-0.434066</td>\n",
              "      <td>1</td>\n",
              "    </tr>\n",
              "    <tr>\n",
              "      <th>29622</th>\n",
              "      <td>0.326331</td>\n",
              "      <td>1.445205</td>\n",
              "      <td>-0.435876</td>\n",
              "      <td>1</td>\n",
              "    </tr>\n",
              "    <tr>\n",
              "      <th>29623</th>\n",
              "      <td>0.383524</td>\n",
              "      <td>1.451038</td>\n",
              "      <td>-0.441668</td>\n",
              "      <td>1</td>\n",
              "    </tr>\n",
              "    <tr>\n",
              "      <th>29624</th>\n",
              "      <td>0.388723</td>\n",
              "      <td>1.450205</td>\n",
              "      <td>-0.443116</td>\n",
              "      <td>1</td>\n",
              "    </tr>\n",
              "  </tbody>\n",
              "</table>\n",
              "<p>29625 rows × 4 columns</p>\n",
              "</div>"
            ],
            "text/plain": [
              "          gyr_x     gyr_y     gyr_z  label\n",
              "0     -0.511514  0.743974  0.380241      0\n",
              "1     -0.751855  0.819761  0.323345      0\n",
              "2     -0.836288  0.935931  0.247909      0\n",
              "3     -0.795364  0.946133  0.242213      0\n",
              "4     -1.061684  0.940514  0.250533      0\n",
              "...         ...       ...       ...    ...\n",
              "29620  0.393923  1.434373 -0.432256      1\n",
              "29621  0.417320  1.446039 -0.434066      1\n",
              "29622  0.326331  1.445205 -0.435876      1\n",
              "29623  0.383524  1.451038 -0.441668      1\n",
              "29624  0.388723  1.450205 -0.443116      1\n",
              "\n",
              "[29625 rows x 4 columns]"
            ]
          },
          "metadata": {},
          "execution_count": 20
        }
      ]
    },
    {
      "cell_type": "code",
      "metadata": {
        "id": "6ub433MggPDM"
      },
      "source": [
        "import scipy.stats as stats\n",
        "Fs = 20\n",
        "frame_s = Fs*2\n",
        "hop_s = Fs"
      ],
      "execution_count": 21,
      "outputs": []
    },
    {
      "cell_type": "code",
      "metadata": {
        "id": "n-UOtxBJpw43"
      },
      "source": [
        "def aget_frames(df, frame_s, hop_s):\n",
        "  N = 3\n",
        "  frames=[]\n",
        "  labels=[]\n",
        "  for i in range(0, len(df) - frame_s, hop_s):\n",
        "    x = df['acc_x'].values[i: i+frame_s]\n",
        "    y = df['acc_y'].values[i: i+frame_s]\n",
        "    z = df['acc_z'].values[i: i+frame_s]\n",
        "\n",
        "    label = stats.mode(df['label'][i:i+frame_s])[0][0]\n",
        "    frames.append([x,y,z])\n",
        "    labels.append(label)\n",
        "  \n",
        "  frames = np.asarray(frames).reshape(-1, frame_s, N)\n",
        "  labels = np.asarray(labels)\n",
        "  \n",
        "  return frames, labels"
      ],
      "execution_count": 22,
      "outputs": []
    },
    {
      "cell_type": "code",
      "metadata": {
        "id": "0-OoJK-Pp4Vt"
      },
      "source": [
        "def gget_frames(df, frame_s, hop_s):\n",
        "  N = 3\n",
        "  frames=[]\n",
        "  labels=[]\n",
        "  for i in range(0, len(df) - frame_s, hop_s):\n",
        "    x = df['gyr_x'].values[i: i+frame_s]\n",
        "    y = df['gyr_y'].values[i: i+frame_s]\n",
        "    z = df['gyr_z'].values[i: i+frame_s]\n",
        "\n",
        "    label = stats.mode(df['label'][i:i+frame_s])[0][0]\n",
        "    frames.append([x,y,z])\n",
        "    labels.append(label)\n",
        "  \n",
        "  frames = np.asarray(frames).reshape(-1, frame_s, N)\n",
        "  labels = np.asarray(labels)\n",
        "  \n",
        "  return frames, labels"
      ],
      "execution_count": 23,
      "outputs": []
    },
    {
      "cell_type": "code",
      "metadata": {
        "id": "yONi7nuqp9XK"
      },
      "source": [
        "AX, AY = aget_frames(Ascaled_X, frame_s, hop_s)\n",
        "GX, GY = gget_frames(Gscaled_X, frame_s, hop_s)"
      ],
      "execution_count": 24,
      "outputs": []
    },
    {
      "cell_type": "code",
      "metadata": {
        "colab": {
          "base_uri": "https://localhost:8080/"
        },
        "id": "lQYycQoSqA4D",
        "outputId": "8d5e415f-4249-4e22-8aa9-3cffd6d9603f"
      },
      "source": [
        "AX.shape, AY.shape"
      ],
      "execution_count": 25,
      "outputs": [
        {
          "output_type": "execute_result",
          "data": {
            "text/plain": [
              "((4749, 40, 3), (4749,))"
            ]
          },
          "metadata": {},
          "execution_count": 25
        }
      ]
    },
    {
      "cell_type": "code",
      "metadata": {
        "colab": {
          "base_uri": "https://localhost:8080/"
        },
        "id": "Dfg47wwDqFG7",
        "outputId": "2d572250-4007-4851-b824-13556b1b151f"
      },
      "source": [
        "GX.shape, GY.shape"
      ],
      "execution_count": 29,
      "outputs": [
        {
          "output_type": "execute_result",
          "data": {
            "text/plain": [
              "((1480, 40, 3), (1480,))"
            ]
          },
          "metadata": {},
          "execution_count": 29
        }
      ]
    },
    {
      "cell_type": "code",
      "metadata": {
        "id": "hlXj1J7BqQxT"
      },
      "source": [
        "AX_train, AX_test, AY_train, AY_test = train_test_split(AX, AY, test_size=0.2, stratify=AY)\n",
        "GX_train, GX_test, GY_train, GY_test = train_test_split(GX, GY, test_size=0.2, stratify=GY)"
      ],
      "execution_count": 27,
      "outputs": []
    },
    {
      "cell_type": "code",
      "metadata": {
        "colab": {
          "base_uri": "https://localhost:8080/"
        },
        "id": "6hnsjypsqbVq",
        "outputId": "4752bf1b-73f6-4556-83c9-b03c7012e33d"
      },
      "source": [
        "AX_train.shape, AX_test.shape"
      ],
      "execution_count": 28,
      "outputs": [
        {
          "output_type": "execute_result",
          "data": {
            "text/plain": [
              "((3799, 40, 3), (950, 40, 3))"
            ]
          },
          "metadata": {},
          "execution_count": 28
        }
      ]
    },
    {
      "cell_type": "code",
      "metadata": {
        "colab": {
          "base_uri": "https://localhost:8080/"
        },
        "id": "pMlWrEyrqfOV",
        "outputId": "9c49a333-3210-44f1-967a-9b945dcc1060"
      },
      "source": [
        "GX_train.shape, GX_test.shape"
      ],
      "execution_count": 30,
      "outputs": [
        {
          "output_type": "execute_result",
          "data": {
            "text/plain": [
              "((1184, 40, 3), (296, 40, 3))"
            ]
          },
          "metadata": {},
          "execution_count": 30
        }
      ]
    },
    {
      "cell_type": "code",
      "metadata": {
        "id": "sbDxn1WWqh7g"
      },
      "source": [
        "AX_train = AX_train.reshape(len(AX_train), 40, 3, 1)\n",
        "AX_test = AX_test.reshape(len(AX_test), 40, 3, 1)\n",
        "GX_train = GX_train.reshape(len(GX_train), 40, 3, 1)\n",
        "GX_test = GX_test.reshape(len(GX_test), 40, 3, 1)"
      ],
      "execution_count": 34,
      "outputs": []
    },
    {
      "cell_type": "code",
      "metadata": {
        "id": "Ws06E_QNqssU"
      },
      "source": [
        "amodel = Sequential()\n",
        "amodel.add(Conv2D(16, (2,2), activation='relu', input_shape = AX_train[0].shape))\n",
        "amodel.add(Dropout(0.1))\n",
        "\n",
        "amodel.add(Conv2D(32, (2,2), activation='relu'))\n",
        "amodel.add(Dropout(0.2))\n",
        "\n",
        "amodel.add(Flatten())\n",
        "\n",
        "amodel.add(Dense(64, activation='relu'))\n",
        "amodel.add(Dropout(0.5))\n",
        "amodel.add(Dense(6, activation='softmax'))"
      ],
      "execution_count": 35,
      "outputs": []
    },
    {
      "cell_type": "code",
      "metadata": {
        "id": "7uI5Mnmgqvuz"
      },
      "source": [
        "amodel.compile(optimizer=Adam(learning_rate = 0.001), loss='sparse_categorical_crossentropy', metrics=['accuracy'])"
      ],
      "execution_count": 36,
      "outputs": []
    },
    {
      "cell_type": "code",
      "metadata": {
        "colab": {
          "base_uri": "https://localhost:8080/"
        },
        "id": "cUeRbuszqzF2",
        "outputId": "9fb88302-4a3a-4c10-c0f0-27919676e94d"
      },
      "source": [
        "ahistory = amodel.fit(AX_train, AY_train, epochs=20, validation_data=(AX_test, AY_test), verbose=1)"
      ],
      "execution_count": 37,
      "outputs": [
        {
          "output_type": "stream",
          "name": "stdout",
          "text": [
            "Epoch 1/20\n",
            "119/119 [==============================] - 2s 9ms/step - loss: 0.7447 - accuracy: 0.6296 - val_loss: 0.5016 - val_accuracy: 0.7379\n",
            "Epoch 2/20\n",
            "119/119 [==============================] - 1s 8ms/step - loss: 0.5531 - accuracy: 0.7083 - val_loss: 0.4632 - val_accuracy: 0.7884\n",
            "Epoch 3/20\n",
            "119/119 [==============================] - 1s 8ms/step - loss: 0.5170 - accuracy: 0.7297 - val_loss: 0.4653 - val_accuracy: 0.7811\n",
            "Epoch 4/20\n",
            "119/119 [==============================] - 1s 8ms/step - loss: 0.5110 - accuracy: 0.7394 - val_loss: 0.4636 - val_accuracy: 0.7789\n",
            "Epoch 5/20\n",
            "119/119 [==============================] - 1s 8ms/step - loss: 0.5003 - accuracy: 0.7320 - val_loss: 0.4506 - val_accuracy: 0.8063\n",
            "Epoch 6/20\n",
            "119/119 [==============================] - 1s 7ms/step - loss: 0.4823 - accuracy: 0.7502 - val_loss: 0.4418 - val_accuracy: 0.7716\n",
            "Epoch 7/20\n",
            "119/119 [==============================] - 1s 7ms/step - loss: 0.4800 - accuracy: 0.7578 - val_loss: 0.4361 - val_accuracy: 0.7958\n",
            "Epoch 8/20\n",
            "119/119 [==============================] - 1s 7ms/step - loss: 0.4727 - accuracy: 0.7510 - val_loss: 0.4323 - val_accuracy: 0.7863\n",
            "Epoch 9/20\n",
            "119/119 [==============================] - 1s 7ms/step - loss: 0.4569 - accuracy: 0.7684 - val_loss: 0.4192 - val_accuracy: 0.7968\n",
            "Epoch 10/20\n",
            "119/119 [==============================] - 1s 7ms/step - loss: 0.4528 - accuracy: 0.7694 - val_loss: 0.4173 - val_accuracy: 0.7884\n",
            "Epoch 11/20\n",
            "119/119 [==============================] - 1s 7ms/step - loss: 0.4542 - accuracy: 0.7736 - val_loss: 0.4261 - val_accuracy: 0.7874\n",
            "Epoch 12/20\n",
            "119/119 [==============================] - 1s 7ms/step - loss: 0.4401 - accuracy: 0.7734 - val_loss: 0.4028 - val_accuracy: 0.8011\n",
            "Epoch 13/20\n",
            "119/119 [==============================] - 1s 8ms/step - loss: 0.4392 - accuracy: 0.7784 - val_loss: 0.4049 - val_accuracy: 0.8084\n",
            "Epoch 14/20\n",
            "119/119 [==============================] - 1s 7ms/step - loss: 0.4334 - accuracy: 0.7805 - val_loss: 0.4187 - val_accuracy: 0.8042\n",
            "Epoch 15/20\n",
            "119/119 [==============================] - 1s 7ms/step - loss: 0.4246 - accuracy: 0.7755 - val_loss: 0.3895 - val_accuracy: 0.8074\n",
            "Epoch 16/20\n",
            "119/119 [==============================] - 1s 7ms/step - loss: 0.4195 - accuracy: 0.7892 - val_loss: 0.3892 - val_accuracy: 0.8021\n",
            "Epoch 17/20\n",
            "119/119 [==============================] - 1s 7ms/step - loss: 0.4217 - accuracy: 0.7805 - val_loss: 0.3824 - val_accuracy: 0.8116\n",
            "Epoch 18/20\n",
            "119/119 [==============================] - 1s 7ms/step - loss: 0.4194 - accuracy: 0.7894 - val_loss: 0.3782 - val_accuracy: 0.8126\n",
            "Epoch 19/20\n",
            "119/119 [==============================] - 1s 8ms/step - loss: 0.4173 - accuracy: 0.7807 - val_loss: 0.3693 - val_accuracy: 0.8084\n",
            "Epoch 20/20\n",
            "119/119 [==============================] - 1s 7ms/step - loss: 0.4032 - accuracy: 0.7981 - val_loss: 0.3757 - val_accuracy: 0.8168\n"
          ]
        }
      ]
    },
    {
      "cell_type": "code",
      "metadata": {
        "id": "WeXCjRplriJ1"
      },
      "source": [
        "gmodel = Sequential()\n",
        "gmodel.add(Conv2D(16, (2,2), activation='relu', input_shape = GX_train[0].shape))\n",
        "gmodel.add(Dropout(0.1))\n",
        "\n",
        "gmodel.add(Conv2D(32, (2,2), activation='relu'))\n",
        "gmodel.add(Dropout(0.2))\n",
        "\n",
        "gmodel.add(Flatten())\n",
        "\n",
        "gmodel.add(Dense(64, activation='relu'))\n",
        "gmodel.add(Dropout(0.5))\n",
        "gmodel.add(Dense(6, activation='softmax'))"
      ],
      "execution_count": 38,
      "outputs": []
    },
    {
      "cell_type": "code",
      "metadata": {
        "id": "mMZFJxxTrtlR"
      },
      "source": [
        "gmodel.compile(optimizer=Adam(learning_rate = 0.001), loss='sparse_categorical_crossentropy', metrics=['accuracy'])"
      ],
      "execution_count": 39,
      "outputs": []
    },
    {
      "cell_type": "code",
      "metadata": {
        "colab": {
          "base_uri": "https://localhost:8080/"
        },
        "id": "i9U3lITTryLQ",
        "outputId": "2176d992-b7b7-4663-bfec-14cdd242d529"
      },
      "source": [
        "ghistory = gmodel.fit(GX_train, GY_train, epochs=20, validation_data=(GX_test, GY_test), verbose=1)"
      ],
      "execution_count": 40,
      "outputs": [
        {
          "output_type": "stream",
          "name": "stdout",
          "text": [
            "Epoch 1/20\n",
            "37/37 [==============================] - 1s 11ms/step - loss: 1.0000 - accuracy: 0.5600 - val_loss: 0.6742 - val_accuracy: 0.6014\n",
            "Epoch 2/20\n",
            "37/37 [==============================] - 0s 7ms/step - loss: 0.6572 - accuracy: 0.6765 - val_loss: 0.5666 - val_accuracy: 0.7095\n",
            "Epoch 3/20\n",
            "37/37 [==============================] - 0s 8ms/step - loss: 0.5987 - accuracy: 0.6883 - val_loss: 0.5412 - val_accuracy: 0.7297\n",
            "Epoch 4/20\n",
            "37/37 [==============================] - 0s 8ms/step - loss: 0.5704 - accuracy: 0.6959 - val_loss: 0.5034 - val_accuracy: 0.7736\n",
            "Epoch 5/20\n",
            "37/37 [==============================] - 0s 8ms/step - loss: 0.5403 - accuracy: 0.7238 - val_loss: 0.4884 - val_accuracy: 0.7601\n",
            "Epoch 6/20\n",
            "37/37 [==============================] - 0s 7ms/step - loss: 0.5110 - accuracy: 0.7500 - val_loss: 0.4845 - val_accuracy: 0.7601\n",
            "Epoch 7/20\n",
            "37/37 [==============================] - 0s 8ms/step - loss: 0.4990 - accuracy: 0.7483 - val_loss: 0.4649 - val_accuracy: 0.7703\n",
            "Epoch 8/20\n",
            "37/37 [==============================] - 0s 7ms/step - loss: 0.4697 - accuracy: 0.7686 - val_loss: 0.4433 - val_accuracy: 0.7872\n",
            "Epoch 9/20\n",
            "37/37 [==============================] - 0s 8ms/step - loss: 0.4713 - accuracy: 0.7720 - val_loss: 0.4474 - val_accuracy: 0.8041\n",
            "Epoch 10/20\n",
            "37/37 [==============================] - 0s 8ms/step - loss: 0.4715 - accuracy: 0.7576 - val_loss: 0.4342 - val_accuracy: 0.8007\n",
            "Epoch 11/20\n",
            "37/37 [==============================] - 0s 9ms/step - loss: 0.4594 - accuracy: 0.7796 - val_loss: 0.4480 - val_accuracy: 0.7804\n",
            "Epoch 12/20\n",
            "37/37 [==============================] - 0s 7ms/step - loss: 0.4383 - accuracy: 0.7872 - val_loss: 0.4576 - val_accuracy: 0.7939\n",
            "Epoch 13/20\n",
            "37/37 [==============================] - 0s 8ms/step - loss: 0.4373 - accuracy: 0.7973 - val_loss: 0.4229 - val_accuracy: 0.7939\n",
            "Epoch 14/20\n",
            "37/37 [==============================] - 0s 8ms/step - loss: 0.4187 - accuracy: 0.8007 - val_loss: 0.4246 - val_accuracy: 0.8142\n",
            "Epoch 15/20\n",
            "37/37 [==============================] - 0s 7ms/step - loss: 0.4174 - accuracy: 0.8007 - val_loss: 0.3997 - val_accuracy: 0.8412\n",
            "Epoch 16/20\n",
            "37/37 [==============================] - 0s 7ms/step - loss: 0.4274 - accuracy: 0.8007 - val_loss: 0.4055 - val_accuracy: 0.8243\n",
            "Epoch 17/20\n",
            "37/37 [==============================] - 0s 9ms/step - loss: 0.3889 - accuracy: 0.8184 - val_loss: 0.4005 - val_accuracy: 0.8345\n",
            "Epoch 18/20\n",
            "37/37 [==============================] - 0s 7ms/step - loss: 0.3890 - accuracy: 0.8184 - val_loss: 0.3926 - val_accuracy: 0.8378\n",
            "Epoch 19/20\n",
            "37/37 [==============================] - 0s 8ms/step - loss: 0.4179 - accuracy: 0.8167 - val_loss: 0.3997 - val_accuracy: 0.8311\n",
            "Epoch 20/20\n",
            "37/37 [==============================] - 0s 9ms/step - loss: 0.3939 - accuracy: 0.7990 - val_loss: 0.3872 - val_accuracy: 0.8378\n"
          ]
        }
      ]
    }
  ]
}