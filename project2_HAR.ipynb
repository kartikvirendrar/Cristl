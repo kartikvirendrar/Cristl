{
  "nbformat": 4,
  "nbformat_minor": 0,
  "metadata": {
    "colab": {
      "name": "project2_HAR.ipynb",
      "provenance": [],
      "collapsed_sections": [],
      "include_colab_link": true
    },
    "kernelspec": {
      "name": "python3",
      "display_name": "Python 3"
    },
    "language_info": {
      "name": "python"
    }
  },
  "cells": [
    {
      "cell_type": "markdown",
      "metadata": {
        "id": "view-in-github",
        "colab_type": "text"
      },
      "source": [
        "<a href=\"https://colab.research.google.com/github/kartikvirendrar/Cristl/blob/main/project2_HAR.ipynb\" target=\"_parent\"><img src=\"https://colab.research.google.com/assets/colab-badge.svg\" alt=\"Open In Colab\"/></a>"
      ]
    },
    {
      "cell_type": "code",
      "metadata": {
        "colab": {
          "base_uri": "https://localhost:8080/"
        },
        "id": "J_39geOCNFWK",
        "outputId": "61a93cee-24d4-4334-b7c2-c15814793e65"
      },
      "source": [
        "import tensorflow as tf\n",
        "from tensorflow.keras import Sequential\n",
        "from tensorflow.keras.layers import Flatten, Dense, Dropout, BatchNormalization\n",
        "from tensorflow.keras.layers import Conv2D, MaxPool2D\n",
        "from tensorflow.keras.optimizers import Adam\n",
        "print(tf.__version__)"
      ],
      "execution_count": 1,
      "outputs": [
        {
          "output_type": "stream",
          "name": "stdout",
          "text": [
            "2.6.0\n"
          ]
        }
      ]
    },
    {
      "cell_type": "code",
      "metadata": {
        "id": "XOv7Iw1jOdTc"
      },
      "source": [
        "from google.colab import drive\n",
        "import pandas as pd\n",
        "file_location = '/content/drive/MyDrive/accelerometer.csv'\n",
        "accelerometer =pd.read_csv(file_location)\n",
        "accelerometer.drop(columns=['time','repetition','uuid'], inplace=True)\n",
        "accsitting= accelerometer[accelerometer['activity'] == 'CHAIR'].head(31668)\n",
        "accstanding= accelerometer[accelerometer['activity'] == 'STANDING']\n",
        "acclying= accelerometer[accelerometer['activity'] == 'LYING_UP']\n",
        "acclying= acclying.append(accelerometer[accelerometer['activity'] == 'LYING_SIDE'].head(520))\n",
        "acclying.drop(columns=['activity'], inplace=True)\n",
        "acclying['activity']='LYING_UP'\n",
        "accdataset = pd.DataFrame()\n",
        "accdataset = accdataset.append([accsitting, accstanding, acclying])\n",
        "\n",
        "file_location1 = '/content/drive/MyDrive/gyroscope.csv'\n",
        "gyroscope =pd.read_csv(file_location1)\n",
        "gyroscope.drop(columns=['time','repetition','uuid'], inplace=True)\n",
        "gyrsitting= gyroscope[gyroscope['activity'] == 'CHAIR'].head(9875)\n",
        "gyrstanding= gyroscope[gyroscope['activity'] == 'STANDING'].head(9875)\n",
        "gyrlying= gyroscope[gyroscope['activity'] == 'LYING_UP'].head(9875)\n",
        "gyrdataset = pd.DataFrame()\n",
        "gyrdataset = gyrdataset.append([gyrsitting, gyrstanding, gyrlying])"
      ],
      "execution_count": 2,
      "outputs": []
    },
    {
      "cell_type": "code",
      "metadata": {
        "colab": {
          "base_uri": "https://localhost:8080/"
        },
        "id": "ulpTn2jJsCkN",
        "outputId": "9c02ad5e-8f48-4576-d726-764dc61d27ec"
      },
      "source": [
        "accdataset.info()\n",
        "gyrdataset.info()"
      ],
      "execution_count": 3,
      "outputs": [
        {
          "output_type": "stream",
          "name": "stdout",
          "text": [
            "<class 'pandas.core.frame.DataFrame'>\n",
            "Int64Index: 95004 entries, 0 to 5319\n",
            "Data columns (total 5 columns):\n",
            " #   Column    Non-Null Count  Dtype  \n",
            "---  ------    --------------  -----  \n",
            " 0   name      95004 non-null  object \n",
            " 1   acc_x     95004 non-null  float64\n",
            " 2   acc_y     95004 non-null  float64\n",
            " 3   acc_z     95004 non-null  float64\n",
            " 4   activity  95004 non-null  object \n",
            "dtypes: float64(3), object(2)\n",
            "memory usage: 4.3+ MB\n",
            "<class 'pandas.core.frame.DataFrame'>\n",
            "Int64Index: 29625 entries, 0 to 89378\n",
            "Data columns (total 5 columns):\n",
            " #   Column    Non-Null Count  Dtype  \n",
            "---  ------    --------------  -----  \n",
            " 0   name      29625 non-null  object \n",
            " 1   gyr_x     29625 non-null  float64\n",
            " 2   gyr_y     29625 non-null  float64\n",
            " 3   gyr_z     29625 non-null  float64\n",
            " 4   activity  29625 non-null  object \n",
            "dtypes: float64(3), object(2)\n",
            "memory usage: 1.4+ MB\n"
          ]
        }
      ]
    },
    {
      "cell_type": "code",
      "metadata": {
        "colab": {
          "base_uri": "https://localhost:8080/"
        },
        "id": "uqoudP-YtmC3",
        "outputId": "8374dfc7-48f4-4560-a7f1-3afc92a5d46e"
      },
      "source": [
        "accdataset['activity'].value_counts()"
      ],
      "execution_count": 4,
      "outputs": [
        {
          "output_type": "execute_result",
          "data": {
            "text/plain": [
              "STANDING    31668\n",
              "LYING_UP    31668\n",
              "CHAIR       31668\n",
              "Name: activity, dtype: int64"
            ]
          },
          "metadata": {},
          "execution_count": 4
        }
      ]
    },
    {
      "cell_type": "code",
      "metadata": {
        "colab": {
          "base_uri": "https://localhost:8080/"
        },
        "id": "3dxiYlzHtp2f",
        "outputId": "71282af8-02ad-4e04-f6ea-280884c7feee"
      },
      "source": [
        "gyrdataset['activity'].value_counts()"
      ],
      "execution_count": 5,
      "outputs": [
        {
          "output_type": "execute_result",
          "data": {
            "text/plain": [
              "STANDING    9875\n",
              "CHAIR       9875\n",
              "LYING_UP    9875\n",
              "Name: activity, dtype: int64"
            ]
          },
          "metadata": {},
          "execution_count": 5
        }
      ]
    },
    {
      "cell_type": "code",
      "metadata": {
        "colab": {
          "base_uri": "https://localhost:8080/"
        },
        "id": "ROo7wt7tt_a8",
        "outputId": "d229b6cd-da56-478a-89fb-97f7cef710c8"
      },
      "source": [
        "import numpy as np\n",
        "import matplotlib.pyplot as plt\n",
        "from sklearn.model_selection import train_test_split\n",
        "from sklearn.preprocessing import StandardScaler, LabelEncoder\n",
        "alabel=LabelEncoder()\n",
        "accdataset['label']=alabel.fit_transform(accdataset['activity'])\n",
        "print(accdataset.head())\n",
        "print(alabel.classes_)"
      ],
      "execution_count": 6,
      "outputs": [
        {
          "output_type": "stream",
          "name": "stdout",
          "text": [
            "            name     acc_x     acc_y     acc_z activity  label\n",
            "0  accelerometer -0.414825  7.590469  6.235336    CHAIR      0\n",
            "1  accelerometer -0.337662  7.645508  6.125275    CHAIR      0\n",
            "2  accelerometer -0.393295  7.605423  6.231155    CHAIR      0\n",
            "3  accelerometer -0.469269  7.592865  6.281403    CHAIR      0\n",
            "4  accelerometer -0.418411  7.633530  6.317307    CHAIR      0\n",
            "['CHAIR' 'LYING_UP' 'STANDING']\n"
          ]
        }
      ]
    },
    {
      "cell_type": "code",
      "metadata": {
        "colab": {
          "base_uri": "https://localhost:8080/"
        },
        "id": "68Fq8PK3vHkE",
        "outputId": "5822b012-acea-4cfa-d89c-93822b0db5eb"
      },
      "source": [
        "glabel=LabelEncoder()\n",
        "gyrdataset['label']=glabel.fit_transform(gyrdataset['activity'])\n",
        "print(gyrdataset.head())\n",
        "print(glabel.classes_)"
      ],
      "execution_count": 7,
      "outputs": [
        {
          "output_type": "stream",
          "name": "stdout",
          "text": [
            "        name     gyr_x     gyr_y     gyr_z activity  label\n",
            "0  gyroscope -0.309540  7.679596  6.142029    CHAIR      0\n",
            "1  gyroscope -0.530884  7.897354  5.765747    CHAIR      0\n",
            "2  gyroscope -0.608643  8.231140  5.266846    CHAIR      0\n",
            "3  gyroscope -0.570953  8.260452  5.229172    CHAIR      0\n",
            "4  gyroscope -0.816223  8.244308  5.284195    CHAIR      0\n",
            "['CHAIR' 'LYING_UP' 'STANDING']\n"
          ]
        }
      ]
    },
    {
      "cell_type": "code",
      "metadata": {
        "colab": {
          "base_uri": "https://localhost:8080/",
          "height": 417
        },
        "id": "upyuAIepv96H",
        "outputId": "e7fde735-18e6-4ece-8a87-661ec2c1110b"
      },
      "source": [
        "AX = accdataset[['acc_x','acc_y','acc_z']]\n",
        "AY = accdataset['label']\n",
        "scaler = StandardScaler()\n",
        "AX = scaler.fit_transform(AX)\n",
        "Ascaled_X = pd.DataFrame(data=AX, columns=['acc_x','acc_y','acc_z'])\n",
        "Ascaled_X['label'] = AY.values\n",
        "Ascaled_X"
      ],
      "execution_count": 8,
      "outputs": [
        {
          "output_type": "execute_result",
          "data": {
            "text/html": [
              "<div>\n",
              "<style scoped>\n",
              "    .dataframe tbody tr th:only-of-type {\n",
              "        vertical-align: middle;\n",
              "    }\n",
              "\n",
              "    .dataframe tbody tr th {\n",
              "        vertical-align: top;\n",
              "    }\n",
              "\n",
              "    .dataframe thead th {\n",
              "        text-align: right;\n",
              "    }\n",
              "</style>\n",
              "<table border=\"1\" class=\"dataframe\">\n",
              "  <thead>\n",
              "    <tr style=\"text-align: right;\">\n",
              "      <th></th>\n",
              "      <th>acc_x</th>\n",
              "      <th>acc_y</th>\n",
              "      <th>acc_z</th>\n",
              "      <th>label</th>\n",
              "    </tr>\n",
              "  </thead>\n",
              "  <tbody>\n",
              "    <tr>\n",
              "      <th>0</th>\n",
              "      <td>-0.407332</td>\n",
              "      <td>0.535859</td>\n",
              "      <td>0.414297</td>\n",
              "      <td>0</td>\n",
              "    </tr>\n",
              "    <tr>\n",
              "      <th>1</th>\n",
              "      <td>-0.342817</td>\n",
              "      <td>0.557656</td>\n",
              "      <td>0.395899</td>\n",
              "      <td>0</td>\n",
              "    </tr>\n",
              "    <tr>\n",
              "      <th>2</th>\n",
              "      <td>-0.389331</td>\n",
              "      <td>0.541781</td>\n",
              "      <td>0.413598</td>\n",
              "      <td>0</td>\n",
              "    </tr>\n",
              "    <tr>\n",
              "      <th>3</th>\n",
              "      <td>-0.452851</td>\n",
              "      <td>0.536808</td>\n",
              "      <td>0.421998</td>\n",
              "      <td>0</td>\n",
              "    </tr>\n",
              "    <tr>\n",
              "      <th>4</th>\n",
              "      <td>-0.410330</td>\n",
              "      <td>0.552913</td>\n",
              "      <td>0.427999</td>\n",
              "      <td>0</td>\n",
              "    </tr>\n",
              "    <tr>\n",
              "      <th>...</th>\n",
              "      <td>...</td>\n",
              "      <td>...</td>\n",
              "      <td>...</td>\n",
              "      <td>...</td>\n",
              "    </tr>\n",
              "    <tr>\n",
              "      <th>94999</th>\n",
              "      <td>-0.532368</td>\n",
              "      <td>1.405810</td>\n",
              "      <td>-0.635258</td>\n",
              "      <td>1</td>\n",
              "    </tr>\n",
              "    <tr>\n",
              "      <th>95000</th>\n",
              "      <td>-0.584891</td>\n",
              "      <td>1.400359</td>\n",
              "      <td>-0.640058</td>\n",
              "      <td>1</td>\n",
              "    </tr>\n",
              "    <tr>\n",
              "      <th>95001</th>\n",
              "      <td>-0.561876</td>\n",
              "      <td>1.406281</td>\n",
              "      <td>-0.642660</td>\n",
              "      <td>1</td>\n",
              "    </tr>\n",
              "    <tr>\n",
              "      <th>95002</th>\n",
              "      <td>-0.572389</td>\n",
              "      <td>1.409841</td>\n",
              "      <td>-0.661458</td>\n",
              "      <td>1</td>\n",
              "    </tr>\n",
              "    <tr>\n",
              "      <th>95003</th>\n",
              "      <td>-0.586881</td>\n",
              "      <td>1.394672</td>\n",
              "      <td>-0.664057</td>\n",
              "      <td>1</td>\n",
              "    </tr>\n",
              "  </tbody>\n",
              "</table>\n",
              "<p>95004 rows × 4 columns</p>\n",
              "</div>"
            ],
            "text/plain": [
              "          acc_x     acc_y     acc_z  label\n",
              "0     -0.407332  0.535859  0.414297      0\n",
              "1     -0.342817  0.557656  0.395899      0\n",
              "2     -0.389331  0.541781  0.413598      0\n",
              "3     -0.452851  0.536808  0.421998      0\n",
              "4     -0.410330  0.552913  0.427999      0\n",
              "...         ...       ...       ...    ...\n",
              "94999 -0.532368  1.405810 -0.635258      1\n",
              "95000 -0.584891  1.400359 -0.640058      1\n",
              "95001 -0.561876  1.406281 -0.642660      1\n",
              "95002 -0.572389  1.409841 -0.661458      1\n",
              "95003 -0.586881  1.394672 -0.664057      1\n",
              "\n",
              "[95004 rows x 4 columns]"
            ]
          },
          "metadata": {},
          "execution_count": 8
        }
      ]
    },
    {
      "cell_type": "code",
      "metadata": {
        "colab": {
          "base_uri": "https://localhost:8080/",
          "height": 417
        },
        "id": "t9qh_ah7xvwO",
        "outputId": "239781a4-df6d-4836-b35f-a670ba1c3eb7"
      },
      "source": [
        "GX = gyrdataset[['gyr_x','gyr_y','gyr_z']]\n",
        "GY = gyrdataset['label']\n",
        "scaler = StandardScaler()\n",
        "GX = scaler.fit_transform(GX)\n",
        "Gscaled_X = pd.DataFrame(data=GX, columns=['gyr_x','gyr_y','gyr_z'])\n",
        "Gscaled_X['label'] = GY.values\n",
        "Gscaled_X"
      ],
      "execution_count": 9,
      "outputs": [
        {
          "output_type": "execute_result",
          "data": {
            "text/html": [
              "<div>\n",
              "<style scoped>\n",
              "    .dataframe tbody tr th:only-of-type {\n",
              "        vertical-align: middle;\n",
              "    }\n",
              "\n",
              "    .dataframe tbody tr th {\n",
              "        vertical-align: top;\n",
              "    }\n",
              "\n",
              "    .dataframe thead th {\n",
              "        text-align: right;\n",
              "    }\n",
              "</style>\n",
              "<table border=\"1\" class=\"dataframe\">\n",
              "  <thead>\n",
              "    <tr style=\"text-align: right;\">\n",
              "      <th></th>\n",
              "      <th>gyr_x</th>\n",
              "      <th>gyr_y</th>\n",
              "      <th>gyr_z</th>\n",
              "      <th>label</th>\n",
              "    </tr>\n",
              "  </thead>\n",
              "  <tbody>\n",
              "    <tr>\n",
              "      <th>0</th>\n",
              "      <td>-0.511514</td>\n",
              "      <td>0.743974</td>\n",
              "      <td>0.380241</td>\n",
              "      <td>0</td>\n",
              "    </tr>\n",
              "    <tr>\n",
              "      <th>1</th>\n",
              "      <td>-0.751855</td>\n",
              "      <td>0.819761</td>\n",
              "      <td>0.323345</td>\n",
              "      <td>0</td>\n",
              "    </tr>\n",
              "    <tr>\n",
              "      <th>2</th>\n",
              "      <td>-0.836288</td>\n",
              "      <td>0.935931</td>\n",
              "      <td>0.247909</td>\n",
              "      <td>0</td>\n",
              "    </tr>\n",
              "    <tr>\n",
              "      <th>3</th>\n",
              "      <td>-0.795364</td>\n",
              "      <td>0.946133</td>\n",
              "      <td>0.242213</td>\n",
              "      <td>0</td>\n",
              "    </tr>\n",
              "    <tr>\n",
              "      <th>4</th>\n",
              "      <td>-1.061684</td>\n",
              "      <td>0.940514</td>\n",
              "      <td>0.250533</td>\n",
              "      <td>0</td>\n",
              "    </tr>\n",
              "    <tr>\n",
              "      <th>...</th>\n",
              "      <td>...</td>\n",
              "      <td>...</td>\n",
              "      <td>...</td>\n",
              "      <td>...</td>\n",
              "    </tr>\n",
              "    <tr>\n",
              "      <th>29620</th>\n",
              "      <td>0.393923</td>\n",
              "      <td>1.434373</td>\n",
              "      <td>-0.432256</td>\n",
              "      <td>1</td>\n",
              "    </tr>\n",
              "    <tr>\n",
              "      <th>29621</th>\n",
              "      <td>0.417320</td>\n",
              "      <td>1.446039</td>\n",
              "      <td>-0.434066</td>\n",
              "      <td>1</td>\n",
              "    </tr>\n",
              "    <tr>\n",
              "      <th>29622</th>\n",
              "      <td>0.326331</td>\n",
              "      <td>1.445205</td>\n",
              "      <td>-0.435876</td>\n",
              "      <td>1</td>\n",
              "    </tr>\n",
              "    <tr>\n",
              "      <th>29623</th>\n",
              "      <td>0.383524</td>\n",
              "      <td>1.451038</td>\n",
              "      <td>-0.441668</td>\n",
              "      <td>1</td>\n",
              "    </tr>\n",
              "    <tr>\n",
              "      <th>29624</th>\n",
              "      <td>0.388723</td>\n",
              "      <td>1.450205</td>\n",
              "      <td>-0.443116</td>\n",
              "      <td>1</td>\n",
              "    </tr>\n",
              "  </tbody>\n",
              "</table>\n",
              "<p>29625 rows × 4 columns</p>\n",
              "</div>"
            ],
            "text/plain": [
              "          gyr_x     gyr_y     gyr_z  label\n",
              "0     -0.511514  0.743974  0.380241      0\n",
              "1     -0.751855  0.819761  0.323345      0\n",
              "2     -0.836288  0.935931  0.247909      0\n",
              "3     -0.795364  0.946133  0.242213      0\n",
              "4     -1.061684  0.940514  0.250533      0\n",
              "...         ...       ...       ...    ...\n",
              "29620  0.393923  1.434373 -0.432256      1\n",
              "29621  0.417320  1.446039 -0.434066      1\n",
              "29622  0.326331  1.445205 -0.435876      1\n",
              "29623  0.383524  1.451038 -0.441668      1\n",
              "29624  0.388723  1.450205 -0.443116      1\n",
              "\n",
              "[29625 rows x 4 columns]"
            ]
          },
          "metadata": {},
          "execution_count": 9
        }
      ]
    },
    {
      "cell_type": "code",
      "metadata": {
        "id": "rxKOFIVopfnx"
      },
      "source": [
        "import scipy.stats as stats\n",
        "Fs = 20\n",
        "frame_s = Fs*2\n",
        "hop_s = Fs"
      ],
      "execution_count": 10,
      "outputs": []
    },
    {
      "cell_type": "code",
      "metadata": {
        "id": "n-UOtxBJpw43"
      },
      "source": [
        "def aget_frames(df, frame_s, hop_s):\n",
        "  N = 3\n",
        "  frames=[]\n",
        "  labels=[]\n",
        "  for i in range(0, len(df) - frame_s, hop_s):\n",
        "    x = df['acc_x'].values[i: i+frame_s]\n",
        "    y = df['acc_y'].values[i: i+frame_s]\n",
        "    z = df['acc_z'].values[i: i+frame_s]\n",
        "\n",
        "    label = stats.mode(df['label'][i:i+frame_s])[0][0]\n",
        "    frames.append([x,y,z])\n",
        "    labels.append(label)\n",
        "  \n",
        "  frames = np.asarray(frames).reshape(-1, frame_s, N)\n",
        "  labels = np.asarray(labels)\n",
        "  \n",
        "  return frames, labels"
      ],
      "execution_count": 11,
      "outputs": []
    },
    {
      "cell_type": "code",
      "metadata": {
        "id": "0-OoJK-Pp4Vt"
      },
      "source": [
        "def gget_frames(df, frame_s, hop_s):\n",
        "  N = 3\n",
        "  frames=[]\n",
        "  labels=[]\n",
        "  for i in range(0, len(df) - frame_s, hop_s):\n",
        "    x = df['gyr_x'].values[i: i+frame_s]\n",
        "    y = df['gyr_y'].values[i: i+frame_s]\n",
        "    z = df['gyr_z'].values[i: i+frame_s]\n",
        "\n",
        "    label = stats.mode(df['label'][i:i+frame_s])[0][0]\n",
        "    frames.append([x,y,z])\n",
        "    labels.append(label)\n",
        "  \n",
        "  frames = np.asarray(frames).reshape(-1, frame_s, N)\n",
        "  labels = np.asarray(labels)\n",
        "  \n",
        "  return frames, labels"
      ],
      "execution_count": 12,
      "outputs": []
    },
    {
      "cell_type": "code",
      "metadata": {
        "id": "yONi7nuqp9XK"
      },
      "source": [
        "AX, AY = aget_frames(Ascaled_X, frame_s, hop_s)\n",
        "GX, GY = gget_frames(Gscaled_X, frame_s, hop_s)"
      ],
      "execution_count": 13,
      "outputs": []
    },
    {
      "cell_type": "code",
      "metadata": {
        "colab": {
          "base_uri": "https://localhost:8080/"
        },
        "id": "lQYycQoSqA4D",
        "outputId": "6ca4cc4c-68db-4751-d72d-1ebc74b41579"
      },
      "source": [
        "AX.shape, AY.shape"
      ],
      "execution_count": 14,
      "outputs": [
        {
          "output_type": "execute_result",
          "data": {
            "text/plain": [
              "((4749, 40, 3), (4749,))"
            ]
          },
          "metadata": {},
          "execution_count": 14
        }
      ]
    },
    {
      "cell_type": "code",
      "metadata": {
        "colab": {
          "base_uri": "https://localhost:8080/"
        },
        "id": "Dfg47wwDqFG7",
        "outputId": "a5c0a4e3-acce-4bcb-afda-80120169816a"
      },
      "source": [
        "GX.shape, GY.shape"
      ],
      "execution_count": 15,
      "outputs": [
        {
          "output_type": "execute_result",
          "data": {
            "text/plain": [
              "((1480, 40, 3), (1480,))"
            ]
          },
          "metadata": {},
          "execution_count": 15
        }
      ]
    },
    {
      "cell_type": "code",
      "metadata": {
        "id": "hlXj1J7BqQxT"
      },
      "source": [
        "AX_train, AX_test, AY_train, AY_test = train_test_split(AX, AY, test_size=0.2, stratify=AY)\n",
        "GX_train, GX_test, GY_train, GY_test = train_test_split(GX, GY, test_size=0.2, stratify=GY)"
      ],
      "execution_count": 16,
      "outputs": []
    },
    {
      "cell_type": "code",
      "metadata": {
        "colab": {
          "base_uri": "https://localhost:8080/"
        },
        "id": "6hnsjypsqbVq",
        "outputId": "fc6c6513-4d83-4c19-a2cd-b2890622f700"
      },
      "source": [
        "AX_train.shape, AX_test.shape"
      ],
      "execution_count": 17,
      "outputs": [
        {
          "output_type": "execute_result",
          "data": {
            "text/plain": [
              "((3799, 40, 3), (950, 40, 3))"
            ]
          },
          "metadata": {},
          "execution_count": 17
        }
      ]
    },
    {
      "cell_type": "code",
      "metadata": {
        "colab": {
          "base_uri": "https://localhost:8080/"
        },
        "id": "pMlWrEyrqfOV",
        "outputId": "be12b06f-56ec-49be-e473-d73bdc3d6f03"
      },
      "source": [
        "GX_train.shape, GX_test.shape"
      ],
      "execution_count": 18,
      "outputs": [
        {
          "output_type": "execute_result",
          "data": {
            "text/plain": [
              "((1184, 40, 3), (296, 40, 3))"
            ]
          },
          "metadata": {},
          "execution_count": 18
        }
      ]
    },
    {
      "cell_type": "code",
      "metadata": {
        "id": "sbDxn1WWqh7g"
      },
      "source": [
        "AX_train = AX_train.reshape(len(AX_train), 40, 3, 1)\n",
        "AX_test = AX_test.reshape(len(AX_test), 40, 3, 1)\n",
        "GX_train = GX_train.reshape(len(GX_train), 40, 3, 1)\n",
        "GX_test = GX_test.reshape(len(GX_test), 40, 3, 1)"
      ],
      "execution_count": 19,
      "outputs": []
    },
    {
      "cell_type": "code",
      "metadata": {
        "id": "Ws06E_QNqssU"
      },
      "source": [
        "amodel = Sequential()\n",
        "amodel.add(Conv2D(16, (2,2), activation='relu', input_shape = AX_train[0].shape))\n",
        "amodel.add(Dropout(0.1))\n",
        "\n",
        "amodel.add(Conv2D(32, (2,2), activation='relu'))\n",
        "amodel.add(Dropout(0.2))\n",
        "\n",
        "amodel.add(Flatten())\n",
        "\n",
        "amodel.add(Dense(64, activation='relu'))\n",
        "amodel.add(Dropout(0.5))\n",
        "amodel.add(Dense(6, activation='softmax'))"
      ],
      "execution_count": 20,
      "outputs": []
    },
    {
      "cell_type": "code",
      "metadata": {
        "id": "7uI5Mnmgqvuz"
      },
      "source": [
        "amodel.compile(optimizer=Adam(learning_rate = 0.001), loss='sparse_categorical_crossentropy', metrics=['accuracy'])"
      ],
      "execution_count": 21,
      "outputs": []
    },
    {
      "cell_type": "code",
      "metadata": {
        "colab": {
          "base_uri": "https://localhost:8080/"
        },
        "id": "cUeRbuszqzF2",
        "outputId": "f9c41d70-5052-4849-b19e-5e62a32f4b07"
      },
      "source": [
        "ahistory = amodel.fit(AX_train, AY_train, epochs=20, validation_data=(AX_test, AY_test), verbose=1)"
      ],
      "execution_count": 22,
      "outputs": [
        {
          "output_type": "stream",
          "name": "stdout",
          "text": [
            "Epoch 1/20\n",
            "119/119 [==============================] - 2s 9ms/step - loss: 0.7306 - accuracy: 0.6352 - val_loss: 0.5342 - val_accuracy: 0.6495\n",
            "Epoch 2/20\n",
            "119/119 [==============================] - 1s 8ms/step - loss: 0.5712 - accuracy: 0.6957 - val_loss: 0.5062 - val_accuracy: 0.7305\n",
            "Epoch 3/20\n",
            "119/119 [==============================] - 1s 8ms/step - loss: 0.5403 - accuracy: 0.7089 - val_loss: 0.4901 - val_accuracy: 0.7537\n",
            "Epoch 4/20\n",
            "119/119 [==============================] - 1s 7ms/step - loss: 0.5169 - accuracy: 0.7215 - val_loss: 0.4739 - val_accuracy: 0.7547\n",
            "Epoch 5/20\n",
            "119/119 [==============================] - 1s 8ms/step - loss: 0.5017 - accuracy: 0.7394 - val_loss: 0.4720 - val_accuracy: 0.7705\n",
            "Epoch 6/20\n",
            "119/119 [==============================] - 1s 8ms/step - loss: 0.5010 - accuracy: 0.7299 - val_loss: 0.4585 - val_accuracy: 0.7768\n",
            "Epoch 7/20\n",
            "119/119 [==============================] - 1s 7ms/step - loss: 0.4839 - accuracy: 0.7439 - val_loss: 0.4525 - val_accuracy: 0.7832\n",
            "Epoch 8/20\n",
            "119/119 [==============================] - 1s 8ms/step - loss: 0.4850 - accuracy: 0.7470 - val_loss: 0.4586 - val_accuracy: 0.7937\n",
            "Epoch 9/20\n",
            "119/119 [==============================] - 1s 8ms/step - loss: 0.4742 - accuracy: 0.7523 - val_loss: 0.4544 - val_accuracy: 0.7695\n",
            "Epoch 10/20\n",
            "119/119 [==============================] - 1s 8ms/step - loss: 0.4731 - accuracy: 0.7510 - val_loss: 0.4351 - val_accuracy: 0.8000\n",
            "Epoch 11/20\n",
            "119/119 [==============================] - 1s 7ms/step - loss: 0.4656 - accuracy: 0.7465 - val_loss: 0.4300 - val_accuracy: 0.8000\n",
            "Epoch 12/20\n",
            "119/119 [==============================] - 1s 7ms/step - loss: 0.4595 - accuracy: 0.7563 - val_loss: 0.4615 - val_accuracy: 0.7684\n",
            "Epoch 13/20\n",
            "119/119 [==============================] - 1s 8ms/step - loss: 0.4508 - accuracy: 0.7599 - val_loss: 0.4207 - val_accuracy: 0.8000\n",
            "Epoch 14/20\n",
            "119/119 [==============================] - 1s 8ms/step - loss: 0.4449 - accuracy: 0.7676 - val_loss: 0.4222 - val_accuracy: 0.7884\n",
            "Epoch 15/20\n",
            "119/119 [==============================] - 1s 7ms/step - loss: 0.4379 - accuracy: 0.7713 - val_loss: 0.4140 - val_accuracy: 0.7979\n",
            "Epoch 16/20\n",
            "119/119 [==============================] - 1s 7ms/step - loss: 0.4324 - accuracy: 0.7736 - val_loss: 0.4046 - val_accuracy: 0.8074\n",
            "Epoch 17/20\n",
            "119/119 [==============================] - 1s 7ms/step - loss: 0.4351 - accuracy: 0.7773 - val_loss: 0.4088 - val_accuracy: 0.7884\n",
            "Epoch 18/20\n",
            "119/119 [==============================] - 1s 7ms/step - loss: 0.4254 - accuracy: 0.7789 - val_loss: 0.3994 - val_accuracy: 0.7947\n",
            "Epoch 19/20\n",
            "119/119 [==============================] - 1s 8ms/step - loss: 0.4180 - accuracy: 0.7844 - val_loss: 0.3936 - val_accuracy: 0.8063\n",
            "Epoch 20/20\n",
            "119/119 [==============================] - 1s 7ms/step - loss: 0.4136 - accuracy: 0.7860 - val_loss: 0.4022 - val_accuracy: 0.7958\n"
          ]
        }
      ]
    },
    {
      "cell_type": "code",
      "metadata": {
        "id": "WeXCjRplriJ1"
      },
      "source": [
        "gmodel = Sequential()\n",
        "gmodel.add(Conv2D(16, (2,2), activation='relu', input_shape = GX_train[0].shape))\n",
        "gmodel.add(Dropout(0.1))\n",
        "\n",
        "gmodel.add(Conv2D(32, (2,2), activation='relu'))\n",
        "gmodel.add(Dropout(0.2))\n",
        "\n",
        "gmodel.add(Flatten())\n",
        "\n",
        "gmodel.add(Dense(64, activation='relu'))\n",
        "gmodel.add(Dropout(0.5))\n",
        "gmodel.add(Dense(6, activation='softmax'))"
      ],
      "execution_count": 23,
      "outputs": []
    },
    {
      "cell_type": "code",
      "metadata": {
        "id": "mMZFJxxTrtlR"
      },
      "source": [
        "gmodel.compile(optimizer=Adam(learning_rate = 0.001), loss='sparse_categorical_crossentropy', metrics=['accuracy'])"
      ],
      "execution_count": 24,
      "outputs": []
    },
    {
      "cell_type": "code",
      "metadata": {
        "colab": {
          "base_uri": "https://localhost:8080/"
        },
        "id": "i9U3lITTryLQ",
        "outputId": "947b52fc-89b4-4f56-c2f2-cd72aa205f6a"
      },
      "source": [
        "ghistory = gmodel.fit(GX_train, GY_train, epochs=20, validation_data=(GX_test, GY_test), verbose=1)"
      ],
      "execution_count": 25,
      "outputs": [
        {
          "output_type": "stream",
          "name": "stdout",
          "text": [
            "Epoch 1/20\n",
            "37/37 [==============================] - 1s 16ms/step - loss: 0.9979 - accuracy: 0.5777 - val_loss: 0.6525 - val_accuracy: 0.7027\n",
            "Epoch 2/20\n",
            "37/37 [==============================] - 0s 8ms/step - loss: 0.7023 - accuracy: 0.6512 - val_loss: 0.5661 - val_accuracy: 0.6723\n",
            "Epoch 3/20\n",
            "37/37 [==============================] - 0s 8ms/step - loss: 0.6369 - accuracy: 0.6647 - val_loss: 0.5465 - val_accuracy: 0.6993\n",
            "Epoch 4/20\n",
            "37/37 [==============================] - 0s 6ms/step - loss: 0.5988 - accuracy: 0.6951 - val_loss: 0.5119 - val_accuracy: 0.7500\n",
            "Epoch 5/20\n",
            "37/37 [==============================] - 0s 7ms/step - loss: 0.5445 - accuracy: 0.7221 - val_loss: 0.5193 - val_accuracy: 0.7534\n",
            "Epoch 6/20\n",
            "37/37 [==============================] - 0s 6ms/step - loss: 0.5289 - accuracy: 0.7348 - val_loss: 0.5107 - val_accuracy: 0.7264\n",
            "Epoch 7/20\n",
            "37/37 [==============================] - 0s 7ms/step - loss: 0.5015 - accuracy: 0.7542 - val_loss: 0.5107 - val_accuracy: 0.7196\n",
            "Epoch 8/20\n",
            "37/37 [==============================] - 0s 8ms/step - loss: 0.5021 - accuracy: 0.7348 - val_loss: 0.4956 - val_accuracy: 0.7331\n",
            "Epoch 9/20\n",
            "37/37 [==============================] - 0s 9ms/step - loss: 0.4993 - accuracy: 0.7508 - val_loss: 0.4988 - val_accuracy: 0.7365\n",
            "Epoch 10/20\n",
            "37/37 [==============================] - 0s 10ms/step - loss: 0.4736 - accuracy: 0.7610 - val_loss: 0.4768 - val_accuracy: 0.7703\n",
            "Epoch 11/20\n",
            "37/37 [==============================] - 0s 7ms/step - loss: 0.4703 - accuracy: 0.7627 - val_loss: 0.4667 - val_accuracy: 0.7770\n",
            "Epoch 12/20\n",
            "37/37 [==============================] - 0s 8ms/step - loss: 0.4419 - accuracy: 0.7889 - val_loss: 0.4680 - val_accuracy: 0.7703\n",
            "Epoch 13/20\n",
            "37/37 [==============================] - 0s 8ms/step - loss: 0.4522 - accuracy: 0.7863 - val_loss: 0.4527 - val_accuracy: 0.7973\n",
            "Epoch 14/20\n",
            "37/37 [==============================] - 0s 9ms/step - loss: 0.4176 - accuracy: 0.8066 - val_loss: 0.4747 - val_accuracy: 0.7872\n",
            "Epoch 15/20\n",
            "37/37 [==============================] - 0s 9ms/step - loss: 0.4148 - accuracy: 0.8083 - val_loss: 0.4165 - val_accuracy: 0.8277\n",
            "Epoch 16/20\n",
            "37/37 [==============================] - 0s 9ms/step - loss: 0.4279 - accuracy: 0.7965 - val_loss: 0.4662 - val_accuracy: 0.8243\n",
            "Epoch 17/20\n",
            "37/37 [==============================] - 0s 8ms/step - loss: 0.4210 - accuracy: 0.8074 - val_loss: 0.4405 - val_accuracy: 0.7838\n",
            "Epoch 18/20\n",
            "37/37 [==============================] - 0s 8ms/step - loss: 0.4096 - accuracy: 0.7981 - val_loss: 0.4498 - val_accuracy: 0.8074\n",
            "Epoch 19/20\n",
            "37/37 [==============================] - 0s 8ms/step - loss: 0.4047 - accuracy: 0.8142 - val_loss: 0.4394 - val_accuracy: 0.8142\n",
            "Epoch 20/20\n",
            "37/37 [==============================] - 0s 8ms/step - loss: 0.3751 - accuracy: 0.8252 - val_loss: 0.4643 - val_accuracy: 0.8074\n"
          ]
        }
      ]
    },
    {
      "cell_type": "code",
      "metadata": {
        "id": "2Pud3oIitfXT"
      },
      "source": [
        "def plot_accuracycurve(a, history, epochs):\n",
        "  ep = range(1, epochs+1)\n",
        "  plt.title(a+' Model Accuracy')\n",
        "  plt.plot(ep, history.history['accuracy'])\n",
        "  plt.plot(ep, history.history['val_accuracy'])\n",
        "  plt.ylabel('Accuracy')\n",
        "  plt.ylabel('Epochs')\n",
        "  plt.legend(['Train','Val'])\n",
        "  plt.show()\n",
        "\n",
        "def plot_losscurve(a, history, epochs):\n",
        "  ep = range(1, epochs+1)\n",
        "  plt.title(a+' Model Loss')\n",
        "  plt.plot(ep, history.history['loss'])\n",
        "  plt.plot(ep, history.history['val_loss'])\n",
        "  plt.ylabel('Loss')\n",
        "  plt.ylabel('Epochs')\n",
        "  plt.legend(['Train','Val'])\n",
        "  plt.show()"
      ],
      "execution_count": 26,
      "outputs": []
    },
    {
      "cell_type": "code",
      "metadata": {
        "colab": {
          "base_uri": "https://localhost:8080/",
          "height": 545
        },
        "id": "CIeeu22fumO4",
        "outputId": "19ec281c-cb76-4c44-da8f-204333f5cb91"
      },
      "source": [
        "plot_accuracycurve('Accelerometer',ahistory, 20)\n",
        "plot_losscurve('Accelerometer', ahistory, 20)"
      ],
      "execution_count": 27,
      "outputs": [
        {
          "output_type": "display_data",
          "data": {
            "image/png": "[encoded data removed]",
            "text/plain": [
              "<Figure size 432x288 with 1 Axes>"
            ]
          },
          "metadata": {
            "needs_background": "light"
          }
        },
        {
          "output_type": "display_data",
          "data": {
            "image/png": "[encoded data removed]",
            "text/plain": [
              "<Figure size 432x288 with 1 Axes>"
            ]
          },
          "metadata": {
            "needs_background": "light"
          }
        }
      ]
    },
    {
      "cell_type": "code",
      "metadata": {
        "colab": {
          "base_uri": "https://localhost:8080/",
          "height": 545
        },
        "id": "1QfJARCtvmgN",
        "outputId": "5ce674ef-eb55-4b22-d185-536926a39b34"
      },
      "source": [
        "plot_accuracycurve('Gyroscope',ghistory, 20)\n",
        "plot_losscurve('Gyroscope', ghistory, 20)"
      ],
      "execution_count": 28,
      "outputs": [
        {
          "output_type": "display_data",
          "data": {
            "image/png": "[encoded data removed]",
            "text/plain": [
              "<Figure size 432x288 with 1 Axes>"
            ]
          },
          "metadata": {
            "needs_background": "light"
          }
        },
        {
          "output_type": "display_data",
          "data": {
            "image/png": "[encoded data removed]",
            "text/plain": [
              "<Figure size 432x288 with 1 Axes>"
            ]
          },
          "metadata": {
            "needs_background": "light"
          }
        }
      ]
    },
    {
      "cell_type": "code",
      "metadata": {
        "colab": {
          "base_uri": "https://localhost:8080/"
        },
        "id": "3WD0GIFgwMRh",
        "outputId": "54299735-ce02-4350-fcb8-de731f901b8c"
      },
      "source": [
        "pip install mlxtend"
      ],
      "execution_count": 29,
      "outputs": [
        {
          "output_type": "stream",
          "name": "stdout",
          "text": [
            "Requirement already satisfied: mlxtend in /usr/local/lib/python3.7/dist-packages (0.14.0)\n",
            "Requirement already satisfied: pandas>=0.17.1 in /usr/local/lib/python3.7/dist-packages (from mlxtend) (1.1.5)\n",
            "Requirement already satisfied: scikit-learn>=0.18 in /usr/local/lib/python3.7/dist-packages (from mlxtend) (0.22.2.post1)\n",
            "Requirement already satisfied: numpy>=1.10.4 in /usr/local/lib/python3.7/dist-packages (from mlxtend) (1.19.5)\n",
            "Requirement already satisfied: setuptools in /usr/local/lib/python3.7/dist-packages (from mlxtend) (57.4.0)\n",
            "Requirement already satisfied: scipy>=0.17 in /usr/local/lib/python3.7/dist-packages (from mlxtend) (1.4.1)\n",
            "Requirement already satisfied: matplotlib>=1.5.1 in /usr/local/lib/python3.7/dist-packages (from mlxtend) (3.2.2)\n",
            "Requirement already satisfied: kiwisolver>=1.0.1 in /usr/local/lib/python3.7/dist-packages (from matplotlib>=1.5.1->mlxtend) (1.3.1)\n",
            "Requirement already satisfied: python-dateutil>=2.1 in /usr/local/lib/python3.7/dist-packages (from matplotlib>=1.5.1->mlxtend) (2.8.2)\n",
            "Requirement already satisfied: pyparsing!=2.0.4,!=2.1.2,!=2.1.6,>=2.0.1 in /usr/local/lib/python3.7/dist-packages (from matplotlib>=1.5.1->mlxtend) (2.4.7)\n",
            "Requirement already satisfied: cycler>=0.10 in /usr/local/lib/python3.7/dist-packages (from matplotlib>=1.5.1->mlxtend) (0.10.0)\n",
            "Requirement already satisfied: six in /usr/local/lib/python3.7/dist-packages (from cycler>=0.10->matplotlib>=1.5.1->mlxtend) (1.15.0)\n",
            "Requirement already satisfied: pytz>=2017.2 in /usr/local/lib/python3.7/dist-packages (from pandas>=0.17.1->mlxtend) (2018.9)\n",
            "Requirement already satisfied: joblib>=0.11 in /usr/local/lib/python3.7/dist-packages (from scikit-learn>=0.18->mlxtend) (1.0.1)\n"
          ]
        }
      ]
    },
    {
      "cell_type": "code",
      "metadata": {
        "id": "rvO-dmkRwYIq"
      },
      "source": [
        "from mlxtend.plotting import plot_confusion_matrix\n",
        "from sklearn.metrics import confusion_matrix"
      ],
      "execution_count": 30,
      "outputs": []
    },
    {
      "cell_type": "code",
      "metadata": {
        "id": "ZVuSLYbiw25_"
      },
      "source": [
        "AY_P = amodel.predict(AX_test)\n",
        "AY_predict=np.argmax(AY_P,axis=1)\n",
        "GY_P = gmodel.predict(GX_test)\n",
        "GY_predict=np.argmax(GY_P,axis=1)"
      ],
      "execution_count": 31,
      "outputs": []
    },
    {
      "cell_type": "code",
      "metadata": {
        "colab": {
          "base_uri": "https://localhost:8080/",
          "height": 316
        },
        "id": "lxalTJUGxzjN",
        "outputId": "274d1023-025d-4de1-c44a-1a2c6981de88"
      },
      "source": [
        "amat = confusion_matrix(AY_test, AY_predict)\n",
        "plot_confusion_matrix(conf_mat=amat, show_normed=True, colorbar=True)"
      ],
      "execution_count": 32,
      "outputs": [
        {
          "output_type": "execute_result",
          "data": {
            "text/plain": [
              "(<Figure size 432x288 with 2 Axes>,\n",
              " <matplotlib.axes._subplots.AxesSubplot at 0x7f9562015590>)"
            ]
          },
          "metadata": {},
          "execution_count": 32
        },
        {
          "output_type": "display_data",
          "data": {
            "image/png": "[encoded data removed]",
            "text/plain": [
              "<Figure size 432x288 with 2 Axes>"
            ]
          },
          "metadata": {
            "needs_background": "light"
          }
        }
      ]
    },
    {
      "cell_type": "code",
      "metadata": {
        "colab": {
          "base_uri": "https://localhost:8080/"
        },
        "id": "Z_3SclqLt8ks",
        "outputId": "4b456796-e52e-4a24-b608-2cc5c00d5485"
      },
      "source": [
        "print(alabel.classes_)"
      ],
      "execution_count": 33,
      "outputs": [
        {
          "output_type": "stream",
          "name": "stdout",
          "text": [
            "['CHAIR' 'LYING_UP' 'STANDING']\n"
          ]
        }
      ]
    },
    {
      "cell_type": "code",
      "metadata": {
        "colab": {
          "base_uri": "https://localhost:8080/",
          "height": 313
        },
        "id": "dS2e6jk30R2M",
        "outputId": "e550c64a-1466-47eb-c333-f7d3410d1306"
      },
      "source": [
        "gmat = confusion_matrix(GY_test, GY_predict)\n",
        "plot_confusion_matrix(conf_mat=gmat, show_normed=True, colorbar=True)"
      ],
      "execution_count": 34,
      "outputs": [
        {
          "output_type": "execute_result",
          "data": {
            "text/plain": [
              "(<Figure size 432x288 with 2 Axes>,\n",
              " <matplotlib.axes._subplots.AxesSubplot at 0x7f95618bdad0>)"
            ]
          },
          "metadata": {},
          "execution_count": 34
        },
        {
          "output_type": "display_data",
          "data": {
            "image/png": "[encoded data removed]",
            "text/plain": [
              "<Figure size 432x288 with 2 Axes>"
            ]
          },
          "metadata": {
            "needs_background": "light"
          }
        }
      ]
    },
    {
      "cell_type": "code",
      "metadata": {
        "id": "EAubsRItKAGR",
        "colab": {
          "base_uri": "https://localhost:8080/"
        },
        "outputId": "cc731116-6e30-4c8a-f9a1-646314204351"
      },
      "source": [
        "print(glabel.classes_)"
      ],
      "execution_count": 35,
      "outputs": [
        {
          "output_type": "stream",
          "name": "stdout",
          "text": [
            "['CHAIR' 'LYING_UP' 'STANDING']\n"
          ]
        }
      ]
    }
  ]
}