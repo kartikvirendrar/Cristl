{
  "nbformat": 4,
  "nbformat_minor": 0,
  "metadata": {
    "colab": {
      "name": "project2_HAR.ipynb",
      "provenance": [],
      "mount_file_id": "https://github.com/AMEYABHAVE/Cristl/blob/main/project2_HAR.ipynb",
      "authorship_tag": "ABX9TyPXMchdarAnCw4EamFOeHbW",
      "include_colab_link": true
    },
    "kernelspec": {
      "name": "python3",
      "display_name": "Python 3"
    },
    "language_info": {
      "name": "python"
    }
  },
  "cells": [
    {
      "cell_type": "markdown",
      "metadata": {
        "id": "view-in-github",
        "colab_type": "text"
      },
      "source": [
        "<a href=\"https://colab.research.google.com/github/kartikvirendrar/Cristl/blob/main/project2_HAR.ipynb\" target=\"_parent\"><img src=\"https://colab.research.google.com/assets/colab-badge.svg\" alt=\"Open In Colab\"/></a>"
      ]
    },
    {
      "cell_type": "code",
      "metadata": {
        "colab": {
          "base_uri": "https://localhost:8080/"
        },
        "id": "J_39geOCNFWK",
        "outputId": "13df4f81-1ba5-496d-f23d-48211e8f3207"
      },
      "source": [
        "import tensorflow as tf\n",
        "from tensorflow.keras import Sequential\n",
        "from tensorflow.keras.layers import Flatten, Dense, Dropout, BatchNormalization\n",
        "from tensorflow.keras.layers import Conv2D, MaxPool2D\n",
        "from tensorflow.keras.optimizers import Adam\n",
        "print(tf.__version__)"
      ],
      "execution_count": 1,
      "outputs": [
        {
          "output_type": "stream",
          "name": "stdout",
          "text": [
            "2.6.0\n"
          ]
        }
      ]
    },
    {
      "cell_type": "code",
      "metadata": {
        "id": "XOv7Iw1jOdTc"
      },
      "source": [
        "from google.colab import drive\n",
        "import pandas as pd\n",
        "file_location = '/content/drive/MyDrive/accelerometer.csv'\n",
        "accelerometer =pd.read_csv(file_location)\n",
        "accelerometer.drop(columns=['time','repetition','uuid'], inplace=True)\n",
        "accsitting= accelerometer[accelerometer['activity'] == 'CHAIR'].head(31668)\n",
        "accstanding= accelerometer[accelerometer['activity'] == 'STANDING']\n",
        "acclying= accelerometer[accelerometer['activity'] == 'LYING_UP']\n",
        "acclying= acclying.append(accelerometer[accelerometer['activity'] == 'LYING_SIDE'].head(520))\n",
        "acclying.drop(columns=['activity'], inplace=True)\n",
        "acclying['activity']='LYING_UP'\n",
        "accdataset = pd.DataFrame()\n",
        "accdataset = accdataset.append([accsitting, accstanding, acclying])\n",
        "\n",
        "file_location1 = '/content/drive/MyDrive/gyroscope.csv'\n",
        "gyroscope =pd.read_csv(file_location1)\n",
        "gyroscope.drop(columns=['time','repetition','uuid'], inplace=True)\n",
        "gyrsitting= gyroscope[gyroscope['activity'] == 'CHAIR'].head(9875)\n",
        "gyrstanding= gyroscope[gyroscope['activity'] == 'STANDING'].head(9875)\n",
        "gyrlying= gyroscope[gyroscope['activity'] == 'LYING_UP'].head(9875)\n",
        "gyrdataset = pd.DataFrame()\n",
        "gyrdataset = gyrdataset.append([gyrsitting, gyrstanding, gyrlying])"
      ],
      "execution_count": 2,
      "outputs": []
    },
    {
      "cell_type": "code",
      "metadata": {
        "colab": {
          "base_uri": "https://localhost:8080/"
        },
        "id": "ulpTn2jJsCkN",
        "outputId": "16e59e7f-1a23-4122-c23a-035f3403a5b4"
      },
      "source": [
        "accdataset.info()\n",
        "gyrdataset.info()"
      ],
      "execution_count": 3,
      "outputs": [
        {
          "output_type": "stream",
          "name": "stdout",
          "text": [
            "<class 'pandas.core.frame.DataFrame'>\n",
            "Int64Index: 95004 entries, 0 to 5319\n",
            "Data columns (total 5 columns):\n",
            " #   Column    Non-Null Count  Dtype  \n",
            "---  ------    --------------  -----  \n",
            " 0   name      95004 non-null  object \n",
            " 1   acc_x     95004 non-null  float64\n",
            " 2   acc_y     95004 non-null  float64\n",
            " 3   acc_z     95004 non-null  float64\n",
            " 4   activity  95004 non-null  object \n",
            "dtypes: float64(3), object(2)\n",
            "memory usage: 4.3+ MB\n",
            "<class 'pandas.core.frame.DataFrame'>\n",
            "Int64Index: 29625 entries, 0 to 89378\n",
            "Data columns (total 5 columns):\n",
            " #   Column    Non-Null Count  Dtype  \n",
            "---  ------    --------------  -----  \n",
            " 0   name      29625 non-null  object \n",
            " 1   gyr_x     29625 non-null  float64\n",
            " 2   gyr_y     29625 non-null  float64\n",
            " 3   gyr_z     29625 non-null  float64\n",
            " 4   activity  29625 non-null  object \n",
            "dtypes: float64(3), object(2)\n",
            "memory usage: 1.4+ MB\n"
          ]
        }
      ]
    },
    {
      "cell_type": "code",
      "metadata": {
        "colab": {
          "base_uri": "https://localhost:8080/"
        },
        "id": "uqoudP-YtmC3",
        "outputId": "f1fdbd69-3d83-4495-bf66-e300ec8807c8"
      },
      "source": [
        "accdataset['activity'].value_counts()"
      ],
      "execution_count": 4,
      "outputs": [
        {
          "output_type": "execute_result",
          "data": {
            "text/plain": [
              "LYING_UP    31668\n",
              "CHAIR       31668\n",
              "STANDING    31668\n",
              "Name: activity, dtype: int64"
            ]
          },
          "metadata": {},
          "execution_count": 4
        }
      ]
    },
    {
      "cell_type": "code",
      "metadata": {
        "colab": {
          "base_uri": "https://localhost:8080/"
        },
        "id": "3dxiYlzHtp2f",
        "outputId": "156646ed-adc4-47cc-aa09-dcfed6cf74b7"
      },
      "source": [
        "gyrdataset['activity'].value_counts()"
      ],
      "execution_count": 5,
      "outputs": [
        {
          "output_type": "execute_result",
          "data": {
            "text/plain": [
              "CHAIR       9875\n",
              "STANDING    9875\n",
              "LYING_UP    9875\n",
              "Name: activity, dtype: int64"
            ]
          },
          "metadata": {},
          "execution_count": 5
        }
      ]
    },
    {
      "cell_type": "code",
      "metadata": {
        "colab": {
          "base_uri": "https://localhost:8080/"
        },
        "id": "ROo7wt7tt_a8",
        "outputId": "758e2fc2-2914-454e-9242-f9a5be2c4d01"
      },
      "source": [
        "import numpy as np\n",
        "import matplotlib.pyplot as plt\n",
        "from sklearn.model_selection import train_test_split\n",
        "from sklearn.preprocessing import StandardScaler, LabelEncoder\n",
        "label=LabelEncoder()\n",
        "accdataset['label']=label.fit_transform(accdataset['activity'])\n",
        "print(accdataset.head())\n",
        "print(label.classes_)"
      ],
      "execution_count": 6,
      "outputs": [
        {
          "output_type": "stream",
          "name": "stdout",
          "text": [
            "            name     acc_x     acc_y     acc_z activity  label\n",
            "0  accelerometer -0.414825  7.590469  6.235336    CHAIR      0\n",
            "1  accelerometer -0.337662  7.645508  6.125275    CHAIR      0\n",
            "2  accelerometer -0.393295  7.605423  6.231155    CHAIR      0\n",
            "3  accelerometer -0.469269  7.592865  6.281403    CHAIR      0\n",
            "4  accelerometer -0.418411  7.633530  6.317307    CHAIR      0\n",
            "['CHAIR' 'LYING_UP' 'STANDING']\n"
          ]
        }
      ]
    },
    {
      "cell_type": "code",
      "metadata": {
        "colab": {
          "base_uri": "https://localhost:8080/"
        },
        "id": "68Fq8PK3vHkE",
        "outputId": "e4245e1b-55ea-49fd-893f-58a882b83e48"
      },
      "source": [
        "gyrdataset['label']=label.fit_transform(gyrdataset['activity'])\n",
        "print(gyrdataset.head())\n",
        "print(label.classes_)"
      ],
      "execution_count": 7,
      "outputs": [
        {
          "output_type": "stream",
          "name": "stdout",
          "text": [
            "        name     gyr_x     gyr_y     gyr_z activity  label\n",
            "0  gyroscope -0.309540  7.679596  6.142029    CHAIR      0\n",
            "1  gyroscope -0.530884  7.897354  5.765747    CHAIR      0\n",
            "2  gyroscope -0.608643  8.231140  5.266846    CHAIR      0\n",
            "3  gyroscope -0.570953  8.260452  5.229172    CHAIR      0\n",
            "4  gyroscope -0.816223  8.244308  5.284195    CHAIR      0\n",
            "['CHAIR' 'LYING_UP' 'STANDING']\n"
          ]
        }
      ]
    },
    {
      "cell_type": "code",
      "metadata": {
        "colab": {
          "base_uri": "https://localhost:8080/",
          "height": 417
        },
        "id": "upyuAIepv96H",
        "outputId": "3e6ddcec-9e0e-44ea-d11d-385c40001aca"
      },
      "source": [
        "AX = accdataset[['acc_x','acc_y','acc_z']]\n",
        "AY = accdataset['label']\n",
        "scaler = StandardScaler()\n",
        "AX = scaler.fit_transform(AX)\n",
        "Ascaled_X = pd.DataFrame(data=AX, columns=['acc_x','acc_y','acc_z'])\n",
        "Ascaled_X['label'] = AY.values\n",
        "Ascaled_X"
      ],
      "execution_count": 8,
      "outputs": [
        {
          "output_type": "execute_result",
          "data": {
            "text/html": [
              "<div>\n",
              "<style scoped>\n",
              "    .dataframe tbody tr th:only-of-type {\n",
              "        vertical-align: middle;\n",
              "    }\n",
              "\n",
              "    .dataframe tbody tr th {\n",
              "        vertical-align: top;\n",
              "    }\n",
              "\n",
              "    .dataframe thead th {\n",
              "        text-align: right;\n",
              "    }\n",
              "</style>\n",
              "<table border=\"1\" class=\"dataframe\">\n",
              "  <thead>\n",
              "    <tr style=\"text-align: right;\">\n",
              "      <th></th>\n",
              "      <th>acc_x</th>\n",
              "      <th>acc_y</th>\n",
              "      <th>acc_z</th>\n",
              "      <th>label</th>\n",
              "    </tr>\n",
              "  </thead>\n",
              "  <tbody>\n",
              "    <tr>\n",
              "      <th>0</th>\n",
              "      <td>-0.407332</td>\n",
              "      <td>0.535859</td>\n",
              "      <td>0.414297</td>\n",
              "      <td>0</td>\n",
              "    </tr>\n",
              "    <tr>\n",
              "      <th>1</th>\n",
              "      <td>-0.342817</td>\n",
              "      <td>0.557656</td>\n",
              "      <td>0.395899</td>\n",
              "      <td>0</td>\n",
              "    </tr>\n",
              "    <tr>\n",
              "      <th>2</th>\n",
              "      <td>-0.389331</td>\n",
              "      <td>0.541781</td>\n",
              "      <td>0.413598</td>\n",
              "      <td>0</td>\n",
              "    </tr>\n",
              "    <tr>\n",
              "      <th>3</th>\n",
              "      <td>-0.452851</td>\n",
              "      <td>0.536808</td>\n",
              "      <td>0.421998</td>\n",
              "      <td>0</td>\n",
              "    </tr>\n",
              "    <tr>\n",
              "      <th>4</th>\n",
              "      <td>-0.410330</td>\n",
              "      <td>0.552913</td>\n",
              "      <td>0.427999</td>\n",
              "      <td>0</td>\n",
              "    </tr>\n",
              "    <tr>\n",
              "      <th>...</th>\n",
              "      <td>...</td>\n",
              "      <td>...</td>\n",
              "      <td>...</td>\n",
              "      <td>...</td>\n",
              "    </tr>\n",
              "    <tr>\n",
              "      <th>94999</th>\n",
              "      <td>-0.532368</td>\n",
              "      <td>1.405810</td>\n",
              "      <td>-0.635258</td>\n",
              "      <td>1</td>\n",
              "    </tr>\n",
              "    <tr>\n",
              "      <th>95000</th>\n",
              "      <td>-0.584891</td>\n",
              "      <td>1.400359</td>\n",
              "      <td>-0.640058</td>\n",
              "      <td>1</td>\n",
              "    </tr>\n",
              "    <tr>\n",
              "      <th>95001</th>\n",
              "      <td>-0.561876</td>\n",
              "      <td>1.406281</td>\n",
              "      <td>-0.642660</td>\n",
              "      <td>1</td>\n",
              "    </tr>\n",
              "    <tr>\n",
              "      <th>95002</th>\n",
              "      <td>-0.572389</td>\n",
              "      <td>1.409841</td>\n",
              "      <td>-0.661458</td>\n",
              "      <td>1</td>\n",
              "    </tr>\n",
              "    <tr>\n",
              "      <th>95003</th>\n",
              "      <td>-0.586881</td>\n",
              "      <td>1.394672</td>\n",
              "      <td>-0.664057</td>\n",
              "      <td>1</td>\n",
              "    </tr>\n",
              "  </tbody>\n",
              "</table>\n",
              "<p>95004 rows × 4 columns</p>\n",
              "</div>"
            ],
            "text/plain": [
              "          acc_x     acc_y     acc_z  label\n",
              "0     -0.407332  0.535859  0.414297      0\n",
              "1     -0.342817  0.557656  0.395899      0\n",
              "2     -0.389331  0.541781  0.413598      0\n",
              "3     -0.452851  0.536808  0.421998      0\n",
              "4     -0.410330  0.552913  0.427999      0\n",
              "...         ...       ...       ...    ...\n",
              "94999 -0.532368  1.405810 -0.635258      1\n",
              "95000 -0.584891  1.400359 -0.640058      1\n",
              "95001 -0.561876  1.406281 -0.642660      1\n",
              "95002 -0.572389  1.409841 -0.661458      1\n",
              "95003 -0.586881  1.394672 -0.664057      1\n",
              "\n",
              "[95004 rows x 4 columns]"
            ]
          },
          "metadata": {},
          "execution_count": 8
        }
      ]
    },
    {
      "cell_type": "code",
      "metadata": {
        "colab": {
          "base_uri": "https://localhost:8080/",
          "height": 417
        },
        "id": "t9qh_ah7xvwO",
        "outputId": "5ae95c33-1712-4c93-a470-a03d7e1137a0"
      },
      "source": [
        "GX = gyrdataset[['gyr_x','gyr_y','gyr_z']]\n",
        "GY = gyrdataset['label']\n",
        "scaler = StandardScaler()\n",
        "GX = scaler.fit_transform(GX)\n",
        "Gscaled_X = pd.DataFrame(data=GX, columns=['gyr_x','gyr_y','gyr_z'])\n",
        "Gscaled_X['label'] = GY.values\n",
        "Gscaled_X"
      ],
      "execution_count": 9,
      "outputs": [
        {
          "output_type": "execute_result",
          "data": {
            "text/html": [
              "<div>\n",
              "<style scoped>\n",
              "    .dataframe tbody tr th:only-of-type {\n",
              "        vertical-align: middle;\n",
              "    }\n",
              "\n",
              "    .dataframe tbody tr th {\n",
              "        vertical-align: top;\n",
              "    }\n",
              "\n",
              "    .dataframe thead th {\n",
              "        text-align: right;\n",
              "    }\n",
              "</style>\n",
              "<table border=\"1\" class=\"dataframe\">\n",
              "  <thead>\n",
              "    <tr style=\"text-align: right;\">\n",
              "      <th></th>\n",
              "      <th>gyr_x</th>\n",
              "      <th>gyr_y</th>\n",
              "      <th>gyr_z</th>\n",
              "      <th>label</th>\n",
              "    </tr>\n",
              "  </thead>\n",
              "  <tbody>\n",
              "    <tr>\n",
              "      <th>0</th>\n",
              "      <td>-0.511514</td>\n",
              "      <td>0.743974</td>\n",
              "      <td>0.380241</td>\n",
              "      <td>0</td>\n",
              "    </tr>\n",
              "    <tr>\n",
              "      <th>1</th>\n",
              "      <td>-0.751855</td>\n",
              "      <td>0.819761</td>\n",
              "      <td>0.323345</td>\n",
              "      <td>0</td>\n",
              "    </tr>\n",
              "    <tr>\n",
              "      <th>2</th>\n",
              "      <td>-0.836288</td>\n",
              "      <td>0.935931</td>\n",
              "      <td>0.247909</td>\n",
              "      <td>0</td>\n",
              "    </tr>\n",
              "    <tr>\n",
              "      <th>3</th>\n",
              "      <td>-0.795364</td>\n",
              "      <td>0.946133</td>\n",
              "      <td>0.242213</td>\n",
              "      <td>0</td>\n",
              "    </tr>\n",
              "    <tr>\n",
              "      <th>4</th>\n",
              "      <td>-1.061684</td>\n",
              "      <td>0.940514</td>\n",
              "      <td>0.250533</td>\n",
              "      <td>0</td>\n",
              "    </tr>\n",
              "    <tr>\n",
              "      <th>...</th>\n",
              "      <td>...</td>\n",
              "      <td>...</td>\n",
              "      <td>...</td>\n",
              "      <td>...</td>\n",
              "    </tr>\n",
              "    <tr>\n",
              "      <th>29620</th>\n",
              "      <td>0.393923</td>\n",
              "      <td>1.434373</td>\n",
              "      <td>-0.432256</td>\n",
              "      <td>1</td>\n",
              "    </tr>\n",
              "    <tr>\n",
              "      <th>29621</th>\n",
              "      <td>0.417320</td>\n",
              "      <td>1.446039</td>\n",
              "      <td>-0.434066</td>\n",
              "      <td>1</td>\n",
              "    </tr>\n",
              "    <tr>\n",
              "      <th>29622</th>\n",
              "      <td>0.326331</td>\n",
              "      <td>1.445205</td>\n",
              "      <td>-0.435876</td>\n",
              "      <td>1</td>\n",
              "    </tr>\n",
              "    <tr>\n",
              "      <th>29623</th>\n",
              "      <td>0.383524</td>\n",
              "      <td>1.451038</td>\n",
              "      <td>-0.441668</td>\n",
              "      <td>1</td>\n",
              "    </tr>\n",
              "    <tr>\n",
              "      <th>29624</th>\n",
              "      <td>0.388723</td>\n",
              "      <td>1.450205</td>\n",
              "      <td>-0.443116</td>\n",
              "      <td>1</td>\n",
              "    </tr>\n",
              "  </tbody>\n",
              "</table>\n",
              "<p>29625 rows × 4 columns</p>\n",
              "</div>"
            ],
            "text/plain": [
              "          gyr_x     gyr_y     gyr_z  label\n",
              "0     -0.511514  0.743974  0.380241      0\n",
              "1     -0.751855  0.819761  0.323345      0\n",
              "2     -0.836288  0.935931  0.247909      0\n",
              "3     -0.795364  0.946133  0.242213      0\n",
              "4     -1.061684  0.940514  0.250533      0\n",
              "...         ...       ...       ...    ...\n",
              "29620  0.393923  1.434373 -0.432256      1\n",
              "29621  0.417320  1.446039 -0.434066      1\n",
              "29622  0.326331  1.445205 -0.435876      1\n",
              "29623  0.383524  1.451038 -0.441668      1\n",
              "29624  0.388723  1.450205 -0.443116      1\n",
              "\n",
              "[29625 rows x 4 columns]"
            ]
          },
          "metadata": {},
          "execution_count": 9
        }
      ]
    }
  ]
}