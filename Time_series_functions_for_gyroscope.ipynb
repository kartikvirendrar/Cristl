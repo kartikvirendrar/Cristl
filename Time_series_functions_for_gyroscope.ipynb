{
  "nbformat": 4,
  "nbformat_minor": 0,
  "metadata": {
    "colab": {
      "name": "Time series functions for gyroscope.ipynb",
      "provenance": [],
      "collapsed_sections": [],
      "authorship_tag": "ABX9TyNhXLXbSOQcMu5RCJYKv0T1",
      "include_colab_link": true
    },
    "kernelspec": {
      "name": "python3",
      "display_name": "Python 3"
    },
    "language_info": {
      "name": "python"
    }
  },
  "cells": [
    {
      "cell_type": "markdown",
      "metadata": {
        "id": "view-in-github",
        "colab_type": "text"
      },
      "source": [
        "<a href=\"https://colab.research.google.com/github/AMEYABHAVE/Cristl/blob/main/Time_series_functions_for_gyroscope.ipynb\" target=\"_parent\"><img src=\"https://colab.research.google.com/assets/colab-badge.svg\" alt=\"Open In Colab\"/></a>"
      ]
    },
    {
      "cell_type": "code",
      "metadata": {
        "id": "20WxYis3T8Q5"
      },
      "source": [
        "import pandas as pd\n",
        "import matplotlib as mpl\n",
        "import matplotlib.pyplot as plt\n",
        "from keras.preprocessing.sequence import TimeseriesGenerator\n",
        "from IPython.display import Image, display\n",
        "\n",
        "mpl.rcParams['figure.figsize'] = (10,8)\n",
        "mpl.rcParams['axes.grid'] = False "
      ],
      "execution_count": 39,
      "outputs": []
    },
    {
      "cell_type": "code",
      "metadata": {
        "id": "ILXXtyOSVrdM"
      },
      "source": [
        "df = pd.read_csv('https://zenodo.org/record/4642560/files/CHARM_v1.1_gyroscope.csv?download=1')"
      ],
      "execution_count": 40,
      "outputs": []
    },
    {
      "cell_type": "code",
      "metadata": {
        "colab": {
          "base_uri": "https://localhost:8080/",
          "height": 419
        },
        "id": "4xIhnZRfV-kk",
        "outputId": "f6d3c50e-5696-4c33-ae0c-d94ea2f6c069"
      },
      "source": [
        "df"
      ],
      "execution_count": 41,
      "outputs": [
        {
          "output_type": "execute_result",
          "data": {
            "text/html": [
              "<div>\n",
              "<style scoped>\n",
              "    .dataframe tbody tr th:only-of-type {\n",
              "        vertical-align: middle;\n",
              "    }\n",
              "\n",
              "    .dataframe tbody tr th {\n",
              "        vertical-align: top;\n",
              "    }\n",
              "\n",
              "    .dataframe thead th {\n",
              "        text-align: right;\n",
              "    }\n",
              "</style>\n",
              "<table border=\"1\" class=\"dataframe\">\n",
              "  <thead>\n",
              "    <tr style=\"text-align: right;\">\n",
              "      <th></th>\n",
              "      <th>name</th>\n",
              "      <th>time</th>\n",
              "      <th>gyr_x</th>\n",
              "      <th>gyr_y</th>\n",
              "      <th>gyr_z</th>\n",
              "      <th>activity</th>\n",
              "      <th>repetition</th>\n",
              "      <th>uuid</th>\n",
              "    </tr>\n",
              "  </thead>\n",
              "  <tbody>\n",
              "    <tr>\n",
              "      <th>0</th>\n",
              "      <td>gyroscope</td>\n",
              "      <td>1614343981544999936</td>\n",
              "      <td>-0.309540</td>\n",
              "      <td>7.679596</td>\n",
              "      <td>6.142029</td>\n",
              "      <td>CHAIR</td>\n",
              "      <td>1</td>\n",
              "      <td>33302ecf-c5e5-4c5e-aea9-8d0457cd8b51</td>\n",
              "    </tr>\n",
              "    <tr>\n",
              "      <th>1</th>\n",
              "      <td>gyroscope</td>\n",
              "      <td>1614343986540999936</td>\n",
              "      <td>-0.530884</td>\n",
              "      <td>7.897354</td>\n",
              "      <td>5.765747</td>\n",
              "      <td>CHAIR</td>\n",
              "      <td>1</td>\n",
              "      <td>33302ecf-c5e5-4c5e-aea9-8d0457cd8b51</td>\n",
              "    </tr>\n",
              "    <tr>\n",
              "      <th>2</th>\n",
              "      <td>gyroscope</td>\n",
              "      <td>1614343989556000000</td>\n",
              "      <td>-0.608643</td>\n",
              "      <td>8.231140</td>\n",
              "      <td>5.266846</td>\n",
              "      <td>CHAIR</td>\n",
              "      <td>1</td>\n",
              "      <td>33302ecf-c5e5-4c5e-aea9-8d0457cd8b51</td>\n",
              "    </tr>\n",
              "    <tr>\n",
              "      <th>3</th>\n",
              "      <td>gyroscope</td>\n",
              "      <td>1614343990545999872</td>\n",
              "      <td>-0.570953</td>\n",
              "      <td>8.260452</td>\n",
              "      <td>5.229172</td>\n",
              "      <td>CHAIR</td>\n",
              "      <td>1</td>\n",
              "      <td>33302ecf-c5e5-4c5e-aea9-8d0457cd8b51</td>\n",
              "    </tr>\n",
              "    <tr>\n",
              "      <th>4</th>\n",
              "      <td>gyroscope</td>\n",
              "      <td>1614343992488000000</td>\n",
              "      <td>-0.816223</td>\n",
              "      <td>8.244308</td>\n",
              "      <td>5.284195</td>\n",
              "      <td>CHAIR</td>\n",
              "      <td>1</td>\n",
              "      <td>33302ecf-c5e5-4c5e-aea9-8d0457cd8b51</td>\n",
              "    </tr>\n",
              "    <tr>\n",
              "      <th>...</th>\n",
              "      <td>...</td>\n",
              "      <td>...</td>\n",
              "      <td>...</td>\n",
              "      <td>...</td>\n",
              "      <td>...</td>\n",
              "      <td>...</td>\n",
              "      <td>...</td>\n",
              "      <td>...</td>\n",
              "    </tr>\n",
              "    <tr>\n",
              "      <th>93855</th>\n",
              "      <td>gyroscope</td>\n",
              "      <td>1616361343667000064</td>\n",
              "      <td>-0.542252</td>\n",
              "      <td>5.791656</td>\n",
              "      <td>10.423981</td>\n",
              "      <td>DOWNSTAIRS</td>\n",
              "      <td>6</td>\n",
              "      <td>9f6b4653-f4af-4c04-9b4e-3de934ff9345</td>\n",
              "    </tr>\n",
              "    <tr>\n",
              "      <th>93856</th>\n",
              "      <td>gyroscope</td>\n",
              "      <td>1616361343750000128</td>\n",
              "      <td>-0.274246</td>\n",
              "      <td>4.609604</td>\n",
              "      <td>10.543625</td>\n",
              "      <td>DOWNSTAIRS</td>\n",
              "      <td>6</td>\n",
              "      <td>9f6b4653-f4af-4c04-9b4e-3de934ff9345</td>\n",
              "    </tr>\n",
              "    <tr>\n",
              "      <th>93857</th>\n",
              "      <td>gyroscope</td>\n",
              "      <td>1616361343873999872</td>\n",
              "      <td>-1.220612</td>\n",
              "      <td>3.207413</td>\n",
              "      <td>7.840927</td>\n",
              "      <td>DOWNSTAIRS</td>\n",
              "      <td>6</td>\n",
              "      <td>9f6b4653-f4af-4c04-9b4e-3de934ff9345</td>\n",
              "    </tr>\n",
              "    <tr>\n",
              "      <th>93858</th>\n",
              "      <td>gyroscope</td>\n",
              "      <td>1616361343996999936</td>\n",
              "      <td>-0.088196</td>\n",
              "      <td>3.592667</td>\n",
              "      <td>8.845322</td>\n",
              "      <td>DOWNSTAIRS</td>\n",
              "      <td>6</td>\n",
              "      <td>9f6b4653-f4af-4c04-9b4e-3de934ff9345</td>\n",
              "    </tr>\n",
              "    <tr>\n",
              "      <th>93859</th>\n",
              "      <td>gyroscope</td>\n",
              "      <td>1616361344908000000</td>\n",
              "      <td>-0.573959</td>\n",
              "      <td>3.613007</td>\n",
              "      <td>6.783295</td>\n",
              "      <td>DOWNSTAIRS</td>\n",
              "      <td>6</td>\n",
              "      <td>9f6b4653-f4af-4c04-9b4e-3de934ff9345</td>\n",
              "    </tr>\n",
              "  </tbody>\n",
              "</table>\n",
              "<p>93860 rows × 8 columns</p>\n",
              "</div>"
            ],
            "text/plain": [
              "            name  ...                                  uuid\n",
              "0      gyroscope  ...  33302ecf-c5e5-4c5e-aea9-8d0457cd8b51\n",
              "1      gyroscope  ...  33302ecf-c5e5-4c5e-aea9-8d0457cd8b51\n",
              "2      gyroscope  ...  33302ecf-c5e5-4c5e-aea9-8d0457cd8b51\n",
              "3      gyroscope  ...  33302ecf-c5e5-4c5e-aea9-8d0457cd8b51\n",
              "4      gyroscope  ...  33302ecf-c5e5-4c5e-aea9-8d0457cd8b51\n",
              "...          ...  ...                                   ...\n",
              "93855  gyroscope  ...  9f6b4653-f4af-4c04-9b4e-3de934ff9345\n",
              "93856  gyroscope  ...  9f6b4653-f4af-4c04-9b4e-3de934ff9345\n",
              "93857  gyroscope  ...  9f6b4653-f4af-4c04-9b4e-3de934ff9345\n",
              "93858  gyroscope  ...  9f6b4653-f4af-4c04-9b4e-3de934ff9345\n",
              "93859  gyroscope  ...  9f6b4653-f4af-4c04-9b4e-3de934ff9345\n",
              "\n",
              "[93860 rows x 8 columns]"
            ]
          },
          "metadata": {},
          "execution_count": 41
        }
      ]
    },
    {
      "cell_type": "code",
      "metadata": {
        "colab": {
          "base_uri": "https://localhost:8080/"
        },
        "id": "EbYOOMWyWAQU",
        "outputId": "2c75c161-67fe-40e8-d655-2837086aef9b"
      },
      "source": [
        "df.info()"
      ],
      "execution_count": 42,
      "outputs": [
        {
          "output_type": "stream",
          "name": "stdout",
          "text": [
            "<class 'pandas.core.frame.DataFrame'>\n",
            "RangeIndex: 93860 entries, 0 to 93859\n",
            "Data columns (total 8 columns):\n",
            " #   Column      Non-Null Count  Dtype  \n",
            "---  ------      --------------  -----  \n",
            " 0   name        93860 non-null  object \n",
            " 1   time        93860 non-null  int64  \n",
            " 2   gyr_x       93860 non-null  float64\n",
            " 3   gyr_y       93860 non-null  float64\n",
            " 4   gyr_z       93860 non-null  float64\n",
            " 5   activity    93860 non-null  object \n",
            " 6   repetition  93860 non-null  int64  \n",
            " 7   uuid        93860 non-null  object \n",
            "dtypes: float64(3), int64(2), object(3)\n",
            "memory usage: 5.7+ MB\n"
          ]
        }
      ]
    },
    {
      "cell_type": "code",
      "metadata": {
        "id": "Zz8p3tgSZNdo"
      },
      "source": [
        "df['time'] = pd.to_datetime(df['time'], infer_datetime_format=True)"
      ],
      "execution_count": 43,
      "outputs": []
    },
    {
      "cell_type": "code",
      "metadata": {
        "colab": {
          "base_uri": "https://localhost:8080/",
          "height": 498
        },
        "id": "XQHdxHN_aBMb",
        "outputId": "d0b036db-401c-41ec-e21f-93e8f354ee0b"
      },
      "source": [
        "df.set_index('time')['gyr_x'].plot()"
      ],
      "execution_count": 45,
      "outputs": [
        {
          "output_type": "execute_result",
          "data": {
            "text/plain": [
              "<matplotlib.axes._subplots.AxesSubplot at 0x7f7fa049e450>"
            ]
          },
          "metadata": {},
          "execution_count": 45
        },
        {
          "output_type": "display_data",
          "data": {
            "image/png": "[encoded data removed]",
            "text/plain": [
              "<Figure size 720x576 with 1 Axes>"
            ]
          },
          "metadata": {
            "needs_background": "light"
          }
        }
      ]
    },
    {
      "cell_type": "code",
      "metadata": {
        "colab": {
          "base_uri": "https://localhost:8080/",
          "height": 498
        },
        "id": "Xj6uBp3IaoSB",
        "outputId": "bb43b4c9-a888-495b-bb6b-47238d4a87bd"
      },
      "source": [
        "df.set_index('time')['gyr_y'].plot()"
      ],
      "execution_count": 46,
      "outputs": [
        {
          "output_type": "execute_result",
          "data": {
            "text/plain": [
              "<matplotlib.axes._subplots.AxesSubplot at 0x7f7f9b7b43d0>"
            ]
          },
          "metadata": {},
          "execution_count": 46
        },
        {
          "output_type": "display_data",
          "data": {
            "image/png": "[encoded data removed]",
            "text/plain": [
              "<Figure size 720x576 with 1 Axes>"
            ]
          },
          "metadata": {
            "needs_background": "light"
          }
        }
      ]
    },
    {
      "cell_type": "code",
      "metadata": {
        "colab": {
          "base_uri": "https://localhost:8080/",
          "height": 498
        },
        "id": "i1QTvf37asTe",
        "outputId": "5b306102-946b-47b0-cea6-29be7a9d7e20"
      },
      "source": [
        "df.set_index('time')['gyr_z'].plot()"
      ],
      "execution_count": 47,
      "outputs": [
        {
          "output_type": "execute_result",
          "data": {
            "text/plain": [
              "<matplotlib.axes._subplots.AxesSubplot at 0x7f7f94baf950>"
            ]
          },
          "metadata": {},
          "execution_count": 47
        },
        {
          "output_type": "display_data",
          "data": {
            "image/png": "[encoded data removed]",
            "text/plain": [
              "<Figure size 720x576 with 1 Axes>"
            ]
          },
          "metadata": {
            "needs_background": "light"
          }
        }
      ]
    },
    {
      "cell_type": "code",
      "metadata": {
        "colab": {
          "base_uri": "https://localhost:8080/",
          "height": 566
        },
        "id": "jYsCTbIHddmH",
        "outputId": "c21a49b7-be63-4e2c-984e-b3f5235e94fa"
      },
      "source": [
        "df.set_index('time')[['repetition','gyr_x','gyr_y','gyr_z',]].plot(subplots=True)"
      ],
      "execution_count": 48,
      "outputs": [
        {
          "output_type": "execute_result",
          "data": {
            "text/plain": [
              "array([<matplotlib.axes._subplots.AxesSubplot object at 0x7f7f94767a50>,\n",
              "       <matplotlib.axes._subplots.AxesSubplot object at 0x7f7f9471d290>,\n",
              "       <matplotlib.axes._subplots.AxesSubplot object at 0x7f7f946cd650>,\n",
              "       <matplotlib.axes._subplots.AxesSubplot object at 0x7f7f94680a10>],\n",
              "      dtype=object)"
            ]
          },
          "metadata": {},
          "execution_count": 48
        },
        {
          "output_type": "display_data",
          "data": {
            "image/png": "[encoded data removed]",
            "text/plain": [
              "<Figure size 720x576 with 4 Axes>"
            ]
          },
          "metadata": {
            "needs_background": "light"
          }
        }
      ]
    },
    {
      "cell_type": "code",
      "metadata": {
        "id": "3JHhQJ2WehIP",
        "colab": {
          "base_uri": "https://localhost:8080/"
        },
        "outputId": "e1c22dbf-4ec2-4cd0-cae5-949ec3b09ab2"
      },
      "source": [
        "df.count()"
      ],
      "execution_count": 49,
      "outputs": [
        {
          "output_type": "execute_result",
          "data": {
            "text/plain": [
              "name          93860\n",
              "time          93860\n",
              "gyr_x         93860\n",
              "gyr_y         93860\n",
              "gyr_z         93860\n",
              "activity      93860\n",
              "repetition    93860\n",
              "uuid          93860\n",
              "dtype: int64"
            ]
          },
          "metadata": {},
          "execution_count": 49
        }
      ]
    },
    {
      "cell_type": "code",
      "metadata": {
        "id": "mN-ul5n5elf5"
      },
      "source": [
        "features=df[['activity','gyr_x','gyr_y','gyr_z']].to_numpy().tolist()\n",
        "target=df['activity'].tolist()"
      ],
      "execution_count": 50,
      "outputs": []
    },
    {
      "cell_type": "code",
      "metadata": {
        "colab": {
          "base_uri": "https://localhost:8080/"
        },
        "id": "UKaj0sH4q1ky",
        "outputId": "74017f62-cc84-43e9-a1bd-09ecc7334ab5"
      },
      "source": [
        "features[0:11]"
      ],
      "execution_count": 51,
      "outputs": [
        {
          "output_type": "execute_result",
          "data": {
            "text/plain": [
              "[['CHAIR', -0.309539794921875, 7.679595947265625, 6.14202880859375],\n",
              " ['CHAIR', -0.5308837890625, 7.897354125976562, 5.7657470703125],\n",
              " ['CHAIR', -0.608642578125, 8.23114013671875, 5.266845703125],\n",
              " ['CHAIR', -0.570953369140625, 8.260452270507812, 5.229171752929688],\n",
              " ['CHAIR', -0.81622314453125, 8.244308471679688, 5.284194946289063],\n",
              " ['CHAIR', -0.986114501953125, 8.245498657226562, 5.186691284179688],\n",
              " ['CHAIR', -0.7593994140625, 8.392059326171875, 5.19805908203125],\n",
              " ['CHAIR', -0.7833251953125, 8.36932373046875, 5.2542877197265625],\n",
              " ['CHAIR', -0.8622894287109375, 8.332244873046875, 5.199249267578125],\n",
              " ['CHAIR', -0.793487548828125, 8.415390014648438, 5.134048461914063],\n",
              " ['CHAIR', -0.7288818359375, 8.420181274414062, 5.13165283203125]]"
            ]
          },
          "metadata": {},
          "execution_count": 51
        }
      ]
    },
    {
      "cell_type": "code",
      "metadata": {
        "colab": {
          "base_uri": "https://localhost:8080/"
        },
        "id": "XLfALTIJq6_Y",
        "outputId": "2cdc4adc-f998-4958-ffbe-f623e4ef9f41"
      },
      "source": [
        "target[0:11]"
      ],
      "execution_count": 52,
      "outputs": [
        {
          "output_type": "execute_result",
          "data": {
            "text/plain": [
              "['CHAIR',\n",
              " 'CHAIR',\n",
              " 'CHAIR',\n",
              " 'CHAIR',\n",
              " 'CHAIR',\n",
              " 'CHAIR',\n",
              " 'CHAIR',\n",
              " 'CHAIR',\n",
              " 'CHAIR',\n",
              " 'CHAIR',\n",
              " 'CHAIR']"
            ]
          },
          "metadata": {},
          "execution_count": 52
        }
      ]
    },
    {
      "cell_type": "code",
      "metadata": {
        "id": "nCnAHto2rVIJ"
      },
      "source": [
        "ts_generator = TimeseriesGenerator(features, target, length=6, sampling_rate=1, batch_size=1)"
      ],
      "execution_count": 53,
      "outputs": []
    },
    {
      "cell_type": "code",
      "metadata": {
        "colab": {
          "base_uri": "https://localhost:8080/"
        },
        "id": "I-D2jhNLrs7f",
        "outputId": "8ce7c286-a48c-4a76-e6b6-ef4ebbe6b0f2"
      },
      "source": [
        "ts_generator[0]"
      ],
      "execution_count": 54,
      "outputs": [
        {
          "output_type": "execute_result",
          "data": {
            "text/plain": [
              "(array([[['CHAIR', '-0.309539794921875', '7.679595947265625',\n",
              "          '6.14202880859375'],\n",
              "         ['CHAIR', '-0.5308837890625', '7.897354125976562',\n",
              "          '5.7657470703125'],\n",
              "         ['CHAIR', '-0.608642578125', '8.23114013671875',\n",
              "          '5.266845703125'],\n",
              "         ['CHAIR', '-0.570953369140625', '8.260452270507812',\n",
              "          '5.229171752929688'],\n",
              "         ['CHAIR', '-0.81622314453125', '8.244308471679688',\n",
              "          '5.284194946289063'],\n",
              "         ['CHAIR', '-0.986114501953125', '8.245498657226562',\n",
              "          '5.186691284179688']]], dtype='<U18'), array(['CHAIR'], dtype='<U5'))"
            ]
          },
          "metadata": {},
          "execution_count": 54
        }
      ]
    },
    {
      "cell_type": "code",
      "metadata": {
        "colab": {
          "base_uri": "https://localhost:8080/"
        },
        "id": "7mk3OqoArwaI",
        "outputId": "38e94c38-d768-4a3b-81c3-0e105b2a2d89"
      },
      "source": [
        "ts_generator[0][0][0].shape"
      ],
      "execution_count": 55,
      "outputs": [
        {
          "output_type": "execute_result",
          "data": {
            "text/plain": [
              "(6, 4)"
            ]
          },
          "metadata": {},
          "execution_count": 55
        }
      ]
    },
    {
      "cell_type": "code",
      "metadata": {
        "colab": {
          "base_uri": "https://localhost:8080/"
        },
        "id": "EzHmrDHpr45P",
        "outputId": "8ab5b31a-1257-44b3-c9f2-b4db329c5c17"
      },
      "source": [
        "ts_generator[1]"
      ],
      "execution_count": 56,
      "outputs": [
        {
          "output_type": "execute_result",
          "data": {
            "text/plain": [
              "(array([[['CHAIR', '-0.5308837890625', '7.897354125976562',\n",
              "          '5.7657470703125'],\n",
              "         ['CHAIR', '-0.608642578125', '8.23114013671875',\n",
              "          '5.266845703125'],\n",
              "         ['CHAIR', '-0.570953369140625', '8.260452270507812',\n",
              "          '5.229171752929688'],\n",
              "         ['CHAIR', '-0.81622314453125', '8.244308471679688',\n",
              "          '5.284194946289063'],\n",
              "         ['CHAIR', '-0.986114501953125', '8.245498657226562',\n",
              "          '5.186691284179688'],\n",
              "         ['CHAIR', '-0.7593994140625', '8.392059326171875',\n",
              "          '5.19805908203125']]], dtype='<U18'), array(['CHAIR'], dtype='<U5'))"
            ]
          },
          "metadata": {},
          "execution_count": 56
        }
      ]
    },
    {
      "cell_type": "code",
      "metadata": {
        "colab": {
          "base_uri": "https://localhost:8080/"
        },
        "id": "ACT8HK5er9EC",
        "outputId": "c82e5cdb-aafd-4e3e-c318-2185df1329f4"
      },
      "source": [
        "ts_generator[2]"
      ],
      "execution_count": 57,
      "outputs": [
        {
          "output_type": "execute_result",
          "data": {
            "text/plain": [
              "(array([[['CHAIR', '-0.608642578125', '8.23114013671875',\n",
              "          '5.266845703125'],\n",
              "         ['CHAIR', '-0.570953369140625', '8.260452270507812',\n",
              "          '5.229171752929688'],\n",
              "         ['CHAIR', '-0.81622314453125', '8.244308471679688',\n",
              "          '5.284194946289063'],\n",
              "         ['CHAIR', '-0.986114501953125', '8.245498657226562',\n",
              "          '5.186691284179688'],\n",
              "         ['CHAIR', '-0.7593994140625', '8.392059326171875',\n",
              "          '5.19805908203125'],\n",
              "         ['CHAIR', '-0.7833251953125', '8.36932373046875',\n",
              "          '5.2542877197265625']]], dtype='<U18'),\n",
              " array(['CHAIR'], dtype='<U5'))"
            ]
          },
          "metadata": {},
          "execution_count": 57
        }
      ]
    },
    {
      "cell_type": "code",
      "metadata": {
        "colab": {
          "base_uri": "https://localhost:8080/"
        },
        "id": "shPplAX5sA6o",
        "outputId": "3cfcc801-237c-4e18-9170-e2337533ff8c"
      },
      "source": [
        "len(ts_generator)"
      ],
      "execution_count": 58,
      "outputs": [
        {
          "output_type": "execute_result",
          "data": {
            "text/plain": [
              "93854"
            ]
          },
          "metadata": {},
          "execution_count": 58
        }
      ]
    },
    {
      "cell_type": "code",
      "metadata": {
        "id": "churR3YluXjV"
      },
      "source": [
        "ts_generator = TimeseriesGenerator(features, target, length=6, sampling_rate=1, batch_size=2)"
      ],
      "execution_count": 59,
      "outputs": []
    },
    {
      "cell_type": "code",
      "metadata": {
        "colab": {
          "base_uri": "https://localhost:8080/"
        },
        "id": "WlUbVpA9uw-p",
        "outputId": "ddb0af02-674e-4ba0-84b4-0a659eda2507"
      },
      "source": [
        "len(ts_generator)"
      ],
      "execution_count": 60,
      "outputs": [
        {
          "output_type": "execute_result",
          "data": {
            "text/plain": [
              "46927"
            ]
          },
          "metadata": {},
          "execution_count": 60
        }
      ]
    },
    {
      "cell_type": "code",
      "metadata": {
        "colab": {
          "base_uri": "https://localhost:8080/"
        },
        "id": "4llvkPNMu0RT",
        "outputId": "8696e79c-8bb4-4d11-dfec-13055658dde0"
      },
      "source": [
        "ts_generator[0]"
      ],
      "execution_count": 61,
      "outputs": [
        {
          "output_type": "execute_result",
          "data": {
            "text/plain": [
              "(array([[['CHAIR', '-0.309539794921875', '7.679595947265625',\n",
              "          '6.14202880859375'],\n",
              "         ['CHAIR', '-0.5308837890625', '7.897354125976562',\n",
              "          '5.7657470703125'],\n",
              "         ['CHAIR', '-0.608642578125', '8.23114013671875',\n",
              "          '5.266845703125'],\n",
              "         ['CHAIR', '-0.570953369140625', '8.260452270507812',\n",
              "          '5.229171752929688'],\n",
              "         ['CHAIR', '-0.81622314453125', '8.244308471679688',\n",
              "          '5.284194946289063'],\n",
              "         ['CHAIR', '-0.986114501953125', '8.245498657226562',\n",
              "          '5.186691284179688']],\n",
              " \n",
              "        [['CHAIR', '-0.5308837890625', '7.897354125976562',\n",
              "          '5.7657470703125'],\n",
              "         ['CHAIR', '-0.608642578125', '8.23114013671875',\n",
              "          '5.266845703125'],\n",
              "         ['CHAIR', '-0.570953369140625', '8.260452270507812',\n",
              "          '5.229171752929688'],\n",
              "         ['CHAIR', '-0.81622314453125', '8.244308471679688',\n",
              "          '5.284194946289063'],\n",
              "         ['CHAIR', '-0.986114501953125', '8.245498657226562',\n",
              "          '5.186691284179688'],\n",
              "         ['CHAIR', '-0.7593994140625', '8.392059326171875',\n",
              "          '5.19805908203125']]], dtype='<U18'),\n",
              " array(['CHAIR', 'CHAIR'], dtype='<U5'))"
            ]
          },
          "metadata": {},
          "execution_count": 61
        }
      ]
    },
    {
      "cell_type": "code",
      "metadata": {
        "colab": {
          "base_uri": "https://localhost:8080/"
        },
        "id": "4RkV_x_uu4qz",
        "outputId": "b5896d19-83b6-40a5-81cb-cb24cff5c4e4"
      },
      "source": [
        "ts_generator[1]"
      ],
      "execution_count": 62,
      "outputs": [
        {
          "output_type": "execute_result",
          "data": {
            "text/plain": [
              "(array([[['CHAIR', '-0.608642578125', '8.23114013671875',\n",
              "          '5.266845703125'],\n",
              "         ['CHAIR', '-0.570953369140625', '8.260452270507812',\n",
              "          '5.229171752929688'],\n",
              "         ['CHAIR', '-0.81622314453125', '8.244308471679688',\n",
              "          '5.284194946289063'],\n",
              "         ['CHAIR', '-0.986114501953125', '8.245498657226562',\n",
              "          '5.186691284179688'],\n",
              "         ['CHAIR', '-0.7593994140625', '8.392059326171875',\n",
              "          '5.19805908203125'],\n",
              "         ['CHAIR', '-0.7833251953125', '8.36932373046875',\n",
              "          '5.2542877197265625']],\n",
              " \n",
              "        [['CHAIR', '-0.570953369140625', '8.260452270507812',\n",
              "          '5.229171752929688'],\n",
              "         ['CHAIR', '-0.81622314453125', '8.244308471679688',\n",
              "          '5.284194946289063'],\n",
              "         ['CHAIR', '-0.986114501953125', '8.245498657226562',\n",
              "          '5.186691284179688'],\n",
              "         ['CHAIR', '-0.7593994140625', '8.392059326171875',\n",
              "          '5.19805908203125'],\n",
              "         ['CHAIR', '-0.7833251953125', '8.36932373046875',\n",
              "          '5.2542877197265625'],\n",
              "         ['CHAIR', '-0.8622894287109375', '8.332244873046875',\n",
              "          '5.199249267578125']]], dtype='<U19'),\n",
              " array(['CHAIR', 'CHAIR'], dtype='<U5'))"
            ]
          },
          "metadata": {},
          "execution_count": 62
        }
      ]
    },
    {
      "cell_type": "code",
      "metadata": {
        "colab": {
          "base_uri": "https://localhost:8080/",
          "height": 419
        },
        "id": "0UbkmHtiu8iZ",
        "outputId": "56f52389-972f-453b-e49f-30e0d27aac11"
      },
      "source": [
        "pd.concat([df['activity'],df['activity'].shift(-1), df['activity'].shift(-2)],axis=1)"
      ],
      "execution_count": 63,
      "outputs": [
        {
          "output_type": "execute_result",
          "data": {
            "text/html": [
              "<div>\n",
              "<style scoped>\n",
              "    .dataframe tbody tr th:only-of-type {\n",
              "        vertical-align: middle;\n",
              "    }\n",
              "\n",
              "    .dataframe tbody tr th {\n",
              "        vertical-align: top;\n",
              "    }\n",
              "\n",
              "    .dataframe thead th {\n",
              "        text-align: right;\n",
              "    }\n",
              "</style>\n",
              "<table border=\"1\" class=\"dataframe\">\n",
              "  <thead>\n",
              "    <tr style=\"text-align: right;\">\n",
              "      <th></th>\n",
              "      <th>activity</th>\n",
              "      <th>activity</th>\n",
              "      <th>activity</th>\n",
              "    </tr>\n",
              "  </thead>\n",
              "  <tbody>\n",
              "    <tr>\n",
              "      <th>0</th>\n",
              "      <td>CHAIR</td>\n",
              "      <td>CHAIR</td>\n",
              "      <td>CHAIR</td>\n",
              "    </tr>\n",
              "    <tr>\n",
              "      <th>1</th>\n",
              "      <td>CHAIR</td>\n",
              "      <td>CHAIR</td>\n",
              "      <td>CHAIR</td>\n",
              "    </tr>\n",
              "    <tr>\n",
              "      <th>2</th>\n",
              "      <td>CHAIR</td>\n",
              "      <td>CHAIR</td>\n",
              "      <td>CHAIR</td>\n",
              "    </tr>\n",
              "    <tr>\n",
              "      <th>3</th>\n",
              "      <td>CHAIR</td>\n",
              "      <td>CHAIR</td>\n",
              "      <td>CHAIR</td>\n",
              "    </tr>\n",
              "    <tr>\n",
              "      <th>4</th>\n",
              "      <td>CHAIR</td>\n",
              "      <td>CHAIR</td>\n",
              "      <td>CHAIR</td>\n",
              "    </tr>\n",
              "    <tr>\n",
              "      <th>...</th>\n",
              "      <td>...</td>\n",
              "      <td>...</td>\n",
              "      <td>...</td>\n",
              "    </tr>\n",
              "    <tr>\n",
              "      <th>93855</th>\n",
              "      <td>DOWNSTAIRS</td>\n",
              "      <td>DOWNSTAIRS</td>\n",
              "      <td>DOWNSTAIRS</td>\n",
              "    </tr>\n",
              "    <tr>\n",
              "      <th>93856</th>\n",
              "      <td>DOWNSTAIRS</td>\n",
              "      <td>DOWNSTAIRS</td>\n",
              "      <td>DOWNSTAIRS</td>\n",
              "    </tr>\n",
              "    <tr>\n",
              "      <th>93857</th>\n",
              "      <td>DOWNSTAIRS</td>\n",
              "      <td>DOWNSTAIRS</td>\n",
              "      <td>DOWNSTAIRS</td>\n",
              "    </tr>\n",
              "    <tr>\n",
              "      <th>93858</th>\n",
              "      <td>DOWNSTAIRS</td>\n",
              "      <td>DOWNSTAIRS</td>\n",
              "      <td>NaN</td>\n",
              "    </tr>\n",
              "    <tr>\n",
              "      <th>93859</th>\n",
              "      <td>DOWNSTAIRS</td>\n",
              "      <td>NaN</td>\n",
              "      <td>NaN</td>\n",
              "    </tr>\n",
              "  </tbody>\n",
              "</table>\n",
              "<p>93860 rows × 3 columns</p>\n",
              "</div>"
            ],
            "text/plain": [
              "         activity    activity    activity\n",
              "0           CHAIR       CHAIR       CHAIR\n",
              "1           CHAIR       CHAIR       CHAIR\n",
              "2           CHAIR       CHAIR       CHAIR\n",
              "3           CHAIR       CHAIR       CHAIR\n",
              "4           CHAIR       CHAIR       CHAIR\n",
              "...           ...         ...         ...\n",
              "93855  DOWNSTAIRS  DOWNSTAIRS  DOWNSTAIRS\n",
              "93856  DOWNSTAIRS  DOWNSTAIRS  DOWNSTAIRS\n",
              "93857  DOWNSTAIRS  DOWNSTAIRS  DOWNSTAIRS\n",
              "93858  DOWNSTAIRS  DOWNSTAIRS         NaN\n",
              "93859  DOWNSTAIRS         NaN         NaN\n",
              "\n",
              "[93860 rows x 3 columns]"
            ]
          },
          "metadata": {},
          "execution_count": 63
        }
      ]
    },
    {
      "cell_type": "code",
      "metadata": {
        "id": "W3PldIqvvdIZ"
      },
      "source": [
        "multi_target=pd.concat([df['activity'].shift(-1), df['activity'].shift(-2)],axis=1).dropna().to_numpy().tolist()"
      ],
      "execution_count": 64,
      "outputs": []
    },
    {
      "cell_type": "code",
      "metadata": {
        "colab": {
          "base_uri": "https://localhost:8080/"
        },
        "id": "ey9lkOg0v8Dr",
        "outputId": "05f9d2cf-9dd5-4ed9-fae3-9b0ef77e492e"
      },
      "source": [
        "multi_target[0:13]"
      ],
      "execution_count": 65,
      "outputs": [
        {
          "output_type": "execute_result",
          "data": {
            "text/plain": [
              "[['CHAIR', 'CHAIR'],\n",
              " ['CHAIR', 'CHAIR'],\n",
              " ['CHAIR', 'CHAIR'],\n",
              " ['CHAIR', 'CHAIR'],\n",
              " ['CHAIR', 'CHAIR'],\n",
              " ['CHAIR', 'CHAIR'],\n",
              " ['CHAIR', 'CHAIR'],\n",
              " ['CHAIR', 'CHAIR'],\n",
              " ['CHAIR', 'CHAIR'],\n",
              " ['CHAIR', 'CHAIR'],\n",
              " ['CHAIR', 'CHAIR'],\n",
              " ['CHAIR', 'CHAIR'],\n",
              " ['CHAIR', 'CHAIR']]"
            ]
          },
          "metadata": {},
          "execution_count": 65
        }
      ]
    },
    {
      "cell_type": "code",
      "metadata": {
        "id": "QhUNf-cqw8Co"
      },
      "source": [
        "ts_generator = TimeseriesGenerator(features[:-2], multi_target, length=6, sampling_rate=1, batch_size=1, stride=6)"
      ],
      "execution_count": 66,
      "outputs": []
    },
    {
      "cell_type": "code",
      "metadata": {
        "colab": {
          "base_uri": "https://localhost:8080/"
        },
        "id": "INPw4BntxRPe",
        "outputId": "1eb605c2-de67-4914-96b5-7d2016ccc353"
      },
      "source": [
        "ts_generator[0]"
      ],
      "execution_count": 67,
      "outputs": [
        {
          "output_type": "execute_result",
          "data": {
            "text/plain": [
              "(array([[['CHAIR', '-0.309539794921875', '7.679595947265625',\n",
              "          '6.14202880859375'],\n",
              "         ['CHAIR', '-0.5308837890625', '7.897354125976562',\n",
              "          '5.7657470703125'],\n",
              "         ['CHAIR', '-0.608642578125', '8.23114013671875',\n",
              "          '5.266845703125'],\n",
              "         ['CHAIR', '-0.570953369140625', '8.260452270507812',\n",
              "          '5.229171752929688'],\n",
              "         ['CHAIR', '-0.81622314453125', '8.244308471679688',\n",
              "          '5.284194946289063'],\n",
              "         ['CHAIR', '-0.986114501953125', '8.245498657226562',\n",
              "          '5.186691284179688']]], dtype='<U18'),\n",
              " array([['CHAIR', 'CHAIR']], dtype='<U5'))"
            ]
          },
          "metadata": {},
          "execution_count": 67
        }
      ]
    },
    {
      "cell_type": "code",
      "metadata": {
        "colab": {
          "base_uri": "https://localhost:8080/"
        },
        "id": "fX_bxayCxUFT",
        "outputId": "ad8ca6d9-0b9a-4d77-ab2a-af388f39579d"
      },
      "source": [
        "ts_generator[1]"
      ],
      "execution_count": 68,
      "outputs": [
        {
          "output_type": "execute_result",
          "data": {
            "text/plain": [
              "(array([[['CHAIR', '-0.7593994140625', '8.392059326171875',\n",
              "          '5.19805908203125'],\n",
              "         ['CHAIR', '-0.7833251953125', '8.36932373046875',\n",
              "          '5.2542877197265625'],\n",
              "         ['CHAIR', '-0.8622894287109375', '8.332244873046875',\n",
              "          '5.199249267578125'],\n",
              "         ['CHAIR', '-0.793487548828125', '8.415390014648438',\n",
              "          '5.134048461914063'],\n",
              "         ['CHAIR', '-0.7288818359375', '8.420181274414062',\n",
              "          '5.13165283203125'],\n",
              "         ['CHAIR', '-0.721710205078125', '8.36993408203125',\n",
              "          '5.129852294921875']]], dtype='<U19'),\n",
              " array([['CHAIR', 'CHAIR']], dtype='<U5'))"
            ]
          },
          "metadata": {},
          "execution_count": 68
        }
      ]
    }
  ]
}