{
  "nbformat": 4,
  "nbformat_minor": 0,
  "metadata": {
    "colab": {
      "name": "Time series functions for accelerometer.ipynb",
      "provenance": [],
      "collapsed_sections": [],
      "authorship_tag": "ABX9TyNmGMbd/qYeXHf8BOX4aIT7",
      "include_colab_link": true
    },
    "kernelspec": {
      "name": "python3",
      "display_name": "Python 3"
    },
    "language_info": {
      "name": "python"
    }
  },
  "cells": [
    {
      "cell_type": "markdown",
      "metadata": {
        "id": "view-in-github",
        "colab_type": "text"
      },
      "source": [
        "<a href=\"https://colab.research.google.com/github/AMEYABHAVE/Cristl/blob/main/Time_series_functions_for_accelerometer.ipynb\" target=\"_parent\"><img src=\"https://colab.research.google.com/assets/colab-badge.svg\" alt=\"Open In Colab\"/></a>"
      ]
    },
    {
      "cell_type": "code",
      "metadata": {
        "id": "20WxYis3T8Q5"
      },
      "source": [
        "import pandas as pd\n",
        "import matplotlib as mpl\n",
        "import matplotlib.pyplot as plt\n",
        "from keras.preprocessing.sequence import TimeseriesGenerator\n",
        "from IPython.display import Image, display\n",
        "\n",
        "mpl.rcParams['figure.figsize'] = (10,8)\n",
        "mpl.rcParams['axes.grid'] = False "
      ],
      "execution_count": null,
      "outputs": []
    },
    {
      "cell_type": "code",
      "metadata": {
        "id": "ILXXtyOSVrdM"
      },
      "source": [
        "df = pd.read_csv('https://zenodo.org/record/4642560/files/CHARM_v1.1_accelerometer.csv?download=1')"
      ],
      "execution_count": null,
      "outputs": []
    },
    {
      "cell_type": "code",
      "metadata": {
        "colab": {
          "base_uri": "https://localhost:8080/",
          "height": 419
        },
        "id": "4xIhnZRfV-kk",
        "outputId": "38a5c874-8387-48ed-f143-f4a1b1fd2240"
      },
      "source": [
        "df"
      ],
      "execution_count": null,
      "outputs": [
        {
          "output_type": "execute_result",
          "data": {
            "text/html": [
              "<div>\n",
              "<style scoped>\n",
              "    .dataframe tbody tr th:only-of-type {\n",
              "        vertical-align: middle;\n",
              "    }\n",
              "\n",
              "    .dataframe tbody tr th {\n",
              "        vertical-align: top;\n",
              "    }\n",
              "\n",
              "    .dataframe thead th {\n",
              "        text-align: right;\n",
              "    }\n",
              "</style>\n",
              "<table border=\"1\" class=\"dataframe\">\n",
              "  <thead>\n",
              "    <tr style=\"text-align: right;\">\n",
              "      <th></th>\n",
              "      <th>name</th>\n",
              "      <th>time</th>\n",
              "      <th>acc_x</th>\n",
              "      <th>acc_y</th>\n",
              "      <th>acc_z</th>\n",
              "      <th>activity</th>\n",
              "      <th>repetition</th>\n",
              "      <th>uuid</th>\n",
              "    </tr>\n",
              "  </thead>\n",
              "  <tbody>\n",
              "    <tr>\n",
              "      <th>0</th>\n",
              "      <td>accelerometer</td>\n",
              "      <td>1614343980512000000</td>\n",
              "      <td>-0.414825</td>\n",
              "      <td>7.590469</td>\n",
              "      <td>6.235336</td>\n",
              "      <td>CHAIR</td>\n",
              "      <td>1</td>\n",
              "      <td>33302ecf-c5e5-4c5e-aea9-8d0457cd8b51</td>\n",
              "    </tr>\n",
              "    <tr>\n",
              "      <th>1</th>\n",
              "      <td>accelerometer</td>\n",
              "      <td>1614343980552999936</td>\n",
              "      <td>-0.337662</td>\n",
              "      <td>7.645508</td>\n",
              "      <td>6.125275</td>\n",
              "      <td>CHAIR</td>\n",
              "      <td>1</td>\n",
              "      <td>33302ecf-c5e5-4c5e-aea9-8d0457cd8b51</td>\n",
              "    </tr>\n",
              "    <tr>\n",
              "      <th>2</th>\n",
              "      <td>accelerometer</td>\n",
              "      <td>1614343980593999872</td>\n",
              "      <td>-0.393295</td>\n",
              "      <td>7.605423</td>\n",
              "      <td>6.231155</td>\n",
              "      <td>CHAIR</td>\n",
              "      <td>1</td>\n",
              "      <td>33302ecf-c5e5-4c5e-aea9-8d0457cd8b51</td>\n",
              "    </tr>\n",
              "    <tr>\n",
              "      <th>3</th>\n",
              "      <td>accelerometer</td>\n",
              "      <td>1614343980636000000</td>\n",
              "      <td>-0.469269</td>\n",
              "      <td>7.592865</td>\n",
              "      <td>6.281403</td>\n",
              "      <td>CHAIR</td>\n",
              "      <td>1</td>\n",
              "      <td>33302ecf-c5e5-4c5e-aea9-8d0457cd8b51</td>\n",
              "    </tr>\n",
              "    <tr>\n",
              "      <th>4</th>\n",
              "      <td>accelerometer</td>\n",
              "      <td>1614343980678000128</td>\n",
              "      <td>-0.418411</td>\n",
              "      <td>7.633530</td>\n",
              "      <td>6.317307</td>\n",
              "      <td>CHAIR</td>\n",
              "      <td>1</td>\n",
              "      <td>33302ecf-c5e5-4c5e-aea9-8d0457cd8b51</td>\n",
              "    </tr>\n",
              "    <tr>\n",
              "      <th>...</th>\n",
              "      <td>...</td>\n",
              "      <td>...</td>\n",
              "      <td>...</td>\n",
              "      <td>...</td>\n",
              "      <td>...</td>\n",
              "      <td>...</td>\n",
              "      <td>...</td>\n",
              "      <td>...</td>\n",
              "    </tr>\n",
              "    <tr>\n",
              "      <th>296904</th>\n",
              "      <td>accelerometer</td>\n",
              "      <td>1616361346230000128</td>\n",
              "      <td>-0.861694</td>\n",
              "      <td>4.315292</td>\n",
              "      <td>7.433548</td>\n",
              "      <td>DOWNSTAIRS</td>\n",
              "      <td>6</td>\n",
              "      <td>9f6b4653-f4af-4c04-9b4e-3de934ff9345</td>\n",
              "    </tr>\n",
              "    <tr>\n",
              "      <th>296905</th>\n",
              "      <td>accelerometer</td>\n",
              "      <td>1616361346272000000</td>\n",
              "      <td>-1.169769</td>\n",
              "      <td>4.092163</td>\n",
              "      <td>7.233154</td>\n",
              "      <td>DOWNSTAIRS</td>\n",
              "      <td>6</td>\n",
              "      <td>9f6b4653-f4af-4c04-9b4e-3de934ff9345</td>\n",
              "    </tr>\n",
              "    <tr>\n",
              "      <th>296906</th>\n",
              "      <td>accelerometer</td>\n",
              "      <td>1616361346312999936</td>\n",
              "      <td>-1.048920</td>\n",
              "      <td>3.924057</td>\n",
              "      <td>7.743423</td>\n",
              "      <td>DOWNSTAIRS</td>\n",
              "      <td>6</td>\n",
              "      <td>9f6b4653-f4af-4c04-9b4e-3de934ff9345</td>\n",
              "    </tr>\n",
              "    <tr>\n",
              "      <th>296907</th>\n",
              "      <td>accelerometer</td>\n",
              "      <td>1616361346353999872</td>\n",
              "      <td>-0.819214</td>\n",
              "      <td>3.661453</td>\n",
              "      <td>8.512711</td>\n",
              "      <td>DOWNSTAIRS</td>\n",
              "      <td>6</td>\n",
              "      <td>9f6b4653-f4af-4c04-9b4e-3de934ff9345</td>\n",
              "    </tr>\n",
              "    <tr>\n",
              "      <th>296908</th>\n",
              "      <td>accelerometer</td>\n",
              "      <td>1616361346395000064</td>\n",
              "      <td>-0.474655</td>\n",
              "      <td>3.635727</td>\n",
              "      <td>7.899551</td>\n",
              "      <td>DOWNSTAIRS</td>\n",
              "      <td>6</td>\n",
              "      <td>9f6b4653-f4af-4c04-9b4e-3de934ff9345</td>\n",
              "    </tr>\n",
              "  </tbody>\n",
              "</table>\n",
              "<p>296909 rows × 8 columns</p>\n",
              "</div>"
            ],
            "text/plain": [
              "                 name  ...                                  uuid\n",
              "0       accelerometer  ...  33302ecf-c5e5-4c5e-aea9-8d0457cd8b51\n",
              "1       accelerometer  ...  33302ecf-c5e5-4c5e-aea9-8d0457cd8b51\n",
              "2       accelerometer  ...  33302ecf-c5e5-4c5e-aea9-8d0457cd8b51\n",
              "3       accelerometer  ...  33302ecf-c5e5-4c5e-aea9-8d0457cd8b51\n",
              "4       accelerometer  ...  33302ecf-c5e5-4c5e-aea9-8d0457cd8b51\n",
              "...               ...  ...                                   ...\n",
              "296904  accelerometer  ...  9f6b4653-f4af-4c04-9b4e-3de934ff9345\n",
              "296905  accelerometer  ...  9f6b4653-f4af-4c04-9b4e-3de934ff9345\n",
              "296906  accelerometer  ...  9f6b4653-f4af-4c04-9b4e-3de934ff9345\n",
              "296907  accelerometer  ...  9f6b4653-f4af-4c04-9b4e-3de934ff9345\n",
              "296908  accelerometer  ...  9f6b4653-f4af-4c04-9b4e-3de934ff9345\n",
              "\n",
              "[296909 rows x 8 columns]"
            ]
          },
          "metadata": {},
          "execution_count": 4
        }
      ]
    },
    {
      "cell_type": "code",
      "metadata": {
        "colab": {
          "base_uri": "https://localhost:8080/"
        },
        "id": "EbYOOMWyWAQU",
        "outputId": "1fbfc073-bc8e-445c-b9df-f3b366314bff"
      },
      "source": [
        "df.info()"
      ],
      "execution_count": null,
      "outputs": [
        {
          "output_type": "stream",
          "name": "stdout",
          "text": [
            "<class 'pandas.core.frame.DataFrame'>\n",
            "RangeIndex: 296909 entries, 0 to 296908\n",
            "Data columns (total 8 columns):\n",
            " #   Column      Non-Null Count   Dtype  \n",
            "---  ------      --------------   -----  \n",
            " 0   name        296909 non-null  object \n",
            " 1   time        296909 non-null  int64  \n",
            " 2   acc_x       296909 non-null  float64\n",
            " 3   acc_y       296909 non-null  float64\n",
            " 4   acc_z       296909 non-null  float64\n",
            " 5   activity    296909 non-null  object \n",
            " 6   repetition  296909 non-null  int64  \n",
            " 7   uuid        296909 non-null  object \n",
            "dtypes: float64(3), int64(2), object(3)\n",
            "memory usage: 18.1+ MB\n"
          ]
        }
      ]
    },
    {
      "cell_type": "code",
      "metadata": {
        "id": "Zz8p3tgSZNdo"
      },
      "source": [
        "df['time'] = pd.to_datetime(df['time'], infer_datetime_format=True)"
      ],
      "execution_count": null,
      "outputs": []
    },
    {
      "cell_type": "code",
      "metadata": {
        "colab": {
          "base_uri": "https://localhost:8080/",
          "height": 498
        },
        "id": "XQHdxHN_aBMb",
        "outputId": "3713549d-3546-421b-af00-a8fcd6f8d7f8"
      },
      "source": [
        "df.set_index('time')['acc_x'].plot()"
      ],
      "execution_count": null,
      "outputs": [
        {
          "output_type": "execute_result",
          "data": {
            "text/plain": [
              "<matplotlib.axes._subplots.AxesSubplot at 0x7f7fa3490b10>"
            ]
          },
          "metadata": {},
          "execution_count": 9
        },
        {
          "output_type": "display_data",
          "data": {
            "image/png": "[encoded data removed]",
            "text/plain": [
              "<Figure size 720x576 with 1 Axes>"
            ]
          },
          "metadata": {
            "needs_background": "light"
          }
        }
      ]
    },
    {
      "cell_type": "code",
      "metadata": {
        "colab": {
          "base_uri": "https://localhost:8080/",
          "height": 498
        },
        "id": "Xj6uBp3IaoSB",
        "outputId": "ab36c0f9-5285-474d-fab4-964c91b0cb29"
      },
      "source": [
        "df.set_index('time')['acc_y'].plot()"
      ],
      "execution_count": null,
      "outputs": [
        {
          "output_type": "execute_result",
          "data": {
            "text/plain": [
              "<matplotlib.axes._subplots.AxesSubplot at 0x7f7fa259d750>"
            ]
          },
          "metadata": {},
          "execution_count": 10
        },
        {
          "output_type": "display_data",
          "data": {
            "image/png": "[encoded data removed]",
            "text/plain": [
              "<Figure size 720x576 with 1 Axes>"
            ]
          },
          "metadata": {
            "needs_background": "light"
          }
        }
      ]
    },
    {
      "cell_type": "code",
      "metadata": {
        "colab": {
          "base_uri": "https://localhost:8080/",
          "height": 498
        },
        "id": "i1QTvf37asTe",
        "outputId": "8f1172e5-b775-49fc-fbeb-27bc9750f52a"
      },
      "source": [
        "df.set_index('time')['acc_z'].plot()"
      ],
      "execution_count": null,
      "outputs": [
        {
          "output_type": "execute_result",
          "data": {
            "text/plain": [
              "<matplotlib.axes._subplots.AxesSubplot at 0x7f7fa1323190>"
            ]
          },
          "metadata": {},
          "execution_count": 11
        },
        {
          "output_type": "display_data",
          "data": {
            "image/png": "[encoded data removed]",
            "text/plain": [
              "<Figure size 720x576 with 1 Axes>"
            ]
          },
          "metadata": {
            "needs_background": "light"
          }
        }
      ]
    },
    {
      "cell_type": "code",
      "metadata": {
        "colab": {
          "base_uri": "https://localhost:8080/",
          "height": 566
        },
        "id": "jYsCTbIHddmH",
        "outputId": "c4b25e6d-057a-4d98-9c8a-226e41dedb58"
      },
      "source": [
        "df.set_index('time')[['repetition','acc_x','acc_y','acc_z',]].plot(subplots=True)"
      ],
      "execution_count": null,
      "outputs": [
        {
          "output_type": "execute_result",
          "data": {
            "text/plain": [
              "array([<matplotlib.axes._subplots.AxesSubplot object at 0x7f7f9f576410>,\n",
              "       <matplotlib.axes._subplots.AxesSubplot object at 0x7f7f9d6dc6d0>,\n",
              "       <matplotlib.axes._subplots.AxesSubplot object at 0x7f7ff5e87310>,\n",
              "       <matplotlib.axes._subplots.AxesSubplot object at 0x7f7f9c6b0810>],\n",
              "      dtype=object)"
            ]
          },
          "metadata": {},
          "execution_count": 16
        },
        {
          "output_type": "display_data",
          "data": {
            "image/png": "[encoded data removed]",
            "text/plain": [
              "<Figure size 720x576 with 4 Axes>"
            ]
          },
          "metadata": {
            "needs_background": "light"
          }
        }
      ]
    },
    {
      "cell_type": "code",
      "metadata": {
        "id": "3JHhQJ2WehIP",
        "colab": {
          "base_uri": "https://localhost:8080/"
        },
        "outputId": "d9a7481a-5578-498a-b198-8f76ba8c0fa3"
      },
      "source": [
        "df.count()"
      ],
      "execution_count": null,
      "outputs": [
        {
          "output_type": "execute_result",
          "data": {
            "text/plain": [
              "name          296909\n",
              "time          296909\n",
              "acc_x         296909\n",
              "acc_y         296909\n",
              "acc_z         296909\n",
              "activity      296909\n",
              "repetition    296909\n",
              "uuid          296909\n",
              "dtype: int64"
            ]
          },
          "metadata": {},
          "execution_count": 17
        }
      ]
    },
    {
      "cell_type": "code",
      "metadata": {
        "id": "mN-ul5n5elf5"
      },
      "source": [
        "features=df[['activity','acc_x','acc_y','acc_z']].to_numpy().tolist()\n",
        "target=df['activity'].tolist()"
      ],
      "execution_count": 18,
      "outputs": []
    },
    {
      "cell_type": "code",
      "metadata": {
        "colab": {
          "base_uri": "https://localhost:8080/"
        },
        "id": "UKaj0sH4q1ky",
        "outputId": "f776b917-52ff-4193-f542-be66eb8e517c"
      },
      "source": [
        "features[0:11]"
      ],
      "execution_count": 19,
      "outputs": [
        {
          "output_type": "execute_result",
          "data": {
            "text/plain": [
              "[['CHAIR', -0.414825439453125, 7.590469360351562, 6.2353363037109375],\n",
              " ['CHAIR', -0.3376617431640625, 7.6455078125, 6.125274658203125],\n",
              " ['CHAIR', -0.3932952880859375, 7.6054229736328125, 6.2311553955078125],\n",
              " ['CHAIR', -0.469268798828125, 7.592864990234375, 6.281402587890625],\n",
              " ['CHAIR', -0.4184112548828125, 7.6335296630859375, 6.317306518554688],\n",
              " ['CHAIR', -0.427398681640625, 7.616790771484375, 6.25628662109375],\n",
              " ['CHAIR', -0.4154205322265625, 7.640716552734375, 6.182708740234375],\n",
              " ['CHAIR', -0.436370849609375, 7.57012939453125, 6.386688232421875],\n",
              " ['CHAIR', -0.3454437255859375, 7.617385864257812, 6.167160034179688],\n",
              " ['CHAIR', -0.4124298095703125, 7.665252685546875, 5.9362335205078125],\n",
              " ['CHAIR', -0.484222412109375, 7.5856781005859375, 6.1593780517578125]]"
            ]
          },
          "metadata": {},
          "execution_count": 19
        }
      ]
    },
    {
      "cell_type": "code",
      "metadata": {
        "colab": {
          "base_uri": "https://localhost:8080/"
        },
        "id": "XLfALTIJq6_Y",
        "outputId": "cf0bf100-4fc8-4844-d8ff-22ea86dfc17a"
      },
      "source": [
        "target[0:11]"
      ],
      "execution_count": 20,
      "outputs": [
        {
          "output_type": "execute_result",
          "data": {
            "text/plain": [
              "['CHAIR',\n",
              " 'CHAIR',\n",
              " 'CHAIR',\n",
              " 'CHAIR',\n",
              " 'CHAIR',\n",
              " 'CHAIR',\n",
              " 'CHAIR',\n",
              " 'CHAIR',\n",
              " 'CHAIR',\n",
              " 'CHAIR',\n",
              " 'CHAIR']"
            ]
          },
          "metadata": {},
          "execution_count": 20
        }
      ]
    },
    {
      "cell_type": "code",
      "metadata": {
        "id": "nCnAHto2rVIJ"
      },
      "source": [
        "ts_generator = TimeseriesGenerator(features, target, length=6, sampling_rate=1, batch_size=1)"
      ],
      "execution_count": 21,
      "outputs": []
    },
    {
      "cell_type": "code",
      "metadata": {
        "colab": {
          "base_uri": "https://localhost:8080/"
        },
        "id": "I-D2jhNLrs7f",
        "outputId": "d76992e0-2ab6-44a9-ae81-99dfb699c4fd"
      },
      "source": [
        "ts_generator[0]"
      ],
      "execution_count": 22,
      "outputs": [
        {
          "output_type": "execute_result",
          "data": {
            "text/plain": [
              "(array([[['CHAIR', '-0.414825439453125', '7.590469360351562',\n",
              "          '6.2353363037109375'],\n",
              "         ['CHAIR', '-0.3376617431640625', '7.6455078125',\n",
              "          '6.125274658203125'],\n",
              "         ['CHAIR', '-0.3932952880859375', '7.6054229736328125',\n",
              "          '6.2311553955078125'],\n",
              "         ['CHAIR', '-0.469268798828125', '7.592864990234375',\n",
              "          '6.281402587890625'],\n",
              "         ['CHAIR', '-0.4184112548828125', '7.6335296630859375',\n",
              "          '6.317306518554688'],\n",
              "         ['CHAIR', '-0.427398681640625', '7.616790771484375',\n",
              "          '6.25628662109375']]], dtype='<U19'), array(['CHAIR'], dtype='<U5'))"
            ]
          },
          "metadata": {},
          "execution_count": 22
        }
      ]
    },
    {
      "cell_type": "code",
      "metadata": {
        "colab": {
          "base_uri": "https://localhost:8080/"
        },
        "id": "7mk3OqoArwaI",
        "outputId": "8006d204-c884-4ce4-ec1d-6ce9d4aa8f1b"
      },
      "source": [
        "ts_generator[0][0][0].shape"
      ],
      "execution_count": 23,
      "outputs": [
        {
          "output_type": "execute_result",
          "data": {
            "text/plain": [
              "(6, 4)"
            ]
          },
          "metadata": {},
          "execution_count": 23
        }
      ]
    },
    {
      "cell_type": "code",
      "metadata": {
        "colab": {
          "base_uri": "https://localhost:8080/"
        },
        "id": "EzHmrDHpr45P",
        "outputId": "aaa09872-c5d1-4165-bc78-f626d45f63a0"
      },
      "source": [
        "ts_generator[1]"
      ],
      "execution_count": 24,
      "outputs": [
        {
          "output_type": "execute_result",
          "data": {
            "text/plain": [
              "(array([[['CHAIR', '-0.3376617431640625', '7.6455078125',\n",
              "          '6.125274658203125'],\n",
              "         ['CHAIR', '-0.3932952880859375', '7.6054229736328125',\n",
              "          '6.2311553955078125'],\n",
              "         ['CHAIR', '-0.469268798828125', '7.592864990234375',\n",
              "          '6.281402587890625'],\n",
              "         ['CHAIR', '-0.4184112548828125', '7.6335296630859375',\n",
              "          '6.317306518554688'],\n",
              "         ['CHAIR', '-0.427398681640625', '7.616790771484375',\n",
              "          '6.25628662109375'],\n",
              "         ['CHAIR', '-0.4154205322265625', '7.640716552734375',\n",
              "          '6.182708740234375']]], dtype='<U19'), array(['CHAIR'], dtype='<U5'))"
            ]
          },
          "metadata": {},
          "execution_count": 24
        }
      ]
    },
    {
      "cell_type": "code",
      "metadata": {
        "colab": {
          "base_uri": "https://localhost:8080/"
        },
        "id": "ACT8HK5er9EC",
        "outputId": "0de81b27-5754-4a86-e07a-f725249ffd27"
      },
      "source": [
        "ts_generator[2]"
      ],
      "execution_count": 25,
      "outputs": [
        {
          "output_type": "execute_result",
          "data": {
            "text/plain": [
              "(array([[['CHAIR', '-0.3932952880859375', '7.6054229736328125',\n",
              "          '6.2311553955078125'],\n",
              "         ['CHAIR', '-0.469268798828125', '7.592864990234375',\n",
              "          '6.281402587890625'],\n",
              "         ['CHAIR', '-0.4184112548828125', '7.6335296630859375',\n",
              "          '6.317306518554688'],\n",
              "         ['CHAIR', '-0.427398681640625', '7.616790771484375',\n",
              "          '6.25628662109375'],\n",
              "         ['CHAIR', '-0.4154205322265625', '7.640716552734375',\n",
              "          '6.182708740234375'],\n",
              "         ['CHAIR', '-0.436370849609375', '7.57012939453125',\n",
              "          '6.386688232421875']]], dtype='<U19'), array(['CHAIR'], dtype='<U5'))"
            ]
          },
          "metadata": {},
          "execution_count": 25
        }
      ]
    },
    {
      "cell_type": "code",
      "metadata": {
        "colab": {
          "base_uri": "https://localhost:8080/"
        },
        "id": "shPplAX5sA6o",
        "outputId": "f95cea91-1e00-4595-ba1b-c23c951ee8ab"
      },
      "source": [
        "len(ts_generator)"
      ],
      "execution_count": 26,
      "outputs": [
        {
          "output_type": "execute_result",
          "data": {
            "text/plain": [
              "296903"
            ]
          },
          "metadata": {},
          "execution_count": 26
        }
      ]
    },
    {
      "cell_type": "code",
      "metadata": {
        "id": "churR3YluXjV"
      },
      "source": [
        "ts_generator = TimeseriesGenerator(features, target, length=6, sampling_rate=1, batch_size=2)"
      ],
      "execution_count": 27,
      "outputs": []
    },
    {
      "cell_type": "code",
      "metadata": {
        "colab": {
          "base_uri": "https://localhost:8080/"
        },
        "id": "WlUbVpA9uw-p",
        "outputId": "53fbeab8-52b7-4392-f0e1-08ddeea7da0d"
      },
      "source": [
        "len(ts_generator)"
      ],
      "execution_count": 28,
      "outputs": [
        {
          "output_type": "execute_result",
          "data": {
            "text/plain": [
              "148452"
            ]
          },
          "metadata": {},
          "execution_count": 28
        }
      ]
    },
    {
      "cell_type": "code",
      "metadata": {
        "colab": {
          "base_uri": "https://localhost:8080/"
        },
        "id": "4llvkPNMu0RT",
        "outputId": "5de68e84-5cfa-43ba-983e-e7ba73813cf7"
      },
      "source": [
        "ts_generator[0]"
      ],
      "execution_count": 29,
      "outputs": [
        {
          "output_type": "execute_result",
          "data": {
            "text/plain": [
              "(array([[['CHAIR', '-0.414825439453125', '7.590469360351562',\n",
              "          '6.2353363037109375'],\n",
              "         ['CHAIR', '-0.3376617431640625', '7.6455078125',\n",
              "          '6.125274658203125'],\n",
              "         ['CHAIR', '-0.3932952880859375', '7.6054229736328125',\n",
              "          '6.2311553955078125'],\n",
              "         ['CHAIR', '-0.469268798828125', '7.592864990234375',\n",
              "          '6.281402587890625'],\n",
              "         ['CHAIR', '-0.4184112548828125', '7.6335296630859375',\n",
              "          '6.317306518554688'],\n",
              "         ['CHAIR', '-0.427398681640625', '7.616790771484375',\n",
              "          '6.25628662109375']],\n",
              " \n",
              "        [['CHAIR', '-0.3376617431640625', '7.6455078125',\n",
              "          '6.125274658203125'],\n",
              "         ['CHAIR', '-0.3932952880859375', '7.6054229736328125',\n",
              "          '6.2311553955078125'],\n",
              "         ['CHAIR', '-0.469268798828125', '7.592864990234375',\n",
              "          '6.281402587890625'],\n",
              "         ['CHAIR', '-0.4184112548828125', '7.6335296630859375',\n",
              "          '6.317306518554688'],\n",
              "         ['CHAIR', '-0.427398681640625', '7.616790771484375',\n",
              "          '6.25628662109375'],\n",
              "         ['CHAIR', '-0.4154205322265625', '7.640716552734375',\n",
              "          '6.182708740234375']]], dtype='<U19'),\n",
              " array(['CHAIR', 'CHAIR'], dtype='<U5'))"
            ]
          },
          "metadata": {},
          "execution_count": 29
        }
      ]
    },
    {
      "cell_type": "code",
      "metadata": {
        "colab": {
          "base_uri": "https://localhost:8080/"
        },
        "id": "4RkV_x_uu4qz",
        "outputId": "28af752e-f7f7-4e07-f27c-218ee2482f7a"
      },
      "source": [
        "ts_generator[1]"
      ],
      "execution_count": 30,
      "outputs": [
        {
          "output_type": "execute_result",
          "data": {
            "text/plain": [
              "(array([[['CHAIR', '-0.3932952880859375', '7.6054229736328125',\n",
              "          '6.2311553955078125'],\n",
              "         ['CHAIR', '-0.469268798828125', '7.592864990234375',\n",
              "          '6.281402587890625'],\n",
              "         ['CHAIR', '-0.4184112548828125', '7.6335296630859375',\n",
              "          '6.317306518554688'],\n",
              "         ['CHAIR', '-0.427398681640625', '7.616790771484375',\n",
              "          '6.25628662109375'],\n",
              "         ['CHAIR', '-0.4154205322265625', '7.640716552734375',\n",
              "          '6.182708740234375'],\n",
              "         ['CHAIR', '-0.436370849609375', '7.57012939453125',\n",
              "          '6.386688232421875']],\n",
              " \n",
              "        [['CHAIR', '-0.469268798828125', '7.592864990234375',\n",
              "          '6.281402587890625'],\n",
              "         ['CHAIR', '-0.4184112548828125', '7.6335296630859375',\n",
              "          '6.317306518554688'],\n",
              "         ['CHAIR', '-0.427398681640625', '7.616790771484375',\n",
              "          '6.25628662109375'],\n",
              "         ['CHAIR', '-0.4154205322265625', '7.640716552734375',\n",
              "          '6.182708740234375'],\n",
              "         ['CHAIR', '-0.436370849609375', '7.57012939453125',\n",
              "          '6.386688232421875'],\n",
              "         ['CHAIR', '-0.3454437255859375', '7.617385864257812',\n",
              "          '6.167160034179688']]], dtype='<U19'),\n",
              " array(['CHAIR', 'CHAIR'], dtype='<U5'))"
            ]
          },
          "metadata": {},
          "execution_count": 30
        }
      ]
    },
    {
      "cell_type": "code",
      "metadata": {
        "colab": {
          "base_uri": "https://localhost:8080/",
          "height": 419
        },
        "id": "0UbkmHtiu8iZ",
        "outputId": "be755586-5062-42ea-c30a-87030250ef22"
      },
      "source": [
        "pd.concat([df['activity'],df['activity'].shift(-1), df['activity'].shift(-2)],axis=1)"
      ],
      "execution_count": 31,
      "outputs": [
        {
          "output_type": "execute_result",
          "data": {
            "text/html": [
              "<div>\n",
              "<style scoped>\n",
              "    .dataframe tbody tr th:only-of-type {\n",
              "        vertical-align: middle;\n",
              "    }\n",
              "\n",
              "    .dataframe tbody tr th {\n",
              "        vertical-align: top;\n",
              "    }\n",
              "\n",
              "    .dataframe thead th {\n",
              "        text-align: right;\n",
              "    }\n",
              "</style>\n",
              "<table border=\"1\" class=\"dataframe\">\n",
              "  <thead>\n",
              "    <tr style=\"text-align: right;\">\n",
              "      <th></th>\n",
              "      <th>activity</th>\n",
              "      <th>activity</th>\n",
              "      <th>activity</th>\n",
              "    </tr>\n",
              "  </thead>\n",
              "  <tbody>\n",
              "    <tr>\n",
              "      <th>0</th>\n",
              "      <td>CHAIR</td>\n",
              "      <td>CHAIR</td>\n",
              "      <td>CHAIR</td>\n",
              "    </tr>\n",
              "    <tr>\n",
              "      <th>1</th>\n",
              "      <td>CHAIR</td>\n",
              "      <td>CHAIR</td>\n",
              "      <td>CHAIR</td>\n",
              "    </tr>\n",
              "    <tr>\n",
              "      <th>2</th>\n",
              "      <td>CHAIR</td>\n",
              "      <td>CHAIR</td>\n",
              "      <td>CHAIR</td>\n",
              "    </tr>\n",
              "    <tr>\n",
              "      <th>3</th>\n",
              "      <td>CHAIR</td>\n",
              "      <td>CHAIR</td>\n",
              "      <td>CHAIR</td>\n",
              "    </tr>\n",
              "    <tr>\n",
              "      <th>4</th>\n",
              "      <td>CHAIR</td>\n",
              "      <td>CHAIR</td>\n",
              "      <td>CHAIR</td>\n",
              "    </tr>\n",
              "    <tr>\n",
              "      <th>...</th>\n",
              "      <td>...</td>\n",
              "      <td>...</td>\n",
              "      <td>...</td>\n",
              "    </tr>\n",
              "    <tr>\n",
              "      <th>296904</th>\n",
              "      <td>DOWNSTAIRS</td>\n",
              "      <td>DOWNSTAIRS</td>\n",
              "      <td>DOWNSTAIRS</td>\n",
              "    </tr>\n",
              "    <tr>\n",
              "      <th>296905</th>\n",
              "      <td>DOWNSTAIRS</td>\n",
              "      <td>DOWNSTAIRS</td>\n",
              "      <td>DOWNSTAIRS</td>\n",
              "    </tr>\n",
              "    <tr>\n",
              "      <th>296906</th>\n",
              "      <td>DOWNSTAIRS</td>\n",
              "      <td>DOWNSTAIRS</td>\n",
              "      <td>DOWNSTAIRS</td>\n",
              "    </tr>\n",
              "    <tr>\n",
              "      <th>296907</th>\n",
              "      <td>DOWNSTAIRS</td>\n",
              "      <td>DOWNSTAIRS</td>\n",
              "      <td>NaN</td>\n",
              "    </tr>\n",
              "    <tr>\n",
              "      <th>296908</th>\n",
              "      <td>DOWNSTAIRS</td>\n",
              "      <td>NaN</td>\n",
              "      <td>NaN</td>\n",
              "    </tr>\n",
              "  </tbody>\n",
              "</table>\n",
              "<p>296909 rows × 3 columns</p>\n",
              "</div>"
            ],
            "text/plain": [
              "          activity    activity    activity\n",
              "0            CHAIR       CHAIR       CHAIR\n",
              "1            CHAIR       CHAIR       CHAIR\n",
              "2            CHAIR       CHAIR       CHAIR\n",
              "3            CHAIR       CHAIR       CHAIR\n",
              "4            CHAIR       CHAIR       CHAIR\n",
              "...            ...         ...         ...\n",
              "296904  DOWNSTAIRS  DOWNSTAIRS  DOWNSTAIRS\n",
              "296905  DOWNSTAIRS  DOWNSTAIRS  DOWNSTAIRS\n",
              "296906  DOWNSTAIRS  DOWNSTAIRS  DOWNSTAIRS\n",
              "296907  DOWNSTAIRS  DOWNSTAIRS         NaN\n",
              "296908  DOWNSTAIRS         NaN         NaN\n",
              "\n",
              "[296909 rows x 3 columns]"
            ]
          },
          "metadata": {},
          "execution_count": 31
        }
      ]
    },
    {
      "cell_type": "code",
      "metadata": {
        "id": "W3PldIqvvdIZ"
      },
      "source": [
        "multi_target=pd.concat([df['activity'].shift(-1), df['activity'].shift(-2)],axis=1).dropna().to_numpy().tolist()"
      ],
      "execution_count": 34,
      "outputs": []
    },
    {
      "cell_type": "code",
      "metadata": {
        "colab": {
          "base_uri": "https://localhost:8080/"
        },
        "id": "ey9lkOg0v8Dr",
        "outputId": "f88f7c04-d28e-494c-d157-23c73ae64e85"
      },
      "source": [
        "multi_target[0:13]"
      ],
      "execution_count": 35,
      "outputs": [
        {
          "output_type": "execute_result",
          "data": {
            "text/plain": [
              "[['CHAIR', 'CHAIR'],\n",
              " ['CHAIR', 'CHAIR'],\n",
              " ['CHAIR', 'CHAIR'],\n",
              " ['CHAIR', 'CHAIR'],\n",
              " ['CHAIR', 'CHAIR'],\n",
              " ['CHAIR', 'CHAIR'],\n",
              " ['CHAIR', 'CHAIR'],\n",
              " ['CHAIR', 'CHAIR'],\n",
              " ['CHAIR', 'CHAIR'],\n",
              " ['CHAIR', 'CHAIR'],\n",
              " ['CHAIR', 'CHAIR'],\n",
              " ['CHAIR', 'CHAIR'],\n",
              " ['CHAIR', 'CHAIR']]"
            ]
          },
          "metadata": {},
          "execution_count": 35
        }
      ]
    },
    {
      "cell_type": "code",
      "metadata": {
        "id": "QhUNf-cqw8Co"
      },
      "source": [
        "ts_generator = TimeseriesGenerator(features[:-2], multi_target, length=6, sampling_rate=1, batch_size=1, stride=6)"
      ],
      "execution_count": 36,
      "outputs": []
    },
    {
      "cell_type": "code",
      "metadata": {
        "colab": {
          "base_uri": "https://localhost:8080/"
        },
        "id": "INPw4BntxRPe",
        "outputId": "deeccf6f-819b-4f26-897c-6e74fd603b81"
      },
      "source": [
        "ts_generator[0]"
      ],
      "execution_count": 37,
      "outputs": [
        {
          "output_type": "execute_result",
          "data": {
            "text/plain": [
              "(array([[['CHAIR', '-0.414825439453125', '7.590469360351562',\n",
              "          '6.2353363037109375'],\n",
              "         ['CHAIR', '-0.3376617431640625', '7.6455078125',\n",
              "          '6.125274658203125'],\n",
              "         ['CHAIR', '-0.3932952880859375', '7.6054229736328125',\n",
              "          '6.2311553955078125'],\n",
              "         ['CHAIR', '-0.469268798828125', '7.592864990234375',\n",
              "          '6.281402587890625'],\n",
              "         ['CHAIR', '-0.4184112548828125', '7.6335296630859375',\n",
              "          '6.317306518554688'],\n",
              "         ['CHAIR', '-0.427398681640625', '7.616790771484375',\n",
              "          '6.25628662109375']]], dtype='<U19'),\n",
              " array([['CHAIR', 'CHAIR']], dtype='<U5'))"
            ]
          },
          "metadata": {},
          "execution_count": 37
        }
      ]
    },
    {
      "cell_type": "code",
      "metadata": {
        "colab": {
          "base_uri": "https://localhost:8080/"
        },
        "id": "fX_bxayCxUFT",
        "outputId": "dc174724-2d6c-43a7-cdaa-0cfa7a624675"
      },
      "source": [
        "ts_generator[1]"
      ],
      "execution_count": 38,
      "outputs": [
        {
          "output_type": "execute_result",
          "data": {
            "text/plain": [
              "(array([[['CHAIR', '-0.4154205322265625', '7.640716552734375',\n",
              "          '6.182708740234375'],\n",
              "         ['CHAIR', '-0.436370849609375', '7.57012939453125',\n",
              "          '6.386688232421875'],\n",
              "         ['CHAIR', '-0.3454437255859375', '7.617385864257812',\n",
              "          '6.167160034179688'],\n",
              "         ['CHAIR', '-0.4124298095703125', '7.665252685546875',\n",
              "          '5.9362335205078125'],\n",
              "         ['CHAIR', '-0.484222412109375', '7.5856781005859375',\n",
              "          '6.1593780517578125'],\n",
              "         ['CHAIR', '-0.4220123291015625', '7.61260986328125',\n",
              "          '6.3155059814453125']]], dtype='<U19'),\n",
              " array([['CHAIR', 'CHAIR']], dtype='<U5'))"
            ]
          },
          "metadata": {},
          "execution_count": 38
        }
      ]
    }
  ]
}